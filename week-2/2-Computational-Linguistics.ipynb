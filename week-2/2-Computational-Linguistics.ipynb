{
 "cells": [
  {
   "cell_type": "markdown",
   "metadata": {},
   "source": [
    "# Week 2 - Counting Words & Phrases (Computational Linguistics)\n",
    "This week, we take text corpora that we have developed, spidered, scraped, and encoded, and we find and count words, simple and parsed phrases and explore the statistical properties of those counts (e.g., word frequency distributions). Initially, we model how to search corpora for keywords or phrases. Next, we examine the distributions of terms and phrases across a corpus, and the correlation between different words and phrase counts. In order to do this effectively, we coarsely disambiguate words based of part-of-speech (POS) tagging, and normalize them through stemming and lemmatization. Next we distinguish *important* words and phrase within the corpus, and image them with Wordls! Then we calculate word frequenceis, conditional frequences (the frequency of word *shock* conditional on the presence of word *awe*), and statistically significant collocations of lengths 2 through $n$. Finally, we calculate and visualize Differences (Divergences and Distances) between the word frequency distributions from two corpora. \n",
    "\n",
    "Then we shift to focus not simply on the *ideas* in a corpus, but also extracting precise *claims*. This process involves a sequential pipeline of classifying and structuring tokens from text, each of which generates potentially useful data for the content analyst. Steps in this process, which we examine in this notebook, include: 1) tagging words by their part of speech (POS) to reveal the linguistic role they play in the sentence (e.g., Verb, Noun, Adjective, etc.); 2) tagging words as named entities (NER) such as places or organizations; 3) structuring or \"parsing\" sentences into nested phrases that are local to, describe or depend on one another; and 4) extracting informational claims from those phrases.\n",
    "\n",
    "We will be introducing spaCy as a package for Computational Linguistics, and also walk you through how to use the Davies Corpora. \n",
    "\n",
    "While we wish to avoid using NLTK for heavy corpus analysis, some of its smaller functions can still be useful.\n",
    "\n",
    "Of course, for final projects that draw on these tools, we encourage you to install the software on your own machines or shared servers at the university (RCC, SSRC) in order to perform these operations on much more text. \n",
    "\n",
    "For this notebook we will be using the following packages:\n"
   ]
  },
  {
   "cell_type": "code",
   "execution_count": 1,
   "metadata": {},
   "outputs": [],
   "source": [
    "#Special module written for this class\n",
    "#This provides access to data and to helper functions from previous weeks\n",
    "import lucem_illud #just in case, regularly update your lucem_illud with the following code: pip install git+git://github.com/UChicago-Computational-Content-Analysis/lucem_illud.git\n",
    "\n",
    "#All these packages need to be installed from pip\n",
    "import requests #for http requests\n",
    "import pandas #gives us DataFrames\n",
    "import matplotlib.pyplot as plt #For graphics\n",
    "import wordcloud #Makes word clouds\n",
    "import numpy as np #For divergences/distances\n",
    "import scipy #For divergences/distances\n",
    "import seaborn as sns #makes our plots look nicer\n",
    "import sklearn.manifold #For a manifold plot\n",
    "import json #For API responses\n",
    "import urllib.parse #For joining urls\n",
    "\n",
    "# comp-linguistics\n",
    "import spacy\n",
    "\n",
    "#Displays the graphs\n",
    "import graphviz #You also need to install the command line graphviz\n",
    "\n",
    "#These are from the standard library\n",
    "import os.path\n",
    "import zipfile\n",
    "import subprocess\n",
    "import io\n",
    "import tempfile\n",
    "\n",
    "#This 'magic' command makes the plots work better\n",
    "#in the notebook, don't use it outside of a notebook\n",
    "%matplotlib inline"
   ]
  },
  {
   "cell_type": "markdown",
   "metadata": {},
   "source": [
    "# Retrieving exemplary corpora\n",
    "\n",
    "To get started we will need some examples. Let's start by downloading one of the corpuses from the Davies set purchased for this class and developed by a computational linguist at Brigham Young University. We can get a list of works available from the [corpora here](https://www.english-corpora.org/).\n",
    "\n",
    "In this notebook, I will be accessing the data locally - you also have access to this data through the Dropbox download link. The same code can be modified slighlty to access the rest of the corpora on RCC. \n",
    "There is a notebook describing this process in the same repository, as well as in the same directory on RCC."
   ]
  },
  {
   "cell_type": "code",
   "execution_count": 2,
   "metadata": {},
   "outputs": [],
   "source": [
    "corpus_name = \"D:/MovieCorpus/\" \n",
    "# corpus_name = \"Movies\""
   ]
  },
  {
   "cell_type": "markdown",
   "metadata": {},
   "source": [
    "Just to be clear, your corpus_name should be different since you're not bhargav. Modify the corpus_name with your directory. This method extracts the text from the zip files and stroes the raw data."
   ]
  },
  {
   "cell_type": "code",
   "execution_count": 3,
   "metadata": {},
   "outputs": [],
   "source": [
    "def loadcorpus(corpus_name, corpus_style=\"text\"):\n",
    "    texts_raw = {}\n",
    "    for file in os.listdir(corpus_name + \"/\"):\n",
    "        if corpus_style in file:\n",
    "            print(file)\n",
    "            zfile = zipfile.ZipFile(corpus_name + \"/\" + file)\n",
    "            for file in zfile.namelist():\n",
    "                texts_raw[file] = []\n",
    "                with zfile.open(file) as f:\n",
    "                    for line in f:\n",
    "                        texts_raw[file].append(line)\n",
    "    return texts_raw"
   ]
  },
  {
   "cell_type": "code",
   "execution_count": 20,
   "metadata": {},
   "outputs": [
    {
     "name": "stdout",
     "output_type": "stream",
     "text": [
      "text_00_myn.zip\n",
      "text_01_ote.zip\n",
      "text_02_mqu.zip\n",
      "text_03_mnq.zip\n",
      "text_04_mlq.zip\n",
      "text_05_nko.zip\n",
      "text_06_jfy.zip\n",
      "text_07_oma.zip\n",
      "text_08_loh.zip\n",
      "text_09_oii.zip\n",
      "text_10_aoy.zip\n",
      "text_11_uoy.zip\n",
      "text_12_rcq.zip\n",
      "text_13_idi.zip\n",
      "text_14_lnc.zip\n",
      "text_15_guo.zip\n",
      "text_16_qll.zip\n",
      "text_17_arp.zip\n",
      "text_18_jfj.zip\n",
      "text_19_gvc.zip\n",
      "text_20_cde.zip\n",
      "text_21_fqa.zip\n",
      "text_22_etp.zip\n",
      "text_23_fmh.zip\n",
      "text_24_ywo.zip\n",
      "text_25_byg.zip\n",
      "text_26_ngj.zip\n",
      "text_27_fle.zip\n",
      "text_28_rfy.zip\n",
      "text_29_oye.zip\n",
      "text_30_wkp.zip\n",
      "text_31_akv.zip\n",
      "text_32_ldf.zip\n",
      "text_33_kje.zip\n"
     ]
    }
   ],
   "source": [
    "movie_raw = loadcorpus(corpus_name)"
   ]
  },
  {
   "cell_type": "code",
   "execution_count": 27,
   "metadata": {},
   "outputs": [],
   "source": [
    "#movie_raw['11.txt'][0:3]"
   ]
  },
  {
   "cell_type": "markdown",
   "metadata": {},
   "source": [
    "It seems messy, but nothing we can't clean. This basic method replaces some of the issues with the formatting, and prints the errors if any for debugging. Let us clean one of the raw text files.\n",
    "\n",
    "We ignore the non-unicode data for convenience in our first pass."
   ]
  },
  {
   "cell_type": "code",
   "execution_count": 9,
   "metadata": {},
   "outputs": [],
   "source": [
    "def clean_raw_text(raw_texts):\n",
    "    clean_texts = []\n",
    "    for text in raw_texts:\n",
    "        try:\n",
    "            text = text.decode(\"utf-8\")\n",
    "            clean_text = text.replace(\" \\'m\", \"'m\").replace(\" \\'ll\", \"'ll\").replace(\" \\'re\", \"'re\").replace(\" \\'s\", \"'s\").replace(\" \\'re\", \"'re\").replace(\" n\\'t\", \"n't\").replace(\" \\'ve\", \"'ve\").replace(\" /'d\", \"'d\")\n",
    "            clean_texts.append(clean_text)\n",
    "        except AttributeError:\n",
    "            # print(\"ERROR CLEANING\")\n",
    "            # print(text)\n",
    "            continue\n",
    "        except UnicodeDecodeError:\n",
    "            # print(\"Unicode Error, Skip\")\n",
    "            continue\n",
    "    return clean_texts"
   ]
  },
  {
   "cell_type": "code",
   "execution_count": 23,
   "metadata": {},
   "outputs": [],
   "source": [
    "clean_11 = clean_raw_text(movie_raw['11.txt'])"
   ]
  },
  {
   "cell_type": "code",
   "execution_count": 24,
   "metadata": {},
   "outputs": [
    {
     "data": {
      "text/plain": [
       "'@@216680 Hey , I\\'m talking to you Give me 600 dollars You wish ! That\\'s all we\\'ve left And you still go to gamble Shut up I earn the money Even that you can\\'t take it for gamble Shut up What\\'re you doing ? Bastard , I\\'m gon na beat you You gambling pig , I\\'ll beat the shit out of you You bitch I\\'ll beat you You dare to hit me with something ! I\\'ll kill you All you know is gambling I\\'ll beat you What\\'re you doing ? Let go of me Stop You\\'ll kill Mom Mom , are you all right ? Don\\'t touch my money Dad , where\\'re you going ? Go away Dad , don\\'t go Get lost Dad , come back You take Marble with you The way she\\'s now Do you want to give me trouble ? I\\'m in more trouble than you I am a woman I\\'m a sailor You take care of Marble Just gamble a bit less is enough to raise the kid No way Raising her would be like raising others @ @ @ @ @ @ @ @ @ @ take care of her Marry her when she grows up And you tell her to be smart Don\\'t marry a gambler Hey , you want a quarrel ? No , never This is the last time You\\'re SO right Don\\'t rush ... Everyone will have a share Why so crowded ? What\\'re they doing ? Worshipping ancestors With all those many things ? Hey , Granny , Come on Come and take a bite The dishes are good this year Right Marble , have some I\\'ll go get my share of pork This is a leg-washing basin Hey , how can you say that ? Let\\'s go get a share of pork Your share ? You wish ! That\\'s only for boys Yeah , I have a wee-wee . Have you ? Aunty Chiang Lin , one more baby this year ? Yes You are the best in your family Hey , you think it\\'s my will I was compelled by my stupid husband Come on . Let\\'s worship first Eat some roast pork We have a lot of it Honey @ @ @ @ @ @ @ @ @ @ baby ? Yes . Only with Chinese blood What do you mean ? It means I give you a green hat Oh , that goes with my clothes then Eat , no more talk ! So rude . Take it home Get up , go We\\'re going back home Be quick Honey Hey , make a stance Hold it ... Master , every time we\\'ve to stand in a pose If you could teach us something else please Okay Shaolin Masters learn poses for years Hold it ... Okay . I\\'ll teach you something new Watch me See . Get to it Seeing Shanghai Beach in Mainland Here I\\'m still watching it everyday I\\'m so tired Tired ? Let\\'s go to bed for rest I hate Chau Yun Fa the most He didn\\'t marry when I\\'m in China As soon as I\\'m here , he got married You can\\'t come to Hong Kong if you don\\'t marry me You said you are big boss Having a big business Now that I\\'m in Hong Kong ... I\\'m still @ @ @ @ @ @ @ @ @ @ for myself Then I ought to feel much more sorry You can\\'t even lay an egg This year I can only get one share of pork And you\\'re blaming me for it ? Damn monkey ... What\\'s going on ? A letter for you Oh , it\\'s you Your monkey glared at me fiercely Will you open it for me ? Read it to me . I am quite illiterate Stop it . Don\\'t bother him Let me help you . Give me the letter Postman\\'s duty is to deliver and read letters He reads for Aunt Jiao How can you compare to her ? Aunty Jiao is 83 years old Hello , dubbing room Martin ? Martin is working Are you lying to me ? Why should I lie ? I know he\\'s free . Get him You listen yourself then Hello , what\\'s the noise ? Is someone being raped ? Martin , your telephone Hello What took you so long ? Recording is going on Don\\'t mess around Yes , I know . I won\\'t Honey , @ @ @ @ @ @ @ @ @ @ did you spend so much ? I was late for work ... so I took a taxi On your way back don\\'t forget to buy vegetables Okay And buy a pair of slippers for me Got it , honey I\\'ll hang up . Bye Wouldn\\'t marry if you know your wife is so bad ! Take pity for the rest of my life Hey , what\\'s on your neck ? Nothing You look piteous She\\'s the piteous one The vampire is here Grandma , grandma Someone is fighting Grandma , grandma Come over quickly What happened ? Someone is fighting Fighting ? Yes Where ? Over there ! You see it ? I spare you this time . No next time Sorry , let me kiss you Cut the bullshit . Go to bed I need to work tomorrow Where at ? That villa over there ! Wow , it looks beautiful Who lives there ? Snow White Kidding , there\\'s no Snow White Oh , murder That\\'s the pig scream Why\\'s the pig screaming so late at night ? Shorty\\'s @ @ @ @ @ @ @ @ @ @ late ? So the government won\\'t know But how could a pig\\'s scream be so terrible ? Why ? Why aren\\'t you tired ? Why aren\\'t you sleepy ? Why haven\\'t you gone to bed ? Why are you so nosy ? Go to sleep ! Here\\'s the kitchen Oil . Salt . Sauce . Vinegar . All there Go tidy up Ask me if you have any question Come dance with me Come on Come Dance I\\'ll teach you . Don\\'t be afraid Damn dog ! Damn it ! What\\'s such a big deal to be rich ? Pay for my pants Sorry . I don\\'t mean to be rude Be careful next time Miss , it seems I\\'ve seen you somewhere Of course you have I\\'ll be the Miss Hong Kong in next contest I have nine posters at the Ferry pier And I\\'ve been handing out my photographs all around Never seen one as rude as you Chang Jin This girl is great . She lives in your village ? Of course she\\'s @ @ @ @ @ @ @ @ @ @ And the ugly one\\'s only live in your village Miss , I want my BALL back We\\'re back from Holland Shall we make a friendship ? My dad said she got married Married ? No way Look at her curves ! She sure knows how to keep fit Maybe she never takes birth-control pills Hey , pals Be nice to a girl , huh ? What do you mean ? You think you\\'re a kungfu master ? Get the ball back Okay We\\'re friends . If you don\\'t give me face At least for my Dad\\'s sake ... let\\'s not make a fuss of this Are you alright ? He hits me . Beat him Stop Just playing . Stop What\\'re you on about ? I\\'ve stopped . Why don\\'t you stop ? I\\'ll let you go , damn kid Don\\'t let me see you again I\\'ll kill you next time Let\\'s go , go Waste of strength ! Post-boy . You think you\\'re good We\\'re taking pity on you Yeah Go , go Your @ @ @ @ @ @ @ @ @ @ Sorry to bother you again Please sign Where\\'s Wang ? He went to Kowloon on business Oh , you\\'re bleeding ? Who hurt you ? Let me help you Suppressing anger is not a good thing What ? Let me clean your wound No Okay , I won\\'t touch you I\\'ll give you some water , do it yourself How often do you deliver each day ? What are you drawing so late at night ? Go to bed . You have class tomorrow Go to sleep now Dad , I\\'m going to school now Go now . Don\\'t be late Okay , I know A shepherd drove sheep on the hill Watching farmers farming below ... Jin Bao I have twenty of them Give me one No way My uncle smuggled it from Mainland What is it ? How about I exchange one with a secret What secret ? Last night the White Man tortured his wife I don\\'t believe you He\\'s so coward to his wife he\\'ll never beat her Then will you give me ? What kind of @ @ @ @ @ @ @ @ @ @ shepherd laughed ... Master Good morning , teacher I\\'ve taught you ... to write yourselves a letter And learn to write your home address That \\'d help uncle Postman to deliver No , Mister Postman Oh yes , calling \\' uncle \\' is too old Yes Now come out to get your letter when I call you Wang Jia Leung Here Wang Shi Chung Here Shu Ker Ying Here She\\'s a cripple ! Don\\'t laugh at her Wang Jia Hao Here Wang Jie Hwa Here Wang Wan Wen Here Wang Tian Sheng Here Marble Mister You have a letter from your dad Your Grandma said he\\'s in Panama What has he written ? Just ask your Grandma No My Dad is dead Don\\'t curse him I don\\'t like him Go away Go away Let me go Let me go ... Damn dog Go away Let go of me The damn dog bites anything it sees I always get bitten when delivering letters Don\\'t tell people about it I won\\'t . I\\'ll do as you said You\\'ll be responsible if anyone @ @ @ @ @ @ @ @ @ @ your secret Let\\'s hook our pinkies I\\'ll be true to my word Wait for me ? When I\\'m young no-one likes me I hope someone would love me like crazy If not , I hope I have lots of money If no money , I wish I can be famous Let everyone know me at least If I have nothing else I hope I\\'m prettier than others Staying pretty longer is okay Being a woman is indeed tragic ! But you have everything now How poor of you , silly girl ? You never stay with me overnight You \\'d better find an excuse to convince me My wife doesn\\'t understand me Take any man in the world Not one would say his wife understands him I really love you Not for your money Don\\'t think you\\'re Santa Claus Why would I do this ? So cheap ! Go to bed early Don\\'t abuse drugs Wang , give me a red cloth Okay Lin , give him a red cloth Big one or small one ? Big one , of course Did @ @ @ @ @ @ @ @ @ @ You think old Wang can do that ? You are good Your hand is so white , I believe you \\'d have made it Lin , go to work if you\\'ve nothing else Okay , five dollars Bin , why did you have to come yourself to buy ? What else do you need ? Nothing else . I\\'ll come later See you I know all the neighbours around here Hey , get the button fastened I can\\'t breath if I fasten up Or you buy me a new dress Okay , okay Let me take you to the discount stall Discount stalls only sell cheap stuff I want to visit the fashion shop Look at you Just two months here you\\'ve learned it I learned all about it long before I came Then you be good I\\'ll buy you anything you want Okay ? Then ain\\'t I good enough now ? Good , you\\'re good Sir , I would like to know ... if there\\'s a new villa here ? You\\'ve real talent Among the mistresses of my husband You @ @ @ @ @ @ @ @ @ @ you want ? Sure He\\'s my Santa Claus You think you\\'re young ? Whatever . I\\'m younger than you I heard you\\'re a dancer What kind of dance are you good at ? The kind that takes hard work ... and looks like mad jumping You have money now Why work so hard ? Is money everything ? No ? Depends on the person Don\\'t say you love my man No , we use each other What are you laughing at ? One night your husband told me ... his wife doesn\\'t understand him He lies , you fool It\\'s not bad he lies to me in that way My husband is sure in bad luck He has a mistress like you He is in luck actually Because he met me You\\'re just a whore What are you here for ? You\\'re great Let me show you something No . Okay , you can go now You don\\'t like me a bit ? Like you what ? What good are you ? Oh , I dare not Don\\'t be @ @ @ @ @ @ @ @ @ @ hand Get up , get up Be serious . Come One more time I can\\'t Use the hip . Come . Ready Go See , you can do it Got weak hips . I can\\'t get up Forget it You are a porn star . No need to get up You bald head You should be an extra forever Oh , I am now Yao Ju , come Coming You play with him Hold it Get me a suit from the wardrobe What\\'s that for ? Meet your girlfriend That one You want it however she looks You take all whatever the age My girl is beautiful And who is that ? Nanny ! Yao Ju Who\\'s she ? I don\\'t know Why do you always come to me ? I have things to do Then I\\'ll wait for you You have to wait a long time I\\'ll wait for you Then you have to wait a long time What\\'s wrong with me ? At least I am with single mind Why do you hit her ? Yeah , why do you @ @ @ @ @ @ @ @ @ @ dare I\\'ll kill you You don\\'t want me You dump me after you have had sex with me Isn\\'t it just for money ? No , it isn\\'t for money I love you I am not for money I really love you You\\'re crazy Just make a run Or I\\'ll cut you to pieces Damn shameless bitch Let\\'s play rubber-band rope Come , let\\'s play rubber-band rope Come on Don\\'t go Come In any event let\\'s clarify our relationship today You have a husband My husband is no use Lower your voice What\\'re you afraid of ? No need to fear if you dare to do it In short , I\\'ll give you money Money ... yes , I\\'ll need a lot of it You think you can afford ? You\\'re prepared , huh ? Let me tell you now My cousin will come next month He \\'d need cash for permit and ID card That takes 50,000 dollars Are you worth it ? Maybe I\\'m not worth it But if I spread word of @ @ @ @ @ @ @ @ @ @ And that woman is more trouble enough You think I don\\'t know she\\'s a mistress Just think what if her man knows ... of your affair ! Perhaps you can bear losing face She can\\'t You have no money , she has You hit me ! My husband never dare hit me . How dare you ! Rape ! Help ! I\\'m being raped ... please help ! Help ! Rape ! Someone rapes me Stop it . That will kill her Hey , that\\'s not enough What\\'s that for ? It\\'s for you Carnation Like it ? Carnation is only for mothers Mother\\'s Day ? Do you ever give anything to your Mom ? She wants nothing She only wants money As if someone would marry you ! She\\'ll have three kids in her teens Get fat as a barrel and smell bad She\\'ll get up every day at six-thirty Cook an egg for your breakfast And says it\\'s good for you Every week you go to Kowloon for tea once Every half a year you \\'d take @ @ @ @ @ @ @ @ @ @ ? No At least I have everything But you don\\'t have a husband That\\'s okay to me You say so for sure I\\'ll go now If he doesn\\'t find me on the phone ... then I\\'ll truly have nothing If he lies to his wife , he can lie to you Are you sure he has no-one else ? That\\'s none of your business What about me ? I left that woman because of you What about this ? I don\\'t even know who \\'d get the money I don\\'t care Let go Sit \" RITA \" Miss Rita Last night I passed by your house Your dog scared me Then I fell down And dropped a ring It\\'s my husband\\'s gift You know when a man gives you some gift It\\'s no good if you were to lose it He\\'ll be unhappy Did you see it ? Help me to find it , please The ring is worth 100,000 dollars I\\'ll help you to find it Then I\\'ll wait for your news I\\'m so @ @ @ @ @ @ @ @ @ @ I studied in Grade Two I already hated women That class girl captain ... told the teacher I peeked at her And the teacher hit me hard for it I was hit so hard that it broke the ruler In university I studied the Tang dynasty poems It said women are tender and passionate But I found it to the contrary Women and mean people are hard to deal with It wasn\\'t easy for me to stay away from women Now I wouldn\\'t want one anymore Women are poison ! You\\'re right Let\\'s toast Tonight when you\\'re home You should punish your wife hard All men are brothers ! Great . I\\'ll punish her tonight Fifty to hundred thousand each call Your threat is never-ending After this time ... Once and for all , I\\'ll leave You take this man I\\'m tired of him If you\\'re that crazy for men ... I\\'ll give my Wang to you , too Stupid Where\\'re you going ? Grandma , Grandma . Come on Murder Grandma , hurry What\\'s that serious ? @ @ @ @ @ @ @ @ @ @ ? Over there , you see ? What nonsense ! There\\'s nothing there It\\'s really a murder Hey , stop talking rubbish ! Go to bed Stop looking Kids are innocent Shorty , don\\'t move Stop moving Shorty , Shorty It was terrible last night I saw two guys fight And then one person ... killed the other ! The killer wore a chain You know , I could ... pull out some hair from the killer But Grandma doesn\\'t believe me If you \\'d please check for me What\\'re you doing ? You haven\\'t finished your hair-cut ? What happened ? Go and see Quick What is it ? Quick Come , be quick This is the White Man\\'s house This is the villa This is where Jin Bao lives I live right here That night I saw a murder in there Hey , what\\'s this ? It\\'s a watchband You can\\'t even recognise it in picture , stupid Hold it . Hold it . Hold it What\\'s this ? Silly fool , it\\'s Ninja That night @ @ @ @ @ @ @ @ @ @ saw two guys were fighting over there And then one man ... killed the other The killer wore a watchband too I saw it But I\\'m not scared Then I went out and took a look But he had run away I just saw some hair and a lot of footprints Now our first move ... is to check out who\\'s missing in the village ? What are you doing here ? Where\\'s your wife , uncle ? Looking for my wife at your age ? You have guts Go away I\\'ll get your Dad to take you back You \\'d better spend time on study And stop running around Go home Wang , where\\'s your wife ? My wife is sick , okay ! Nosey Have you seen the White Man and his wife ? Shin , go home for meal Hurry Always playing Marble , time for work Don\\'t run around I\\'m working right now Look here . On the rock Here It\\'s real The White Man Women are sick , vicious ... and fierce . We should kill them @ @ @ @ @ @ @ @ @ @ have to bear with them What is the time ? Oh , time for work Get lost Why are the floor so dirty ? Hey , what\\'re you doing ? I just came early to tidy things up See , what have you done ! I ... White Man . It\\'s him Little girl Little girl Wake up Little girl Wake up You okay ? Are you all right ? But that can\\'t be evidence That\\'s the record in my children\\'s diary This proves that everyday he thought of murder Did your teacher tell you ... not to lie to the police ? I have more evidence Take it out I saw that after he killed his wife ... he dragged the corpse away , too That night he didn\\'t return home He went out for drinks Got drunk and slept on a rock And he cursed the women too He almost killed me What a bad White man Always thinking to kill people Chinese won\\'t do that The Chinese don\\'t have that power Go and see Hi Police ? What\\'re @ @ @ @ @ @ @ @ @ @ illegal to play chess ? You have a warrant , sir ? Of course , see It\\'s marijuana Go away ... What are you looking ? Nothing good to see Move away Hey , what\\'re you doing ? He\\'s my husband He just slapped me slightly Is it illegal the husband slapping his wife ? Actually I let him slap me Why are you arresting him ? Where are you going ? I just went back to my Mama\\'s house Why don\\'t you call me these few days ? Who is he ? His sworn brother What\\'s a \\' sworn brother \\' ? Move . Don\\'t pretend anymore Sir , he\\'s innocent Don\\'t arrest him Girl , don\\'t lie Sir , please don\\'t arrest my husband Don\\'t arrest my husband Let him go Dear Hello , Miss Rita Why ? Why am I being fired ? How do I guess if you don\\'t tell me ? Mister Postman . Mister ? No-one believed the murder I told you about What clue do you have ? I suspected @ @ @ @ @ @ @ @ @ @ if she\\'s dead Wang , you got mail It\\'s hot outside . Come and have a seat Have some tea Busy ? Yeah , the past few days has been killing ! A lot more people at the festival this year ! You ought to take your girlfriend along I don\\'t have a girlfriend You\\'re kidding Where\\'s Mrs . Wang ? Can you not mention her ? Where has she gone ? I don\\'t know where she has gone Mind your own business , kid This letter is from my wife Marble , Marble Oh , you are here ! Shorty has been calling you many times Must have found something new What did she say in the letter ? She ran away with someone Now she\\'s with someone else She told me not to think of her Even though we can\\'t be a couple She still thinks of writing to me I knew she is a good girl Just the men are bad That\\'s good . That bitch is gone Thank God , we\\'ll have peace now Don\\'t @ @ @ @ @ @ @ @ @ @ is murdered What ? I go back to answer the phone Grandma said many girls ... worried that they can\\'t immigrate in 1997 So they all wanted to marry an old foreigner Those old men are so ugly ! More ugly than Wang You see , I don\\'t even have time for toilet Old Wang , just a woman One left . More to come I would get you a good girl later Grandma Everyone will quarrel after getting married Stop being a match-maker If I don\\'t help them make the match ... They will have no-one to quarrel with Let\\'s go home What a crowd ! Look How much is a pack of tissue ? Fifty cents What\\'re you doing ? Idiot I told you Wang\\'s wife is dead No , lousy kid I kept a secret for you What secret ? I won\\'t tell anyone About you and Wang\\'s wife Grandma Xiaoji Xiaoji Xiaoji Xiaoji Marble , get dressed . We go to pray Grandma is bad . You killed my Xiaoji You\\'ll have to compensate No other chicken @ @ @ @ @ @ @ @ @ @ doing ? I\\'m gathering the fire wood Oh , don\\'t sit here Sit over there It\\'ll dirty your pants And you\\'ll need your Grandma to wash it I don\\'t care What did she do ? Did she make you angry ? She\\'s a killer Jin Bao , faster Yes Shorty , Shorty The village chief gave me 10 dollars to catch grasshopper for the bird And you won\\'t investigate my case ? All those you mentioned as missing are still alive I don\\'t know if you\\'re telling the truth That\\'s no fun I didn\\'t lie to you Please help me , okay Unless ... Unless what ? Unless you let me be the commander Well , you listen to me whatever I say The mission we have tonight ... is to search the suspects and evidences Especially that watchband Yes , especially the watchband Jin Bao , you watch number one to fifteen I\\'m terribly afraid Jin Ju , you watch number to thirty Especially my dad , he\\'s fierce How could your Dad be the murderer @ @ @ @ @ @ @ @ @ @ killer , I\\'ll get him You watch all the shops Okay You watch the pigsty and the doghouse You must obey the order You gather information How come I have nothing to do ? Because you walk slow That\\'s true Fine . I\\'m sick of girls crying You take my post Women are troublesome Everyone take a firecracker as weapon , pass it Use it only if you see the enemies The enemies are tough Be careful . It\\'s life-threatening Understand ? Yes Okay , let\\'s go Go If anything please say it now You don\\'t speak and didn\\'t let me either You won\\'t understand even if I say it Has your husband been found ? In this situation Spreading out isn\\'t the worst . At the most we could flee How \\'d that help ? I am not afraid of getting caught I know I am poor All you love is money Help ! Help ! Shorty , don\\'t be afraid Don\\'t be afraid Come back Shorty\\'s spirit , come back Don\\'t be afraid Shorty\\'s @ @ @ @ @ @ @ @ @ @ ? Who is it ? Ghost ! Open up your eye Shorty , recover Let\\'s stop the investigation , okay ? We just want you to recover Yes Yes , don\\'t be like that Shorty , don\\'t be afraid ... please ! Shorty\\'s spirit , come back Shorty\\'s spirit , come back What took so long ? Is it okay ? It\\'s not done yet Mine is fit for eating ? Marble , come to eat Shorty\\'s gone mad . I have no appetite Hey , come over I\\'ll let you be the host . Come It smells great Fire\\'s up It\\'s ready Don\\'t kill her Are you alright ? Grandma will never kill your chicken I\\'ll buy you another chicken tomorrow I swear I\\'ll never kill your chick You hear me ? What\\'re you doing ? It\\'s all your fault I could watch you once I can\\'t watch you forever I\\'m not willing to do that I didn\\'t hate you We had been a couple before I\\'ll burn more food @ @ @ @ @ @ @ @ @ @\\'ll offer some Chau Yun Fa\\'s photos , too Wang ... I need to talk to you urgently Open the door Wang , I have something to tell you You \\'d better brace yourself for this Don\\'t be shocked out of mind Actually your wife is dead I knew you would be stunned Relax and listen to me The letters you got It\\'s all a farce It\\'s actually the postman The postman did it After he killed your wife ... He forged her letter to you He knew how The school taught us ... how to write to ourselves Let me see the letter . Quick Then I\\'ll get it for myself So , will you leave ? Where do we go ? To Mainland China , okay ? Whatever You don\\'t leave until you got trouble Now you got trouble Will this all ever be exposed ? Did you leave any evidence ? The trouble is the letter you wrote What letter ? The letter you forged in her handwriting I had never written any letter So the letter Wang had received ... @ @ @ @ @ @ @ @ @ @ Marble Come . Eat something This is yours Go on ! How come I have more ? And you have less ? You take this bowl It\\'s okay for kids to eat more It\\'s sweet and tasty . Eat now Where\\'s the letter ? Oh , I forgot where I put them Eat ... It\\'s new Yes . Eat while it\\'s hot Relax , Wang Everything will come out fine He can\\'t run away I\\'ll move on Or grandma will scold me , bye Bye Brother Yao Where were you last night ? It\\'s late . Time to go Are you ready ? Yes You\\'re always the last Let\\'s go Where\\'s Marble ? Marble is up the hill with Wang Ready , go You see , it flies high It\\'s great It\\'s beautiful Marble , you fly it It\\'s fun Be careful . Be careful What happened ? Marble , Marble What are you doing here ? There\\'s a kite there Yes , go have a look You see Jin Bao , be careful Be @ @ @ @ @ @ @ @ @ @ down It hurts Murderer It\\'s not us He fell down by himself . It\\'s not us Where\\'s Marble ? She was just here Help ... ! Help ! Help ... ! Help ! Mister Postman ... Don\\'t be afraid Help me Mister Postman Help me Mister Postman Marble , grab my hand Wang Inspector , see Let me Mr . Butterfly give you a lesson Do you know how to act ? Your first day at this , huh ? Sorry , Brother Lang Sorry Hey , what\\'s up ? What\\'s the matter ? They are all fools Yes , he\\'s a fool Be smart Once again Let\\'s do it again One try is okay Calm down Come again Do it better All standby Ready You\\'re shooting movies ? Master , who do you fight with ? That\\'s Wan Ji Lang ? Want a drink , master ? Who\\'s the director ? The one in red glasses A woman Yes Oh no , fell down ! Brother Ji Lang , you okay ? What\\'s wrong with you ? @ @ @ @ @ @ @ @ @ @ , come over Coming It\\'s my turn . Don\\'t run around It\\'s all yours Yao Ju . Memorize those moves Act better Ready All standby Do it better Don\\'t make trouble Ready ? Action ! Cut Okay Move the machine here Move it over Come , over here Like that ? Okay ? It\\'s fine You said you \\'d go to Mainland with me Really ? Of course you can\\'t remember I did Did you see me shooting movie ? A little bit Next week I\\'ll go to London I will write to you when I arrive You better not go If you don\\'t go , you don\\'t need to write You \\'d pay for my living , huh ? No big deal I don\\'t know what to say That\\'s rubbish Okay Take care Mister Postman Marble , are you alright ? Yes Marble ... It\\'s for you Is it good ? Do you like it ? \\r\\n'"
      ]
     },
     "execution_count": 24,
     "metadata": {},
     "output_type": "execute_result"
    }
   ],
   "source": [
    "clean_11[1]"
   ]
  },
  {
   "cell_type": "markdown",
   "metadata": {},
   "source": [
    "This method cleaned a few basic formatting errors. You are welcome to experiment and add your own code to expand on cleaning the text. Once it begins to look the way you want it to, we can start using spaCy to do some heavier cleaning. spaCy does this through the use of language models. Make sure you have the spaCy english language model loaded. "
   ]
  },
  {
   "cell_type": "code",
   "execution_count": 16,
   "metadata": {},
   "outputs": [],
   "source": [
    "nlp = spacy.load(\"en_core_web_sm\")"
   ]
  },
  {
   "cell_type": "markdown",
   "metadata": {},
   "source": [
    "This model is going to be the basis of most of the tasks which NLTK (the Natural Language Tool Kit) might have done otherwise. While NLTK uses a bunch of clunky models from multiple places, spacy neatly packs all functionality in one model. This deep trained model will start by doing our word tokenizing and normalising. These methods are already included in lucem illud, and here we will just demonstrate them outside the package so to explain what goes on under the hood.\n",
    "\n",
    "When we run text through a spacy model, it performs a lot of computation on each of the tokens. Each token is given certain attributes, such as a part of speech, information whether it is a number, a stop word, and so on. \n",
    "\n",
    "To perform a tokenization, we check if the string includes punctuation and add this token. "
   ]
  },
  {
   "cell_type": "code",
   "execution_count": 15,
   "metadata": {},
   "outputs": [],
   "source": [
    "def word_tokenize(word_list):\n",
    "    tokenized = []\n",
    "    # pass word list through language model.\n",
    "    doc = nlp(word_list)\n",
    "    for token in doc:\n",
    "        if not token.is_punct and len(token.text.strip()) > 0:\n",
    "            tokenized.append(token.text)\n",
    "    return tokenized"
   ]
  },
  {
   "cell_type": "code",
   "execution_count": 7,
   "metadata": {},
   "outputs": [
    {
     "ename": "NameError",
     "evalue": "name 'clean_11' is not defined",
     "output_type": "error",
     "traceback": [
      "\u001b[1;31m---------------------------------------------------------------------------\u001b[0m",
      "\u001b[1;31mNameError\u001b[0m                                 Traceback (most recent call last)",
      "\u001b[1;32m~\\AppData\\Local\\Temp/ipykernel_32632/566848206.py\u001b[0m in \u001b[0;36m<module>\u001b[1;34m\u001b[0m\n\u001b[1;32m----> 1\u001b[1;33m \u001b[0mword_tokenize\u001b[0m\u001b[1;33m(\u001b[0m\u001b[0mclean_11\u001b[0m\u001b[1;33m[\u001b[0m\u001b[1;36m1\u001b[0m\u001b[1;33m]\u001b[0m\u001b[1;33m)\u001b[0m\u001b[1;33m\u001b[0m\u001b[1;33m\u001b[0m\u001b[0m\n\u001b[0m",
      "\u001b[1;31mNameError\u001b[0m: name 'clean_11' is not defined"
     ]
    }
   ],
   "source": [
    "word_tokenize(clean_11[1])"
   ]
  },
  {
   "cell_type": "markdown",
   "metadata": {},
   "source": [
    "You can see how the sentence is broken into its constituent words. We can then do some analysis with this. \n",
    "\n",
    "Note: we still don't know which movie this is, just that it is raw movie text data. Maybe in the process of our text cleaning and counting we will come across something!"
   ]
  },
  {
   "cell_type": "markdown",
   "metadata": {},
   "source": [
    "# Counting words\n",
    "\n",
    "If we want to do some analysis we can start by simply counting the number of times each word occurs within the corpus."
   ]
  },
  {
   "cell_type": "code",
   "execution_count": 33,
   "metadata": {},
   "outputs": [],
   "source": [
    "def wordCounter(wordLst):\n",
    "    wordCounts = {}\n",
    "    for word in wordLst:\n",
    "        #We usually need to normalize the case\n",
    "        wLower = word.lower()\n",
    "        if wLower in wordCounts:\n",
    "            wordCounts[wLower] += 1\n",
    "        else:\n",
    "            wordCounts[wLower] = 1\n",
    "    #convert to DataFrame\n",
    "    countsForFrame = {'word' : [], 'count' : []}\n",
    "    for w, c in wordCounts.items():\n",
    "        countsForFrame['word'].append(w)\n",
    "        countsForFrame['count'].append(c)\n",
    "    return pandas.DataFrame(countsForFrame)"
   ]
  },
  {
   "cell_type": "code",
   "execution_count": 30,
   "metadata": {},
   "outputs": [
    {
     "data": {
      "text/html": [
       "<div>\n",
       "<style scoped>\n",
       "    .dataframe tbody tr th:only-of-type {\n",
       "        vertical-align: middle;\n",
       "    }\n",
       "\n",
       "    .dataframe tbody tr th {\n",
       "        vertical-align: top;\n",
       "    }\n",
       "\n",
       "    .dataframe thead th {\n",
       "        text-align: right;\n",
       "    }\n",
       "</style>\n",
       "<table border=\"1\" class=\"dataframe\">\n",
       "  <thead>\n",
       "    <tr style=\"text-align: right;\">\n",
       "      <th></th>\n",
       "      <th>word</th>\n",
       "      <th>count</th>\n",
       "    </tr>\n",
       "  </thead>\n",
       "  <tbody>\n",
       "    <tr>\n",
       "      <th>0</th>\n",
       "      <td>@@216680</td>\n",
       "      <td>1</td>\n",
       "    </tr>\n",
       "    <tr>\n",
       "      <th>1</th>\n",
       "      <td>hey</td>\n",
       "      <td>16</td>\n",
       "    </tr>\n",
       "    <tr>\n",
       "      <th>2</th>\n",
       "      <td>i</td>\n",
       "      <td>191</td>\n",
       "    </tr>\n",
       "    <tr>\n",
       "      <th>3</th>\n",
       "      <td>'m</td>\n",
       "      <td>24</td>\n",
       "    </tr>\n",
       "    <tr>\n",
       "      <th>4</th>\n",
       "      <td>talking</td>\n",
       "      <td>2</td>\n",
       "    </tr>\n",
       "    <tr>\n",
       "      <th>5</th>\n",
       "      <td>to</td>\n",
       "      <td>112</td>\n",
       "    </tr>\n",
       "    <tr>\n",
       "      <th>6</th>\n",
       "      <td>you</td>\n",
       "      <td>302</td>\n",
       "    </tr>\n",
       "    <tr>\n",
       "      <th>7</th>\n",
       "      <td>give</td>\n",
       "      <td>14</td>\n",
       "    </tr>\n",
       "    <tr>\n",
       "      <th>8</th>\n",
       "      <td>me</td>\n",
       "      <td>82</td>\n",
       "    </tr>\n",
       "    <tr>\n",
       "      <th>9</th>\n",
       "      <td>600</td>\n",
       "      <td>1</td>\n",
       "    </tr>\n",
       "  </tbody>\n",
       "</table>\n",
       "</div>"
      ],
      "text/plain": [
       "       word  count\n",
       "0  @@216680      1\n",
       "1       hey     16\n",
       "2         i    191\n",
       "3        'm     24\n",
       "4   talking      2\n",
       "5        to    112\n",
       "6       you    302\n",
       "7      give     14\n",
       "8        me     82\n",
       "9       600      1"
      ]
     },
     "execution_count": 30,
     "metadata": {},
     "output_type": "execute_result"
    }
   ],
   "source": [
    "countedWords = wordCounter(word_tokenize(clean_11[1]))\n",
    "countedWords[:10]"
   ]
  },
  {
   "cell_type": "markdown",
   "metadata": {},
   "source": [
    "Lets sort and plot our counts to investigate the shape of our word frequency distribution.\n",
    "\n",
    "First we need to sort the words by count."
   ]
  },
  {
   "cell_type": "code",
   "execution_count": 31,
   "metadata": {},
   "outputs": [
    {
     "data": {
      "text/html": [
       "<div>\n",
       "<style scoped>\n",
       "    .dataframe tbody tr th:only-of-type {\n",
       "        vertical-align: middle;\n",
       "    }\n",
       "\n",
       "    .dataframe tbody tr th {\n",
       "        vertical-align: top;\n",
       "    }\n",
       "\n",
       "    .dataframe thead th {\n",
       "        text-align: right;\n",
       "    }\n",
       "</style>\n",
       "<table border=\"1\" class=\"dataframe\">\n",
       "  <thead>\n",
       "    <tr style=\"text-align: right;\">\n",
       "      <th></th>\n",
       "      <th>word</th>\n",
       "      <th>count</th>\n",
       "    </tr>\n",
       "  </thead>\n",
       "  <tbody>\n",
       "    <tr>\n",
       "      <th>6</th>\n",
       "      <td>you</td>\n",
       "      <td>302</td>\n",
       "    </tr>\n",
       "    <tr>\n",
       "      <th>2</th>\n",
       "      <td>i</td>\n",
       "      <td>191</td>\n",
       "    </tr>\n",
       "    <tr>\n",
       "      <th>13</th>\n",
       "      <td>'s</td>\n",
       "      <td>126</td>\n",
       "    </tr>\n",
       "    <tr>\n",
       "      <th>5</th>\n",
       "      <td>to</td>\n",
       "      <td>112</td>\n",
       "    </tr>\n",
       "    <tr>\n",
       "      <th>31</th>\n",
       "      <td>it</td>\n",
       "      <td>109</td>\n",
       "    </tr>\n",
       "    <tr>\n",
       "      <th>...</th>\n",
       "      <td>...</td>\n",
       "      <td>...</td>\n",
       "    </tr>\n",
       "    <tr>\n",
       "      <th>248</th>\n",
       "      <td>postman</td>\n",
       "      <td>10</td>\n",
       "    </tr>\n",
       "    <tr>\n",
       "      <th>187</th>\n",
       "      <td>please</td>\n",
       "      <td>9</td>\n",
       "    </tr>\n",
       "    <tr>\n",
       "      <th>328</th>\n",
       "      <td>but</td>\n",
       "      <td>9</td>\n",
       "    </tr>\n",
       "    <tr>\n",
       "      <th>215</th>\n",
       "      <td>as</td>\n",
       "      <td>9</td>\n",
       "    </tr>\n",
       "    <tr>\n",
       "      <th>135</th>\n",
       "      <td>say</td>\n",
       "      <td>9</td>\n",
       "    </tr>\n",
       "  </tbody>\n",
       "</table>\n",
       "<p>100 rows × 2 columns</p>\n",
       "</div>"
      ],
      "text/plain": [
       "        word  count\n",
       "6        you    302\n",
       "2          i    191\n",
       "13        's    126\n",
       "5         to    112\n",
       "31        it    109\n",
       "..       ...    ...\n",
       "248  postman     10\n",
       "187   please      9\n",
       "328      but      9\n",
       "215       as      9\n",
       "135      say      9\n",
       "\n",
       "[100 rows x 2 columns]"
      ]
     },
     "execution_count": 31,
     "metadata": {},
     "output_type": "execute_result"
    }
   ],
   "source": [
    "#Doing this in place (changing the original DataFrame) as we don't need the unsorted DataFrame\n",
    "countedWords.sort_values('count', ascending=False, inplace=True)\n",
    "countedWords[:100]"
   ]
  },
  {
   "cell_type": "markdown",
   "metadata": {},
   "source": [
    "Punctuation and very common words (articles 'a' and 'the'; prepositions 'of' and 'to') make up the most common values, but this isn't very interesting and can actually get in the way of our analysis. We may remove these 'function words' by removing according to a stopword list, setting some frequency threshold, or using a weighting scheme (like tf.idf) to decrease their influence - we will look at these methods in more detail as we go through this tutorial. "
   ]
  },
  {
   "cell_type": "code",
   "execution_count": 32,
   "metadata": {},
   "outputs": [
    {
     "data": {
      "image/png": "[encoded data removed]",
      "text/plain": [
       "<Figure size 432x288 with 1 Axes>"
      ]
     },
     "metadata": {
      "needs_background": "light"
     },
     "output_type": "display_data"
    }
   ],
   "source": [
    "#Creating a figure and axis lets us do things like change the scaling or add a title\n",
    "fig = plt.figure()\n",
    "ax = fig.add_subplot(111)\n",
    "plt.plot(range(len(countedWords)), countedWords['count'])\n",
    "plt.show()"
   ]
  },
  {
   "cell_type": "markdown",
   "metadata": {},
   "source": [
    "This shows that likelihood of a word occurring is inversely proportional to its rank. This effect is called [Zipf's Law](https://en.wikipedia.org/wiki/Zipf%27s_law), and suggests that the most frequent word will occur approximately twice as often as the second most frequent word, three times as often as the third most frequent word, etc. Zipf's law is most easily observed by plotting the data on a log-log graph, with the axes being log (rank order) and log (frequency) resulting in a linear relationship."
   ]
  },
  {
   "cell_type": "code",
   "execution_count": 33,
   "metadata": {},
   "outputs": [
    {
     "data": {
      "image/png": "[encoded data removed]",
      "text/plain": [
       "<Figure size 432x288 with 1 Axes>"
      ]
     },
     "metadata": {
      "needs_background": "light"
     },
     "output_type": "display_data"
    }
   ],
   "source": [
    "fig = plt.figure()\n",
    "ax = fig.add_subplot(111)\n",
    "plt.plot(range(len(countedWords)), countedWords['count'])\n",
    "ax.set_yscale('log')\n",
    "ax.set_xscale('log')\n",
    "plt.show()"
   ]
  },
  {
   "cell_type": "markdown",
   "metadata": {},
   "source": [
    "(The same relationship occurs in many other rankings, such as population ranks of cities, corporation sizes, income rankings, etc.) \n",
    "\n",
    "The distribution was imagined by Zipf to be driven by a principle of 'least effort' where speakers did not work any harder than necessary to communicate a given idea, but the basis for this relationship is still not well understood and conforms at least as well to a process of [preferential attachment](https://en.wikipedia.org/wiki/Preferential_attachment) whereby people disproportionately attend to popular words.\n"
   ]
  },
  {
   "cell_type": "markdown",
   "metadata": {},
   "source": [
    "# Getting and working with raw text\n",
    "\n",
    "First, we will retrieve a collection of press releases from a *GitHub API* that archived them, based on a number of analyses by Justin Grimmer, a political scientist whose work we will read in two weeks!\n",
    "\n",
    "GitHub API requests are made to `'https://api.github.com/'` and responses are in JSON, similar to Tumblr's API.\n",
    "\n",
    "We will get the information on [github.com/lintool/GrimmerSenatePressReleases](https://github.com/lintool/GrimmerSenatePressReleases) as it contains a nice set documents."
   ]
  },
  {
   "cell_type": "code",
   "execution_count": 34,
   "metadata": {},
   "outputs": [
    {
     "name": "stdout",
     "output_type": "stream",
     "text": [
      "dict_keys(['id', 'node_id', 'name', 'full_name', 'private', 'owner', 'html_url', 'description', 'fork', 'url', 'forks_url', 'keys_url', 'collaborators_url', 'teams_url', 'hooks_url', 'issue_events_url', 'events_url', 'assignees_url', 'branches_url', 'tags_url', 'blobs_url', 'git_tags_url', 'git_refs_url', 'trees_url', 'statuses_url', 'languages_url', 'stargazers_url', 'contributors_url', 'subscribers_url', 'subscription_url', 'commits_url', 'git_commits_url', 'comments_url', 'issue_comment_url', 'contents_url', 'compare_url', 'merges_url', 'archive_url', 'downloads_url', 'issues_url', 'pulls_url', 'milestones_url', 'notifications_url', 'labels_url', 'releases_url', 'deployments_url', 'created_at', 'updated_at', 'pushed_at', 'git_url', 'ssh_url', 'clone_url', 'svn_url', 'homepage', 'size', 'stargazers_count', 'watchers_count', 'language', 'has_issues', 'has_projects', 'has_downloads', 'has_wiki', 'has_pages', 'forks_count', 'mirror_url', 'archived', 'disabled', 'open_issues_count', 'license', 'allow_forking', 'is_template', 'topics', 'visibility', 'forks', 'open_issues', 'watchers', 'default_branch', 'temp_clone_token', 'network_count', 'subscribers_count'])\n",
      "Grimmer's Senate Press Releases\n"
     ]
    }
   ],
   "source": [
    "r = requests.get('https://api.github.com/repos/lintool/GrimmerSenatePressReleases')\n",
    "senateReleasesData = json.loads(r.text)\n",
    "print(senateReleasesData.keys())\n",
    "print(senateReleasesData['description'])"
   ]
  },
  {
   "cell_type": "markdown",
   "metadata": {},
   "source": [
    "What we are interested in here is the `'contents_url'`"
   ]
  },
  {
   "cell_type": "code",
   "execution_count": 35,
   "metadata": {},
   "outputs": [
    {
     "name": "stdout",
     "output_type": "stream",
     "text": [
      "https://api.github.com/repos/lintool/GrimmerSenatePressReleases/contents/{+path}\n"
     ]
    }
   ],
   "source": [
    "print(senateReleasesData['contents_url'])"
   ]
  },
  {
   "cell_type": "markdown",
   "metadata": {},
   "source": [
    "We can use this to get any or all of the files from the repo."
   ]
  },
  {
   "cell_type": "code",
   "execution_count": 36,
   "metadata": {},
   "outputs": [
    {
     "data": {
      "text/plain": [
       "{'name': '10Apr2007Whitehouse123.txt',\n",
       " 'path': 'raw/Whitehouse/10Apr2007Whitehouse123.txt',\n",
       " 'sha': 'f524289ee563dca58690c8d36c23dce5dbd9962a',\n",
       " 'size': 2206,\n",
       " 'url': 'https://api.github.com/repos/lintool/GrimmerSenatePressReleases/contents/raw/Whitehouse/10Apr2007Whitehouse123.txt?ref=master',\n",
       " 'html_url': 'https://github.com/lintool/GrimmerSenatePressReleases/blob/master/raw/Whitehouse/10Apr2007Whitehouse123.txt',\n",
       " 'git_url': 'https://api.github.com/repos/lintool/GrimmerSenatePressReleases/git/blobs/f524289ee563dca58690c8d36c23dce5dbd9962a',\n",
       " 'download_url': 'https://raw.githubusercontent.com/lintool/GrimmerSenatePressReleases/master/raw/Whitehouse/10Apr2007Whitehouse123.txt',\n",
       " 'type': 'file',\n",
       " '_links': {'self': 'https://api.github.com/repos/lintool/GrimmerSenatePressReleases/contents/raw/Whitehouse/10Apr2007Whitehouse123.txt?ref=master',\n",
       "  'git': 'https://api.github.com/repos/lintool/GrimmerSenatePressReleases/git/blobs/f524289ee563dca58690c8d36c23dce5dbd9962a',\n",
       "  'html': 'https://github.com/lintool/GrimmerSenatePressReleases/blob/master/raw/Whitehouse/10Apr2007Whitehouse123.txt'}}"
      ]
     },
     "execution_count": 36,
     "metadata": {},
     "output_type": "execute_result"
    }
   ],
   "source": [
    "r = requests.get('https://api.github.com/repos/lintool/GrimmerSenatePressReleases/contents/raw/Whitehouse')\n",
    "whitehouseLinks = json.loads(r.text)\n",
    "whitehouseLinks[0]"
   ]
  },
  {
   "cell_type": "markdown",
   "metadata": {},
   "source": [
    "Now we have a list of information about Whitehouse press releases. Let's look at one of them."
   ]
  },
  {
   "cell_type": "code",
   "execution_count": 37,
   "metadata": {},
   "outputs": [
    {
     "name": "stdout",
     "output_type": "stream",
     "text": [
      "SEN. WHITEHOUSE SHARES WESTERLY GIRL'S STORY IN PUSH FOR STEM CELL RESEARCH\n",
      "  Sharing the story of Lila Barber, a 12 year old girl from Westerly, Sen. Sheldon Whitehouse (D-R.I.) on Tuesday, April 10, 2007, illustrated the hope stem cell research can offer in a speech on the Senate floor in favor of legislation to expand federal funding for stem cell research.  \n",
      "   Whitehouse met Lila two weeks ago. She was diagnosed two years ago with osteosarcoma, a cancerous bone condition, and last year underwent cadaver bone transplant surgery. The procedure saved her leg and is helping her remain cancer-free, but the transplanted tissue will not grow with her and likely will break down over time. Stem cell research, Whitehouse explained, could vastly improve the care of patients like Lila by allowing surgeons to enhance transplants with a patient's own stem cells, which could replace the lost bone and cartilage, or grow entirely new replacement bones and joints. \n",
      "   \"Stem cell research gives hope\n"
     ]
    },
    {
     "data": {
      "text/plain": [
       "2206"
      ]
     },
     "execution_count": 37,
     "metadata": {},
     "output_type": "execute_result"
    }
   ],
   "source": [
    "r = requests.get(whitehouseLinks[0]['download_url'])\n",
    "whitehouseRelease = r.text\n",
    "print(whitehouseRelease[:1000])\n",
    "len(whitehouseRelease)"
   ]
  },
  {
   "cell_type": "markdown",
   "metadata": {},
   "source": [
    "Now we have a string of correctly encoded text. For analysis of its words, next we need to tokenize it, or split it into a sequence of tokens or word instances."
   ]
  },
  {
   "cell_type": "code",
   "execution_count": 38,
   "metadata": {},
   "outputs": [
    {
     "data": {
      "text/plain": [
       "['STEM',\n",
       " 'CELL',\n",
       " 'RESEARCH',\n",
       " 'Sharing',\n",
       " 'the',\n",
       " 'story',\n",
       " 'of',\n",
       " 'Lila',\n",
       " 'Barber',\n",
       " 'a',\n",
       " '12',\n",
       " 'year',\n",
       " 'old',\n",
       " 'girl',\n",
       " 'from',\n",
       " 'Westerly',\n",
       " 'Sen.',\n",
       " 'Sheldon',\n",
       " 'Whitehouse',\n",
       " 'D']"
      ]
     },
     "execution_count": 38,
     "metadata": {},
     "output_type": "execute_result"
    }
   ],
   "source": [
    "whTokens = word_tokenize(whitehouseRelease)\n",
    "whTokens[10:30]"
   ]
  },
  {
   "cell_type": "markdown",
   "metadata": {},
   "source": [
    "Previous iterations of the course used `nltk`s tokenizer, but as we saw before, we used spaCy's model (https://spacy.io/api/tokenizer). We intend to avoid using NLTK when we can - for production level code, it is a lot faster and cleaner to use spaCy.\n",
    "\n",
    "That being said, `nltk` does have some useful methods for quick analysis of small corpora. We will explore a few here, and encourage you to figure out for yourself which other ones might be useful.\n",
    "\n",
    "To use the list of tokens in `nltk`, and take advantage of functions like `concordance`, shown above, we can convert it into a `Text`."
   ]
  },
  {
   "cell_type": "code",
   "execution_count": 30,
   "metadata": {},
   "outputs": [],
   "source": [
    "import nltk"
   ]
  },
  {
   "cell_type": "code",
   "execution_count": 40,
   "metadata": {},
   "outputs": [
    {
     "name": "stdout",
     "output_type": "stream",
     "text": [
      "Displaying 5 of 5 matches:\n",
      "ld girl from Westerly Sen. Sheldon Whitehouse D R.I. on Tuesday April 10 2007 il\n",
      "ral funding for stem cell research Whitehouse met Lila two weeks ago She was dia\n",
      " down over time Stem cell research Whitehouse explained could vastly improve the\n",
      "s research might help or even cure Whitehouse said Whitehouse also praised the e\n",
      " help or even cure Whitehouse said Whitehouse also praised the efforts of Rhode \n"
     ]
    }
   ],
   "source": [
    "whText = nltk.Text(whTokens)\n",
    "\n",
    "whitehouseIndex = nltk.text.ConcordanceIndex(whText) \n",
    "whitehouseIndex.print_concordance('Whitehouse')"
   ]
  },
  {
   "cell_type": "markdown",
   "metadata": {},
   "source": [
    "*Note* that the `Text` class is for doing rapid, exploratory analysis. It provides an easy interface to many of the operations we want to do, but it does not allow us much control over the particular operations it glosses. When you are doing a more complete analysis, you should be using the module specifically designed for that task instead of the shortcut method `Text` provides, e.g. use  [`collocations` Module](http://www.nltk.org/api/nltk.html#module-nltk.collocations) instead of `.collocations()`.\n",
    "\n",
    "Now that we have gotten this loaded, let's glance at few features we will delve into more deeply later.\n",
    "\n",
    "For example, we can find words that statistically tend to occur together and typically have a composite, idiomatic meaning irreducible to the semantics of its component words. We will do this later with more control over exactly how these are identified."
   ]
  },
  {
   "cell_type": "markdown",
   "metadata": {},
   "source": [
    "Or we can pick a word (or words) and find what words tend to occur around it."
   ]
  },
  {
   "cell_type": "code",
   "execution_count": 41,
   "metadata": {},
   "outputs": [
    {
     "name": "stdout",
     "output_type": "stream",
     "text": [
      "for_cell on_cells the_cell hope_cell time_cell own_cells joints_cell\n",
      "of_cell embryonic_cells\n"
     ]
    }
   ],
   "source": [
    "whText.common_contexts(['stem'])"
   ]
  },
  {
   "cell_type": "markdown",
   "metadata": {},
   "source": [
    "We can also just count the number of times the word occurs."
   ]
  },
  {
   "cell_type": "code",
   "execution_count": 42,
   "metadata": {},
   "outputs": [
    {
     "data": {
      "text/plain": [
       "5"
      ]
     },
     "execution_count": 42,
     "metadata": {},
     "output_type": "execute_result"
    }
   ],
   "source": [
    "whText.count('cell')"
   ]
  },
  {
   "cell_type": "markdown",
   "metadata": {},
   "source": [
    "\n",
    "We can also plot each time a set of words occurs."
   ]
  },
  {
   "cell_type": "code",
   "execution_count": 43,
   "metadata": {},
   "outputs": [
    {
     "data": {
      "image/png": "[encoded data removed]",
      "text/plain": [
       "<Figure size 432x288 with 1 Axes>"
      ]
     },
     "metadata": {
      "needs_background": "light"
     },
     "output_type": "display_data"
    }
   ],
   "source": [
    "sns.reset_orig() #Seaborn messes with this plot, disabling it\n",
    "whText.dispersion_plot(['Sen.','stem', 'cell', 'federal' ,'Lila', 'Barber', 'Whitehouse'])\n",
    "sns.set() #Re-enabling seaborn"
   ]
  },
  {
   "cell_type": "markdown",
   "metadata": {},
   "source": [
    "If we want to do an analysis of all the Whitehouse press releases we will first need to obtain them. By looking at the API we can see the the URL we want is [https://api.github.com/repos/lintool/GrimmerSenatePressReleases/contents/raw/Whitehouse](https://api.github.com/repos/lintool/GrimmerSenatePressReleases/contents/raw/Whitehouse), so we can create a function to scrape the individual files.\n",
    "\n",
    "If you want to know more about downloading from APIs, refer back to the 1st notebook."
   ]
  },
  {
   "cell_type": "code",
   "execution_count": 44,
   "metadata": {},
   "outputs": [
    {
     "data": {
      "text/html": [
       "<div>\n",
       "<style scoped>\n",
       "    .dataframe tbody tr th:only-of-type {\n",
       "        vertical-align: middle;\n",
       "    }\n",
       "\n",
       "    .dataframe tbody tr th {\n",
       "        vertical-align: top;\n",
       "    }\n",
       "\n",
       "    .dataframe thead th {\n",
       "        text-align: right;\n",
       "    }\n",
       "</style>\n",
       "<table border=\"1\" class=\"dataframe\">\n",
       "  <thead>\n",
       "    <tr style=\"text-align: right;\">\n",
       "      <th></th>\n",
       "      <th>name</th>\n",
       "      <th>text</th>\n",
       "      <th>path</th>\n",
       "      <th>html_url</th>\n",
       "      <th>download_url</th>\n",
       "    </tr>\n",
       "  </thead>\n",
       "  <tbody>\n",
       "    <tr>\n",
       "      <th>0</th>\n",
       "      <td>10Apr2007Whitehouse123.txt</td>\n",
       "      <td>SEN. WHITEHOUSE SHARES WESTERLY GIRL'S STORY I...</td>\n",
       "      <td>raw/Whitehouse/10Apr2007Whitehouse123.txt</td>\n",
       "      <td>https://github.com/lintool/GrimmerSenatePressR...</td>\n",
       "      <td>https://raw.githubusercontent.com/lintool/Grim...</td>\n",
       "    </tr>\n",
       "    <tr>\n",
       "      <th>1</th>\n",
       "      <td>10Apr2008Whitehouse2.txt</td>\n",
       "      <td>SEN. WHITEHOUSE SAYS PRESIDENT BUSH MUST BEGIN...</td>\n",
       "      <td>raw/Whitehouse/10Apr2008Whitehouse2.txt</td>\n",
       "      <td>https://github.com/lintool/GrimmerSenatePressR...</td>\n",
       "      <td>https://raw.githubusercontent.com/lintool/Grim...</td>\n",
       "    </tr>\n",
       "    <tr>\n",
       "      <th>2</th>\n",
       "      <td>10Apr2008Whitehouse3.txt</td>\n",
       "      <td>EPA MUST REVIEW LEGAL PROCESS TO ROOT OUT POLI...</td>\n",
       "      <td>raw/Whitehouse/10Apr2008Whitehouse3.txt</td>\n",
       "      <td>https://github.com/lintool/GrimmerSenatePressR...</td>\n",
       "      <td>https://raw.githubusercontent.com/lintool/Grim...</td>\n",
       "    </tr>\n",
       "    <tr>\n",
       "      <th>3</th>\n",
       "      <td>10Aug2007Whitehouse78.txt</td>\n",
       "      <td>R.I. SENATORS PRAISE SEN. DENIAL OF LNG FACILI...</td>\n",
       "      <td>raw/Whitehouse/10Aug2007Whitehouse78.txt</td>\n",
       "      <td>https://github.com/lintool/GrimmerSenatePressR...</td>\n",
       "      <td>https://raw.githubusercontent.com/lintool/Grim...</td>\n",
       "    </tr>\n",
       "    <tr>\n",
       "      <th>4</th>\n",
       "      <td>10Jan2008Whitehouse35.txt</td>\n",
       "      <td>SEN. WHITEHOUSE COMMENTS ON ONE-YEAR ANNIVERSA...</td>\n",
       "      <td>raw/Whitehouse/10Jan2008Whitehouse35.txt</td>\n",
       "      <td>https://github.com/lintool/GrimmerSenatePressR...</td>\n",
       "      <td>https://raw.githubusercontent.com/lintool/Grim...</td>\n",
       "    </tr>\n",
       "  </tbody>\n",
       "</table>\n",
       "</div>"
      ],
      "text/plain": [
       "                         name  \\\n",
       "0  10Apr2007Whitehouse123.txt   \n",
       "1    10Apr2008Whitehouse2.txt   \n",
       "2    10Apr2008Whitehouse3.txt   \n",
       "3   10Aug2007Whitehouse78.txt   \n",
       "4   10Jan2008Whitehouse35.txt   \n",
       "\n",
       "                                                text  \\\n",
       "0  SEN. WHITEHOUSE SHARES WESTERLY GIRL'S STORY I...   \n",
       "1  SEN. WHITEHOUSE SAYS PRESIDENT BUSH MUST BEGIN...   \n",
       "2  EPA MUST REVIEW LEGAL PROCESS TO ROOT OUT POLI...   \n",
       "3  R.I. SENATORS PRAISE SEN. DENIAL OF LNG FACILI...   \n",
       "4  SEN. WHITEHOUSE COMMENTS ON ONE-YEAR ANNIVERSA...   \n",
       "\n",
       "                                        path  \\\n",
       "0  raw/Whitehouse/10Apr2007Whitehouse123.txt   \n",
       "1    raw/Whitehouse/10Apr2008Whitehouse2.txt   \n",
       "2    raw/Whitehouse/10Apr2008Whitehouse3.txt   \n",
       "3   raw/Whitehouse/10Aug2007Whitehouse78.txt   \n",
       "4   raw/Whitehouse/10Jan2008Whitehouse35.txt   \n",
       "\n",
       "                                            html_url  \\\n",
       "0  https://github.com/lintool/GrimmerSenatePressR...   \n",
       "1  https://github.com/lintool/GrimmerSenatePressR...   \n",
       "2  https://github.com/lintool/GrimmerSenatePressR...   \n",
       "3  https://github.com/lintool/GrimmerSenatePressR...   \n",
       "4  https://github.com/lintool/GrimmerSenatePressR...   \n",
       "\n",
       "                                        download_url  \n",
       "0  https://raw.githubusercontent.com/lintool/Grim...  \n",
       "1  https://raw.githubusercontent.com/lintool/Grim...  \n",
       "2  https://raw.githubusercontent.com/lintool/Grim...  \n",
       "3  https://raw.githubusercontent.com/lintool/Grim...  \n",
       "4  https://raw.githubusercontent.com/lintool/Grim...  "
      ]
     },
     "execution_count": 44,
     "metadata": {},
     "output_type": "execute_result"
    }
   ],
   "source": [
    "def getGithubFiles(target, maxFiles = 100):\n",
    "    #We are setting a max so our examples don't take too long to run\n",
    "    #For converting to a DataFrame\n",
    "    releasesDict = {\n",
    "        'name' : [], #The name of the file\n",
    "        'text' : [], #The text of the file, watch out for binary files\n",
    "        'path' : [], #The path in the git repo to the file\n",
    "        'html_url' : [], #The url to see the file on Github\n",
    "        'download_url' : [], #The url to download the file\n",
    "    }\n",
    "\n",
    "    #Get the directory information from Github\n",
    "    r = requests.get(target)\n",
    "    filesLst = json.loads(r.text)\n",
    "\n",
    "    for fileDict in filesLst[:maxFiles]:\n",
    "        #These are provided by the directory\n",
    "        releasesDict['name'].append(fileDict['name'])\n",
    "        releasesDict['path'].append(fileDict['path'])\n",
    "        releasesDict['html_url'].append(fileDict['html_url'])\n",
    "        releasesDict['download_url'].append(fileDict['download_url'])\n",
    "\n",
    "        #We need to download the text though\n",
    "        text = requests.get(fileDict['download_url']).text\n",
    "        releasesDict['text'].append(text)\n",
    "\n",
    "    return pandas.DataFrame(releasesDict)\n",
    "\n",
    "whReleases = getGithubFiles('https://api.github.com/repos/lintool/GrimmerSenatePressReleases/contents/raw/Whitehouse', maxFiles = 10)\n",
    "whReleases[:5]"
   ]
  },
  {
   "cell_type": "markdown",
   "metadata": {},
   "source": [
    "If you are having trouble downloading the data uncomment this next cell"
   ]
  },
  {
   "cell_type": "code",
   "execution_count": 45,
   "metadata": {},
   "outputs": [],
   "source": [
    "#whReleases = pandas.read_csv('../data/whReleases.csv')"
   ]
  },
  {
   "cell_type": "markdown",
   "metadata": {},
   "source": [
    "Now we have all the texts in a DataFrame we can look at a few things.\n",
    "\n",
    "First let's tokenize the texts with the same tokenizer as we used before. We will just save the tokens as a list for now; no need to convert to `Text`s."
   ]
  },
  {
   "cell_type": "code",
   "execution_count": 46,
   "metadata": {},
   "outputs": [],
   "source": [
    "whReleases['tokenized_text'] = whReleases['text'].apply(lambda x: word_tokenize(x))"
   ]
  },
  {
   "cell_type": "markdown",
   "metadata": {},
   "source": [
    "Now lets see how long each of the press releases is:"
   ]
  },
  {
   "cell_type": "code",
   "execution_count": 47,
   "metadata": {},
   "outputs": [
    {
     "data": {
      "text/plain": [
       "0    350\n",
       "1    311\n",
       "2    497\n",
       "3    189\n",
       "4    236\n",
       "5    334\n",
       "6    241\n",
       "7    469\n",
       "8    443\n",
       "9    425\n",
       "Name: word_counts, dtype: int64"
      ]
     },
     "execution_count": 47,
     "metadata": {},
     "output_type": "execute_result"
    }
   ],
   "source": [
    "whReleases['word_counts'] = whReleases['tokenized_text'].apply(lambda x: len(x))\n",
    "whReleases['word_counts']"
   ]
  },
  {
   "cell_type": "markdown",
   "metadata": {},
   "source": [
    "## <font color=\"red\">*Exercise 1*</font>\n",
    "\n",
    "<font color=\"red\">Construct cells immediately below this that input and interrogate a corpus relating to your anticipated final project. This could include one of the Davies corpora or some other you have constructed. Turn your text into an nltk `Text` object, and explore all of the features examined above, and others that relate to better understanding your corpus in relation to your research question. </font>"
   ]
  },
  {
   "cell_type": "code",
   "execution_count": 5,
   "metadata": {},
   "outputs": [
    {
     "name": "stdout",
     "output_type": "stream",
     "text": [
      "text_00_myn.zip\n",
      "text_01_ote.zip\n",
      "text_02_mqu.zip\n",
      "text_03_mnq.zip\n",
      "text_04_mlq.zip\n",
      "text_05_nko.zip\n",
      "text_06_eyp.zip\n",
      "text_07_oma.zip\n",
      "text_08_loh.zip\n",
      "text_09_jex.zip\n",
      "text_10_aoy.zip\n",
      "text_11_uoy.zip\n",
      "text_12_rcq.zip\n",
      "text_13_idi.zip\n",
      "text_14_lnc.zip\n",
      "text_15_guo.zip\n",
      "text_16_qll.zip\n",
      "text_17_arp.zip\n",
      "text_18_jfj.zip\n",
      "text_19_gvc.zip\n",
      "text_20_cde.zip\n",
      "text_21_fqa.zip\n",
      "text_22_etp.zip\n",
      "text_23_fmh.zip\n",
      "text_24_ywo.zip\n",
      "text_25_byg.zip\n",
      "text_26_ngj.zip\n",
      "text_27_fle.zip\n",
      "text_28_rfy.zip\n",
      "text_29_oye.zip\n",
      "text_30_wkp.zip\n",
      "text_31_akv.zip\n",
      "text_32_ldf.zip\n",
      "text_33_kje.zip\n"
     ]
    }
   ],
   "source": [
    "tv_raw = loadcorpus('D:/Corpora/TV/')"
   ]
  },
  {
   "cell_type": "code",
   "execution_count": 24,
   "metadata": {},
   "outputs": [],
   "source": [
    "tv_cleaned = {}\n",
    "for key, item in tv_raw.items():\n",
    "    tv_cleaned[key] = clean_raw_text(item)"
   ]
  },
  {
   "cell_type": "code",
   "execution_count": 107,
   "metadata": {},
   "outputs": [],
   "source": [
    "sample_tokens = word_tokenize(tv_cleaned['06.txt'][1])"
   ]
  },
  {
   "cell_type": "code",
   "execution_count": 108,
   "metadata": {},
   "outputs": [],
   "source": [
    "sample_text = nltk.Text(sample_tokens)"
   ]
  },
  {
   "cell_type": "code",
   "execution_count": 109,
   "metadata": {},
   "outputs": [
    {
     "data": {
      "text/html": [
       "<div>\n",
       "<style scoped>\n",
       "    .dataframe tbody tr th:only-of-type {\n",
       "        vertical-align: middle;\n",
       "    }\n",
       "\n",
       "    .dataframe tbody tr th {\n",
       "        vertical-align: top;\n",
       "    }\n",
       "\n",
       "    .dataframe thead th {\n",
       "        text-align: right;\n",
       "    }\n",
       "</style>\n",
       "<table border=\"1\" class=\"dataframe\">\n",
       "  <thead>\n",
       "    <tr style=\"text-align: right;\">\n",
       "      <th></th>\n",
       "      <th>word</th>\n",
       "      <th>count</th>\n",
       "    </tr>\n",
       "  </thead>\n",
       "  <tbody>\n",
       "    <tr>\n",
       "      <th>3</th>\n",
       "      <td>i</td>\n",
       "      <td>452</td>\n",
       "    </tr>\n",
       "    <tr>\n",
       "      <th>9</th>\n",
       "      <td>you</td>\n",
       "      <td>428</td>\n",
       "    </tr>\n",
       "    <tr>\n",
       "      <th>46</th>\n",
       "      <td>the</td>\n",
       "      <td>416</td>\n",
       "    </tr>\n",
       "    <tr>\n",
       "      <th>15</th>\n",
       "      <td>to</td>\n",
       "      <td>318</td>\n",
       "    </tr>\n",
       "    <tr>\n",
       "      <th>28</th>\n",
       "      <td>it</td>\n",
       "      <td>296</td>\n",
       "    </tr>\n",
       "    <tr>\n",
       "      <th>5</th>\n",
       "      <td>a</td>\n",
       "      <td>269</td>\n",
       "    </tr>\n",
       "    <tr>\n",
       "      <th>49</th>\n",
       "      <td>'s</td>\n",
       "      <td>265</td>\n",
       "    </tr>\n",
       "    <tr>\n",
       "      <th>53</th>\n",
       "      <td>and</td>\n",
       "      <td>242</td>\n",
       "    </tr>\n",
       "    <tr>\n",
       "      <th>13</th>\n",
       "      <td>n't</td>\n",
       "      <td>242</td>\n",
       "    </tr>\n",
       "    <tr>\n",
       "      <th>144</th>\n",
       "      <td>we</td>\n",
       "      <td>223</td>\n",
       "    </tr>\n",
       "  </tbody>\n",
       "</table>\n",
       "</div>"
      ],
      "text/plain": [
       "    word  count\n",
       "3      i    452\n",
       "9    you    428\n",
       "46   the    416\n",
       "15    to    318\n",
       "28    it    296\n",
       "5      a    269\n",
       "49    's    265\n",
       "53   and    242\n",
       "13   n't    242\n",
       "144   we    223"
      ]
     },
     "execution_count": 109,
     "metadata": {},
     "output_type": "execute_result"
    }
   ],
   "source": [
    "sampleCounted = wordCounter(sample_tokens)\n",
    "sampleCounted.sort_values('count', ascending=False, inplace=True)\n",
    "sampleCounted[:10]\n"
   ]
  },
  {
   "cell_type": "code",
   "execution_count": 110,
   "metadata": {},
   "outputs": [
    {
     "name": "stdout",
     "output_type": "stream",
     "text": [
      "Displaying 9 of 9 matches:\n",
      " for a quick one MAN Did you and your wife have to be out together MR JONES Well\n",
      "an there are times when a husband and wife have to go out together and this was \n",
      "wo facts with you please You and your wife lived at your mother 's house Up to w\n",
      "y No Maysole Maysole Now Mr Ward your wife 's mother What is your wife 's mother\n",
      "Ward your wife 's mother What is your wife 's mother 's address CRYING Do you ha\n",
      " objection to your coming to see your wife of a weekday evening provided you are\n",
      "ve to get out and say goodbye to your wife now Hey not you girl Oh look she 's j\n",
      " man could n't provide a home for his wife and children not true today The great\n",
      "an I got married you know and with my wife and with the children I got to sort o\n"
     ]
    }
   ],
   "source": [
    "sampleIndex = nltk.text.ConcordanceIndex(sample_text)\n",
    "sampleIndex.print_concordance('wife')"
   ]
  },
  {
   "cell_type": "code",
   "execution_count": 113,
   "metadata": {},
   "outputs": [
    {
     "name": "stdout",
     "output_type": "stream",
     "text": [
      "Displaying 9 of 9 matches:\n",
      "f swapping around and it 's not her husband at all any more Anyway as the bloke\n",
      "he cervix as well call it Me and my husband are looking for a house to buy I wo\n",
      "yours Well yes it 's just us and my husband Sorry doll no children accepted CAT\n",
      "dolls I mean there are times when a husband and wife have to go out together an\n",
      " council house so I was And then me husband he buggered off And they got a sche\n",
      "y come in at night to see that your husband is gone And they come again at 1:00\n",
      "mewhere where she could be with her husband WARDEN No there 's no way at all We\n",
      " not so My children were ill and my husband had n't seen them So he asked could\n",
      "GHING Mrs Ward I see here that your husband has n't been paying the fees Paying\n"
     ]
    }
   ],
   "source": [
    "sampleIndex.print_concordance('husband')"
   ]
  },
  {
   "cell_type": "code",
   "execution_count": 132,
   "metadata": {},
   "outputs": [
    {
     "name": "stdout",
     "output_type": "stream",
     "text": [
      "wife\n",
      "Displaying 9 of 9 matches:\n",
      " for a quick one MAN Did you and your wife have to be out together MR JONES Well\n",
      "an there are times when a husband and wife have to go out together and this was \n",
      "wo facts with you please You and your wife lived at your mother 's house Up to w\n",
      "y No Maysole Maysole Now Mr Ward your wife 's mother What is your wife 's mother\n",
      "Ward your wife 's mother What is your wife 's mother 's address CRYING Do you ha\n",
      " objection to your coming to see your wife of a weekday evening provided you are\n",
      "ve to get out and say goodbye to your wife now Hey not you girl Oh look she 's j\n",
      " man could n't provide a home for his wife and children not true today The great\n",
      "an I got married you know and with my wife and with the children I got to sort o\n",
      "love\n",
      "Displaying 11 of 11 matches:\n",
      "does that one go Coming to the end of love I wrote that neither When you lived i\n",
      "it still in that place Yes it is Well love you know it 'll be a week tomorrow si\n",
      "orses That was mostly the living I 'd love to go back on the roads If we pull in\n",
      " Are you gon na live here mister Yeah love Mind out love Now put that down Sean \n",
      "a live here mister Yeah love Mind out love Now put that down Sean Leave it down \n",
      "e surprised CATHY All right All right love I 've got another one here Here you a\n",
      " that man said Yeah well do n't worry love I 've got 5 have n't I CATHY Nice thi\n",
      " with me Reg do n't Shut up All right love MAN Many social workers feel that all\n",
      " that do n't seem to count Do n't cry love What 's the matter Aww WOMAN We shoul\n",
      " to him than being without him If you love a person what 's the point in leaving\n",
      " n't you go Reg I mean you need a job love I 've heard there 's jobs up in Liver\n",
      "hate\n",
      "Displaying 1 of 1 matches:\n",
      "ried to get was the last resort and I hate it Uh Up that way Well which one is i\n"
     ]
    }
   ],
   "source": [
    "print('wife')\n",
    "sampleIndex.print_concordance('wife')\n",
    "print('love')\n",
    "sampleIndex.print_concordance('love')\n",
    "print('hate')\n",
    "sampleIndex.print_concordance('hate')"
   ]
  },
  {
   "cell_type": "code",
   "execution_count": 115,
   "metadata": {},
   "outputs": [
    {
     "name": "stdout",
     "output_type": "stream",
     "text": [
      "your_'s your_have and_have your_lived your_of your_now his_and my_and\n"
     ]
    }
   ],
   "source": [
    "sample_text.common_contexts(['wife'])"
   ]
  },
  {
   "cell_type": "code",
   "execution_count": 116,
   "metadata": {},
   "outputs": [
    {
     "name": "stdout",
     "output_type": "stream",
     "text": [
      "her_at my_are my_sorry a_and me_he your_is her_warden my_had your_has\n"
     ]
    }
   ],
   "source": [
    "sample_text.common_contexts(['husband'])"
   ]
  },
  {
   "cell_type": "code",
   "execution_count": 131,
   "metadata": {},
   "outputs": [
    {
     "name": "stdout",
     "output_type": "stream",
     "text": [
      "of_how of_i well_you life_'s life_is 'd_to yeah_mind out_now right_i\n",
      "worry_i right_man cry_what you_a job_i\n"
     ]
    }
   ],
   "source": [
    "sample_text.common_contexts(['love'])\n"
   ]
  },
  {
   "cell_type": "code",
   "execution_count": 130,
   "metadata": {},
   "outputs": [
    {
     "name": "stdout",
     "output_type": "stream",
     "text": [
      "i_it\n"
     ]
    }
   ],
   "source": [
    "sample_text.common_contexts(['hate'])"
   ]
  },
  {
   "cell_type": "code",
   "execution_count": 125,
   "metadata": {},
   "outputs": [
    {
     "data": {
      "text/plain": [
       "9"
      ]
     },
     "execution_count": 125,
     "metadata": {},
     "output_type": "execute_result"
    }
   ],
   "source": [
    "sample_text.count('wife')"
   ]
  },
  {
   "cell_type": "code",
   "execution_count": 127,
   "metadata": {},
   "outputs": [
    {
     "data": {
      "image/png": "[encoded data removed]",
      "text/plain": [
       "<Figure size 432x288 with 1 Axes>"
      ]
     },
     "metadata": {
      "needs_background": "light"
     },
     "output_type": "display_data"
    }
   ],
   "source": [
    "sns.reset_orig()\n",
    "sample_text.dispersion_plot(['wife', 'husband', 'love', 'hate'])\n",
    "sns.set()"
   ]
  },
  {
   "cell_type": "code",
   "execution_count": 135,
   "metadata": {},
   "outputs": [
    {
     "name": "stdout",
     "output_type": "stream",
     "text": [
      "wife\n",
      "we dinner baby houses mother pockets\n",
      "husband\n",
      "room week place crisis rows laugh striptease borough bath dump fire\n",
      "love\n",
      "there for it them got that in oh what then grown but have cath need if\n",
      "like give course grandad\n",
      "hate\n",
      "know mean think say reckon gave\n"
     ]
    }
   ],
   "source": [
    "print('wife')\n",
    "sample_text.similar('wife')\n",
    "print('husband')\n",
    "sample_text.similar('husband')\n",
    "print('love')\n",
    "sample_text.similar('love')\n",
    "print('hate')\n",
    "sample_text.similar('hate')"
   ]
  },
  {
   "cell_type": "markdown",
   "metadata": {},
   "source": [
    "# Filtering and normalizing text\n",
    "\n",
    "As we want to start comparing the different releases we may choose to do a bit of filtering and normalizing that will allow us to focus on what we most care about. We can first make all of the words lower case, then drop the non-word tokens. Next, we can remove some 'stop words', stem the remaining words to remove suffixes, prefixes and (in some languages) infixes, or lemmatize tokens by intelligently grouping inflected or variant forms of the same word (e.g., with a stemmer and a dictionary). \n",
    "\n",
    "To begin this process, we will first define a function to work over the tokenized lists, then another to add normalized tokens to a new column."
   ]
  },
  {
   "cell_type": "markdown",
   "metadata": {},
   "source": [
    "We will be using spaCy's built in stop words identifying capacity. When we run text through spaCy's language pipeline, it automatically tags it as a stop word. "
   ]
  },
  {
   "cell_type": "markdown",
   "metadata": {},
   "source": [
    "We can remove these stopwords from the analysis by fiat, but we could also take a more principled approach by looking at the frequency distribution of words and selecting a specific cut-off associated with the preservation of 'meaningful words' identified upon inspection. Alternatively, we could automatically set a cut-off by rule, such as removal of all words more frequent then the most frequent verb, or the most frequent noun (not pronoun), or some term of central interest. "
   ]
  },
  {
   "cell_type": "code",
   "execution_count": 48,
   "metadata": {},
   "outputs": [
    {
     "data": {
      "text/plain": [
       "[('the', 179),\n",
       " ('of', 112),\n",
       " ('to', 112),\n",
       " ('and', 108),\n",
       " ('in', 64),\n",
       " ('a', 61),\n",
       " (\"'s\", 50),\n",
       " ('that', 41),\n",
       " ('our', 39),\n",
       " ('for', 35),\n",
       " ('on', 33),\n",
       " ('is', 33),\n",
       " ('Whitehouse', 31),\n",
       " ('Iraq', 28),\n",
       " ('Bush', 27),\n",
       " ('President', 25),\n",
       " ('troops', 21),\n",
       " ('by', 19),\n",
       " ('American', 19),\n",
       " ('with', 18)]"
      ]
     },
     "execution_count": 48,
     "metadata": {},
     "output_type": "execute_result"
    }
   ],
   "source": [
    "countsDict = {}\n",
    "for word in whReleases['tokenized_text'].sum():\n",
    "    if word in countsDict:\n",
    "        countsDict[word] += 1\n",
    "    else:\n",
    "        countsDict[word] = 1\n",
    "word_counts = sorted(countsDict.items(), key = lambda x : x[1], reverse = True)\n",
    "word_counts[:20]"
   ]
  },
  {
   "cell_type": "markdown",
   "metadata": {},
   "source": [
    "We can look at this and pick the cutoff, often at the first noun. So we will cut all words before `'Whitehouse'`."
   ]
  },
  {
   "cell_type": "code",
   "execution_count": 49,
   "metadata": {},
   "outputs": [
    {
     "data": {
      "text/plain": [
       "['the', 'of', 'to', 'and', 'in', 'a', \"'s\", 'that', 'our', 'for', 'on', 'is']"
      ]
     },
     "execution_count": 49,
     "metadata": {},
     "output_type": "execute_result"
    }
   ],
   "source": [
    "#The stop list is then all words that occur before the first noun\n",
    "stop_words_freq = []\n",
    "for word, count in word_counts:\n",
    "    if word == 'Whitehouse':\n",
    "        break\n",
    "    else:\n",
    "        stop_words_freq.append(word)\n",
    "stop_words_freq"
   ]
  },
  {
   "cell_type": "markdown",
   "metadata": {},
   "source": [
    "If we did have any extra words to add as stop words apart from those normally considered as stop words, we would add it to our stop words by passing it to the normalize tokens method. "
   ]
  },
  {
   "cell_type": "markdown",
   "metadata": {},
   "source": [
    "Now we can create our function to normalize the tokens"
   ]
  },
  {
   "cell_type": "code",
   "execution_count": 149,
   "metadata": {},
   "outputs": [],
   "source": [
    "def normalizeTokens(word_list, extra_stop=[]):\n",
    "    #We can use a generator here as we just need to iterate over it\n",
    "    normalized = []\n",
    "    if type(word_list) == list and len(word_list) == 1:\n",
    "        word_list = word_list[0]\n",
    "\n",
    "    if type(word_list) == list:\n",
    "        word_list = ' '.join([str(elem) for elem in word_list]) \n",
    "\n",
    "    doc = nlp(word_list.lower())\n",
    "    \n",
    "    # add the property of stop word to words considered as stop words\n",
    "    if len(extra_stop) > 0:\n",
    "        for stopword in extra_stop:\n",
    "            lexeme = nlp.vocab[stopword]\n",
    "            lexeme.is_stop = True\n",
    "\n",
    "    for w in doc:\n",
    "        # if it's not a stop word or punctuation mark, add it to our article\n",
    "        if w.text != '\\n' and not w.is_stop and not w.is_punct and not w.like_num and len(w.text.strip()) > 0:\n",
    "            # we add the lematized version of the word\n",
    "            normalized.append(str(w.lemma_))\n",
    "\n",
    "    return normalized"
   ]
  },
  {
   "cell_type": "code",
   "execution_count": 51,
   "metadata": {},
   "outputs": [
    {
     "data": {
      "text/html": [
       "<div>\n",
       "<style scoped>\n",
       "    .dataframe tbody tr th:only-of-type {\n",
       "        vertical-align: middle;\n",
       "    }\n",
       "\n",
       "    .dataframe tbody tr th {\n",
       "        vertical-align: top;\n",
       "    }\n",
       "\n",
       "    .dataframe thead th {\n",
       "        text-align: right;\n",
       "    }\n",
       "</style>\n",
       "<table border=\"1\" class=\"dataframe\">\n",
       "  <thead>\n",
       "    <tr style=\"text-align: right;\">\n",
       "      <th></th>\n",
       "      <th>name</th>\n",
       "      <th>text</th>\n",
       "      <th>path</th>\n",
       "      <th>html_url</th>\n",
       "      <th>download_url</th>\n",
       "      <th>tokenized_text</th>\n",
       "      <th>word_counts</th>\n",
       "      <th>normalized_tokens</th>\n",
       "      <th>normalized_tokens_count</th>\n",
       "    </tr>\n",
       "  </thead>\n",
       "  <tbody>\n",
       "    <tr>\n",
       "      <th>0</th>\n",
       "      <td>10Apr2007Whitehouse123.txt</td>\n",
       "      <td>SEN. WHITEHOUSE SHARES WESTERLY GIRL'S STORY I...</td>\n",
       "      <td>raw/Whitehouse/10Apr2007Whitehouse123.txt</td>\n",
       "      <td>https://github.com/lintool/GrimmerSenatePressR...</td>\n",
       "      <td>https://raw.githubusercontent.com/lintool/Grim...</td>\n",
       "      <td>[SEN, WHITEHOUSE, SHARES, WESTERLY, GIRL, 'S, ...</td>\n",
       "      <td>350</td>\n",
       "      <td>[sen, whitehouse, share, westerly, girl, story...</td>\n",
       "      <td>224</td>\n",
       "    </tr>\n",
       "    <tr>\n",
       "      <th>1</th>\n",
       "      <td>10Apr2008Whitehouse2.txt</td>\n",
       "      <td>SEN. WHITEHOUSE SAYS PRESIDENT BUSH MUST BEGIN...</td>\n",
       "      <td>raw/Whitehouse/10Apr2008Whitehouse2.txt</td>\n",
       "      <td>https://github.com/lintool/GrimmerSenatePressR...</td>\n",
       "      <td>https://raw.githubusercontent.com/lintool/Grim...</td>\n",
       "      <td>[SEN, WHITEHOUSE, SAYS, PRESIDENT, BUSH, MUST,...</td>\n",
       "      <td>311</td>\n",
       "      <td>[sen, whitehouse, say, president, bush, begin,...</td>\n",
       "      <td>159</td>\n",
       "    </tr>\n",
       "    <tr>\n",
       "      <th>2</th>\n",
       "      <td>10Apr2008Whitehouse3.txt</td>\n",
       "      <td>EPA MUST REVIEW LEGAL PROCESS TO ROOT OUT POLI...</td>\n",
       "      <td>raw/Whitehouse/10Apr2008Whitehouse3.txt</td>\n",
       "      <td>https://github.com/lintool/GrimmerSenatePressR...</td>\n",
       "      <td>https://raw.githubusercontent.com/lintool/Grim...</td>\n",
       "      <td>[EPA, MUST, REVIEW, LEGAL, PROCESS, TO, ROOT, ...</td>\n",
       "      <td>497</td>\n",
       "      <td>[epa, review, legal, process, root, political,...</td>\n",
       "      <td>298</td>\n",
       "    </tr>\n",
       "    <tr>\n",
       "      <th>3</th>\n",
       "      <td>10Aug2007Whitehouse78.txt</td>\n",
       "      <td>R.I. SENATORS PRAISE SEN. DENIAL OF LNG FACILI...</td>\n",
       "      <td>raw/Whitehouse/10Aug2007Whitehouse78.txt</td>\n",
       "      <td>https://github.com/lintool/GrimmerSenatePressR...</td>\n",
       "      <td>https://raw.githubusercontent.com/lintool/Grim...</td>\n",
       "      <td>[R.I., SENATORS, PRAISE, SEN, DENIAL, OF, LNG,...</td>\n",
       "      <td>189</td>\n",
       "      <td>[r.i, senator, praise, sen, denial, lng, facil...</td>\n",
       "      <td>116</td>\n",
       "    </tr>\n",
       "    <tr>\n",
       "      <th>4</th>\n",
       "      <td>10Jan2008Whitehouse35.txt</td>\n",
       "      <td>SEN. WHITEHOUSE COMMENTS ON ONE-YEAR ANNIVERSA...</td>\n",
       "      <td>raw/Whitehouse/10Jan2008Whitehouse35.txt</td>\n",
       "      <td>https://github.com/lintool/GrimmerSenatePressR...</td>\n",
       "      <td>https://raw.githubusercontent.com/lintool/Grim...</td>\n",
       "      <td>[SEN, WHITEHOUSE, COMMENTS, ON, ONE, YEAR, ANN...</td>\n",
       "      <td>236</td>\n",
       "      <td>[sen, whitehouse, comment, year, anniversary, ...</td>\n",
       "      <td>125</td>\n",
       "    </tr>\n",
       "    <tr>\n",
       "      <th>5</th>\n",
       "      <td>10Mar2008Whitehouse8.txt</td>\n",
       "      <td>SENS. REED, WHITEHOUSE WELCOME RHODE ISLAND ST...</td>\n",
       "      <td>raw/Whitehouse/10Mar2008Whitehouse8.txt</td>\n",
       "      <td>https://github.com/lintool/GrimmerSenatePressR...</td>\n",
       "      <td>https://raw.githubusercontent.com/lintool/Grim...</td>\n",
       "      <td>[SENS, REED, WHITEHOUSE, WELCOME, RHODE, ISLAN...</td>\n",
       "      <td>334</td>\n",
       "      <td>[sens, reed, whitehouse, welcome, rhode, islan...</td>\n",
       "      <td>197</td>\n",
       "    </tr>\n",
       "    <tr>\n",
       "      <th>6</th>\n",
       "      <td>10Sep2007Whitehouse72.txt</td>\n",
       "      <td>REP. WHITEHOUSE ISSUES STATEMENT ON GEN. PETRA...</td>\n",
       "      <td>raw/Whitehouse/10Sep2007Whitehouse72.txt</td>\n",
       "      <td>https://github.com/lintool/GrimmerSenatePressR...</td>\n",
       "      <td>https://raw.githubusercontent.com/lintool/Grim...</td>\n",
       "      <td>[REP, WHITEHOUSE, ISSUES, STATEMENT, ON, GEN, ...</td>\n",
       "      <td>241</td>\n",
       "      <td>[rep, whitehouse, issue, statement, gen, petra...</td>\n",
       "      <td>118</td>\n",
       "    </tr>\n",
       "    <tr>\n",
       "      <th>7</th>\n",
       "      <td>11Apr2007Whitehouse122.txt</td>\n",
       "      <td>SEN. WHITEHOUSE URGES BUSH FOR NEW DIRECTION I...</td>\n",
       "      <td>raw/Whitehouse/11Apr2007Whitehouse122.txt</td>\n",
       "      <td>https://github.com/lintool/GrimmerSenatePressR...</td>\n",
       "      <td>https://raw.githubusercontent.com/lintool/Grim...</td>\n",
       "      <td>[SEN, WHITEHOUSE, URGES, BUSH, FOR, NEW, DIREC...</td>\n",
       "      <td>469</td>\n",
       "      <td>[sen, whitehouse, urge, bush, new, direction, ...</td>\n",
       "      <td>249</td>\n",
       "    </tr>\n",
       "    <tr>\n",
       "      <th>8</th>\n",
       "      <td>11Jan2007Whitehouse161.txt</td>\n",
       "      <td>SENS. REED, WHITEHOUSE URGE PORTUGAL TO RECONS...</td>\n",
       "      <td>raw/Whitehouse/11Jan2007Whitehouse161.txt</td>\n",
       "      <td>https://github.com/lintool/GrimmerSenatePressR...</td>\n",
       "      <td>https://raw.githubusercontent.com/lintool/Grim...</td>\n",
       "      <td>[SENS, REED, WHITEHOUSE, URGE, PORTUGAL, TO, R...</td>\n",
       "      <td>443</td>\n",
       "      <td>[sens, reed, whitehouse, urge, portugal, recon...</td>\n",
       "      <td>237</td>\n",
       "    </tr>\n",
       "    <tr>\n",
       "      <th>9</th>\n",
       "      <td>11Mar2008Whitehouse7.txt</td>\n",
       "      <td>WHITEHOUSE UNVEILS 'BUSH DEBT': $7.7 TRILLION ...</td>\n",
       "      <td>raw/Whitehouse/11Mar2008Whitehouse7.txt</td>\n",
       "      <td>https://github.com/lintool/GrimmerSenatePressR...</td>\n",
       "      <td>https://raw.githubusercontent.com/lintool/Grim...</td>\n",
       "      <td>[WHITEHOUSE, UNVEILS, BUSH, DEBT, $, 7.7, TRIL...</td>\n",
       "      <td>425</td>\n",
       "      <td>[whitehouse, unveil, bush, debt, $, foregone, ...</td>\n",
       "      <td>241</td>\n",
       "    </tr>\n",
       "  </tbody>\n",
       "</table>\n",
       "</div>"
      ],
      "text/plain": [
       "                         name  \\\n",
       "0  10Apr2007Whitehouse123.txt   \n",
       "1    10Apr2008Whitehouse2.txt   \n",
       "2    10Apr2008Whitehouse3.txt   \n",
       "3   10Aug2007Whitehouse78.txt   \n",
       "4   10Jan2008Whitehouse35.txt   \n",
       "5    10Mar2008Whitehouse8.txt   \n",
       "6   10Sep2007Whitehouse72.txt   \n",
       "7  11Apr2007Whitehouse122.txt   \n",
       "8  11Jan2007Whitehouse161.txt   \n",
       "9    11Mar2008Whitehouse7.txt   \n",
       "\n",
       "                                                text  \\\n",
       "0  SEN. WHITEHOUSE SHARES WESTERLY GIRL'S STORY I...   \n",
       "1  SEN. WHITEHOUSE SAYS PRESIDENT BUSH MUST BEGIN...   \n",
       "2  EPA MUST REVIEW LEGAL PROCESS TO ROOT OUT POLI...   \n",
       "3  R.I. SENATORS PRAISE SEN. DENIAL OF LNG FACILI...   \n",
       "4  SEN. WHITEHOUSE COMMENTS ON ONE-YEAR ANNIVERSA...   \n",
       "5  SENS. REED, WHITEHOUSE WELCOME RHODE ISLAND ST...   \n",
       "6  REP. WHITEHOUSE ISSUES STATEMENT ON GEN. PETRA...   \n",
       "7  SEN. WHITEHOUSE URGES BUSH FOR NEW DIRECTION I...   \n",
       "8  SENS. REED, WHITEHOUSE URGE PORTUGAL TO RECONS...   \n",
       "9  WHITEHOUSE UNVEILS 'BUSH DEBT': $7.7 TRILLION ...   \n",
       "\n",
       "                                        path  \\\n",
       "0  raw/Whitehouse/10Apr2007Whitehouse123.txt   \n",
       "1    raw/Whitehouse/10Apr2008Whitehouse2.txt   \n",
       "2    raw/Whitehouse/10Apr2008Whitehouse3.txt   \n",
       "3   raw/Whitehouse/10Aug2007Whitehouse78.txt   \n",
       "4   raw/Whitehouse/10Jan2008Whitehouse35.txt   \n",
       "5    raw/Whitehouse/10Mar2008Whitehouse8.txt   \n",
       "6   raw/Whitehouse/10Sep2007Whitehouse72.txt   \n",
       "7  raw/Whitehouse/11Apr2007Whitehouse122.txt   \n",
       "8  raw/Whitehouse/11Jan2007Whitehouse161.txt   \n",
       "9    raw/Whitehouse/11Mar2008Whitehouse7.txt   \n",
       "\n",
       "                                            html_url  \\\n",
       "0  https://github.com/lintool/GrimmerSenatePressR...   \n",
       "1  https://github.com/lintool/GrimmerSenatePressR...   \n",
       "2  https://github.com/lintool/GrimmerSenatePressR...   \n",
       "3  https://github.com/lintool/GrimmerSenatePressR...   \n",
       "4  https://github.com/lintool/GrimmerSenatePressR...   \n",
       "5  https://github.com/lintool/GrimmerSenatePressR...   \n",
       "6  https://github.com/lintool/GrimmerSenatePressR...   \n",
       "7  https://github.com/lintool/GrimmerSenatePressR...   \n",
       "8  https://github.com/lintool/GrimmerSenatePressR...   \n",
       "9  https://github.com/lintool/GrimmerSenatePressR...   \n",
       "\n",
       "                                        download_url  \\\n",
       "0  https://raw.githubusercontent.com/lintool/Grim...   \n",
       "1  https://raw.githubusercontent.com/lintool/Grim...   \n",
       "2  https://raw.githubusercontent.com/lintool/Grim...   \n",
       "3  https://raw.githubusercontent.com/lintool/Grim...   \n",
       "4  https://raw.githubusercontent.com/lintool/Grim...   \n",
       "5  https://raw.githubusercontent.com/lintool/Grim...   \n",
       "6  https://raw.githubusercontent.com/lintool/Grim...   \n",
       "7  https://raw.githubusercontent.com/lintool/Grim...   \n",
       "8  https://raw.githubusercontent.com/lintool/Grim...   \n",
       "9  https://raw.githubusercontent.com/lintool/Grim...   \n",
       "\n",
       "                                      tokenized_text  word_counts  \\\n",
       "0  [SEN, WHITEHOUSE, SHARES, WESTERLY, GIRL, 'S, ...          350   \n",
       "1  [SEN, WHITEHOUSE, SAYS, PRESIDENT, BUSH, MUST,...          311   \n",
       "2  [EPA, MUST, REVIEW, LEGAL, PROCESS, TO, ROOT, ...          497   \n",
       "3  [R.I., SENATORS, PRAISE, SEN, DENIAL, OF, LNG,...          189   \n",
       "4  [SEN, WHITEHOUSE, COMMENTS, ON, ONE, YEAR, ANN...          236   \n",
       "5  [SENS, REED, WHITEHOUSE, WELCOME, RHODE, ISLAN...          334   \n",
       "6  [REP, WHITEHOUSE, ISSUES, STATEMENT, ON, GEN, ...          241   \n",
       "7  [SEN, WHITEHOUSE, URGES, BUSH, FOR, NEW, DIREC...          469   \n",
       "8  [SENS, REED, WHITEHOUSE, URGE, PORTUGAL, TO, R...          443   \n",
       "9  [WHITEHOUSE, UNVEILS, BUSH, DEBT, $, 7.7, TRIL...          425   \n",
       "\n",
       "                                   normalized_tokens  normalized_tokens_count  \n",
       "0  [sen, whitehouse, share, westerly, girl, story...                      224  \n",
       "1  [sen, whitehouse, say, president, bush, begin,...                      159  \n",
       "2  [epa, review, legal, process, root, political,...                      298  \n",
       "3  [r.i, senator, praise, sen, denial, lng, facil...                      116  \n",
       "4  [sen, whitehouse, comment, year, anniversary, ...                      125  \n",
       "5  [sens, reed, whitehouse, welcome, rhode, islan...                      197  \n",
       "6  [rep, whitehouse, issue, statement, gen, petra...                      118  \n",
       "7  [sen, whitehouse, urge, bush, new, direction, ...                      249  \n",
       "8  [sens, reed, whitehouse, urge, portugal, recon...                      237  \n",
       "9  [whitehouse, unveil, bush, debt, $, foregone, ...                      241  "
      ]
     },
     "execution_count": 51,
     "metadata": {},
     "output_type": "execute_result"
    }
   ],
   "source": [
    "whReleases['normalized_tokens'] = whReleases['tokenized_text'].apply(lambda x: normalizeTokens(x))\n",
    "\n",
    "whReleases['normalized_tokens_count'] = whReleases['normalized_tokens'].apply(lambda x: len(x))\n",
    "\n",
    "whReleases"
   ]
  },
  {
   "cell_type": "markdown",
   "metadata": {},
   "source": [
    "You can see that in the final step of normalizing, we add the lemmatized form of the word. spaCy's built in lemmatizer does this (https://spacy.io/api/lemmatizer). Lemmatization can be thought of as finding the root or the base of the word after removing inflections and other variations of words. Another possible way of finding the roots of words is using NLTK's porting or stemming functionalities, but we will not be getting into them.\n",
    "\n",
    "Now that it is cleaned we start analyzing the dataset. We can start by finding frequency distributions for the dataset. Lets start looking at all the press releases together. The [`ConditionalFreqDist`](http://www.nltk.org/api/nltk.html#nltk.probability.ConditionalProbDist) class reads in an iterable of tuples, the first element is the condition and the second the focal word. For starters, we will use word lengths as the conditions, but tags or clusters will provide more useful results."
   ]
  },
  {
   "cell_type": "code",
   "execution_count": 52,
   "metadata": {},
   "outputs": [
    {
     "name": "stdout",
     "output_type": "stream",
     "text": [
      "1964\n"
     ]
    }
   ],
   "source": [
    "#.sum() adds together the lists from each row into a single list\n",
    "whcfdist = nltk.ConditionalFreqDist(((len(w), w) for w in whReleases['normalized_tokens'].sum()))\n",
    "\n",
    "#print the number of words\n",
    "print(whcfdist.N())"
   ]
  },
  {
   "cell_type": "markdown",
   "metadata": {},
   "source": [
    "From this we can lookup the distributions of different word lengths"
   ]
  },
  {
   "cell_type": "code",
   "execution_count": 53,
   "metadata": {},
   "outputs": [
    {
     "data": {
      "image/png": "[encoded data removed]",
      "text/plain": [
       "<Figure size 432x288 with 1 Axes>"
      ]
     },
     "metadata": {},
     "output_type": "display_data"
    },
    {
     "data": {
      "text/plain": [
       "<AxesSubplot:xlabel='Samples', ylabel='Counts'>"
      ]
     },
     "execution_count": 53,
     "metadata": {},
     "output_type": "execute_result"
    }
   ],
   "source": [
    "whcfdist[3].plot()"
   ]
  },
  {
   "cell_type": "markdown",
   "metadata": {},
   "source": [
    "We can also create a Conditional Probability Distribution or [`ConditionalProbDist`](http://www.nltk.org/api/nltk.html#nltk.probability.ConditionalProbDist) from the `ConditionalFreqDist`. To do this, however, we need a model for the probability distribution. A simple model is [`ELEProbDist`](http://www.nltk.org/api/nltk.html#nltk.probability.ELEProbDist) which gives the expected likelihood estimate for the probability distribution of the experiment used to generate the observed frequency distribution. "
   ]
  },
  {
   "cell_type": "code",
   "execution_count": 54,
   "metadata": {},
   "outputs": [
    {
     "name": "stdout",
     "output_type": "stream",
     "text": [
      "ri\n",
      "0.25\n"
     ]
    }
   ],
   "source": [
    "whcpdist = nltk.ConditionalProbDist(whcfdist, nltk.ELEProbDist)\n",
    "\n",
    "#print the most common 2 letter word\n",
    "print(whcpdist[2].max())\n",
    "\n",
    "#And its probability\n",
    "print(whcpdist[2].prob(whcpdist[2].max()))"
   ]
  },
  {
   "cell_type": "markdown",
   "metadata": {},
   "source": [
    "Length is one feature of a word, but there are many more important features we care about. Another critical feature is a word's role in the sentence, or its part of speech (POS). \n",
    "\n",
    "The method below works similarly to ```nltk.pos_text```, and can work with the conditional frequency distributions it provides."
   ]
  },
  {
   "cell_type": "code",
   "execution_count": 16,
   "metadata": {},
   "outputs": [],
   "source": [
    "def spacy_pos(word_list):\n",
    "    tags = []\n",
    "    doc = nlp(word_list.lower())\n",
    "    for w in doc:\n",
    "        tags.append((w.text, w.tag_))\n",
    "    return tags"
   ]
  },
  {
   "cell_type": "code",
   "execution_count": 56,
   "metadata": {},
   "outputs": [],
   "source": [
    "whReleases['normalized_tokens_POS'] = [spacy_pos(t) for t in whReleases['text']]"
   ]
  },
  {
   "cell_type": "markdown",
   "metadata": {},
   "source": [
    "This gives us a new column with the part of speech as a short initialism and the word in a tuple, exactly how the `nltk.ConditionalFreqDist()` function wants them. We can now construct another conditional frequency distribution."
   ]
  },
  {
   "cell_type": "code",
   "execution_count": 57,
   "metadata": {},
   "outputs": [
    {
     "data": {
      "text/plain": [
       "[('sen', FreqDist({'NNP': 9})),\n",
       " ('.', FreqDist({'.': 127, 'NNP': 39})),\n",
       " ('whitehouse', FreqDist({'NN': 27, 'NNP': 13})),\n",
       " ('shares', FreqDist({'NNS': 1})),\n",
       " ('westerly', FreqDist({'RB': 2})),\n",
       " ('girl', FreqDist({'NN': 2})),\n",
       " (\"'s\", FreqDist({'POS': 47, 'VBZ': 5})),\n",
       " ('story', FreqDist({'NN': 2})),\n",
       " ('in', FreqDist({'IN': 71, 'RP': 1})),\n",
       " ('push', FreqDist({'NN': 1}))]"
      ]
     },
     "execution_count": 57,
     "metadata": {},
     "output_type": "execute_result"
    }
   ],
   "source": [
    "whcfdist_WordtoPOS = nltk.ConditionalFreqDist(whReleases['normalized_tokens_POS'].sum())\n",
    "list(whcfdist_WordtoPOS.items())[:10]"
   ]
  },
  {
   "cell_type": "markdown",
   "metadata": {},
   "source": [
    "This gives the frequency of each word as each part of speech...which can be uninformative and boring. What we want is the converse; the frequency of each part of speech for each word."
   ]
  },
  {
   "cell_type": "code",
   "execution_count": 58,
   "metadata": {},
   "outputs": [],
   "source": [
    "whcfdist_POStoWord = nltk.ConditionalFreqDist((p, w) for w, p in whReleases['normalized_tokens_POS'].sum())"
   ]
  },
  {
   "cell_type": "markdown",
   "metadata": {},
   "source": [
    "We can now identify and collect all of the superlative adjectives"
   ]
  },
  {
   "cell_type": "code",
   "execution_count": 59,
   "metadata": {},
   "outputs": [
    {
     "data": {
      "text/plain": [
       "FreqDist({'american': 17, 'new': 10, 'portuguese': 9, 'political': 8, 'federal': 5, 'clear': 5, 'potential': 5, 'fiscal': 5, 'last': 4, 'several': 4, ...})"
      ]
     },
     "execution_count": 59,
     "metadata": {},
     "output_type": "execute_result"
    }
   ],
   "source": [
    "whcfdist_POStoWord['JJ']"
   ]
  },
  {
   "cell_type": "markdown",
   "metadata": {},
   "source": [
    "Or look at the most common nouns"
   ]
  },
  {
   "cell_type": "code",
   "execution_count": 60,
   "metadata": {},
   "outputs": [
    {
     "data": {
      "text/plain": [
       "[('whitehouse', 27), ('d', 17), ('today', 15), ('stem', 12), ('year', 12)]"
      ]
     },
     "execution_count": 60,
     "metadata": {},
     "output_type": "execute_result"
    }
   ],
   "source": [
    "whcfdist_POStoWord['NN'].most_common(5)"
   ]
  },
  {
   "cell_type": "markdown",
   "metadata": {},
   "source": [
    "Or plot the base form verbs against their number of occurrences"
   ]
  },
  {
   "cell_type": "code",
   "execution_count": 61,
   "metadata": {},
   "outputs": [
    {
     "data": {
      "image/png": "[encoded data removed]",
      "text/plain": [
       "<Figure size 432x288 with 1 Axes>"
      ]
     },
     "metadata": {},
     "output_type": "display_data"
    },
    {
     "data": {
      "text/plain": [
       "<AxesSubplot:xlabel='Samples', ylabel='Counts'>"
      ]
     },
     "execution_count": 61,
     "metadata": {},
     "output_type": "execute_result"
    }
   ],
   "source": [
    "whcfdist_POStoWord['VB'].plot()"
   ]
  },
  {
   "cell_type": "markdown",
   "metadata": {},
   "source": [
    "We can then do a similar analysis of the word probabilities"
   ]
  },
  {
   "cell_type": "code",
   "execution_count": 62,
   "metadata": {},
   "outputs": [
    {
     "name": "stdout",
     "output_type": "stream",
     "text": [
      "whitehouse\n",
      "0.032391048292108364\n"
     ]
    }
   ],
   "source": [
    "whcpdist_POStoWord = nltk.ConditionalProbDist(whcfdist_POStoWord, nltk.ELEProbDist)\n",
    "\n",
    "#print the most common nouns\n",
    "print(whcpdist_POStoWord['NN'].max())\n",
    "\n",
    "#And its probability\n",
    "print(whcpdist_POStoWord['NN'].prob(whcpdist_POStoWord['NN'].max()))"
   ]
  },
  {
   "cell_type": "markdown",
   "metadata": {},
   "source": [
    "We can even create a...wait for it...*WORD CLOUD* or Wordl to gaze at and draw mystical, approximate inferences about important nouns and verbs in our corpus:"
   ]
  },
  {
   "cell_type": "code",
   "execution_count": 63,
   "metadata": {},
   "outputs": [
    {
     "data": {
      "image/png": "[encoded data removed]",
      "text/plain": [
       "<Figure size 432x288 with 1 Axes>"
      ]
     },
     "metadata": {},
     "output_type": "display_data"
    }
   ],
   "source": [
    "wc = wordcloud.WordCloud(background_color=\"white\", max_words=500, width= 1000, height = 1000, mode ='RGBA', scale=.5).generate(' '.join(whReleases['normalized_tokens'].sum()))\n",
    "plt.imshow(wc)\n",
    "plt.axis(\"off\")\n",
    "plt.savefig(\"whitehouse_word_cloud.pdf\", format = 'pdf')"
   ]
  },
  {
   "cell_type": "markdown",
   "metadata": {},
   "source": [
    "## <font color=\"red\">*Exercise 2*</font>\n",
    "\n",
    "<font color=\"red\">Construct cells immediately below this that filter, stem and lemmatize the tokens in your corpus, and then creates plots (with titles and labels) that map the word frequency distribution, word probability distribution, and at least two conditional probability distributions that help us better understand the social and cultural game underlying the production of your corpus. Create a wordl of words (or normalized words) and add a few vague comments about what mysteries are revealed through it.</font>"
   ]
  },
  {
   "cell_type": "code",
   "execution_count": 151,
   "metadata": {},
   "outputs": [],
   "source": [
    "import pandas as pd\n",
    "\n",
    "def tokenize_word_lists(word_lists):\n",
    "    output = []\n",
    "    for word_list in word_lists:\n",
    "        tokenized_word_list = word_tokenize(word_list)\n",
    "        output.append(tokenized_word_list)\n",
    "    return output"
   ]
  },
  {
   "cell_type": "code",
   "execution_count": 156,
   "metadata": {},
   "outputs": [],
   "source": [
    "tv_tokens = {}\n",
    "tv_tokens['01.txt'] = tokenize_word_lists(tv_cleaned['01.txt'][:100])"
   ]
  },
  {
   "cell_type": "code",
   "execution_count": 159,
   "metadata": {},
   "outputs": [],
   "source": [
    "\n",
    "tv_data = []\n",
    "\n",
    "for element in tv_tokens['01.txt'][1:]:\n",
    "    tv_data.append([element[0], element[1:]])\n",
    "\n",
    "df = pd.DataFrame(tv_data, columns = ['id', 'tokens'])\n",
    "\n"
   ]
  },
  {
   "cell_type": "code",
   "execution_count": 161,
   "metadata": {},
   "outputs": [
    {
     "data": {
      "text/html": [
       "<div>\n",
       "<style scoped>\n",
       "    .dataframe tbody tr th:only-of-type {\n",
       "        vertical-align: middle;\n",
       "    }\n",
       "\n",
       "    .dataframe tbody tr th {\n",
       "        vertical-align: top;\n",
       "    }\n",
       "\n",
       "    .dataframe thead th {\n",
       "        text-align: right;\n",
       "    }\n",
       "</style>\n",
       "<table border=\"1\" class=\"dataframe\">\n",
       "  <thead>\n",
       "    <tr style=\"text-align: right;\">\n",
       "      <th></th>\n",
       "      <th>id</th>\n",
       "      <th>tokens</th>\n",
       "      <th>normalized_tokens</th>\n",
       "    </tr>\n",
       "  </thead>\n",
       "  <tbody>\n",
       "    <tr>\n",
       "      <th>0</th>\n",
       "      <td>@@4286412</td>\n",
       "      <td>[I, stole, something, that, belonged, to, you,...</td>\n",
       "      <td>[steal, belong, absurd, genius, yeah, right, c...</td>\n",
       "    </tr>\n",
       "    <tr>\n",
       "      <th>1</th>\n",
       "      <td>@@4604767</td>\n",
       "      <td>[I, came, here, I, think, to, make, an, arrest...</td>\n",
       "      <td>[come, think, arrest, woman, kill, motive, sta...</td>\n",
       "    </tr>\n",
       "    <tr>\n",
       "      <th>2</th>\n",
       "      <td>@@3596222</td>\n",
       "      <td>[tires_screeching, Mr, Lang, the, phone, compa...</td>\n",
       "      <td>[tires_screeche, mr, lang, phone, company, tel...</td>\n",
       "    </tr>\n",
       "    <tr>\n",
       "      <th>3</th>\n",
       "      <td>@@6214750</td>\n",
       "      <td>[I, hope, we, get, back, to, the, place, by, 1...</td>\n",
       "      <td>[hope, place, 1:00, 1:00, picture, tube, end, ...</td>\n",
       "    </tr>\n",
       "    <tr>\n",
       "      <th>4</th>\n",
       "      <td>@@4602905</td>\n",
       "      <td>[@piano_playing, I, would, n't, want, anything...</td>\n",
       "      <td>[@piano_playing, want, unnerve, upset, m, luck...</td>\n",
       "    </tr>\n",
       "  </tbody>\n",
       "</table>\n",
       "</div>"
      ],
      "text/plain": [
       "          id                                             tokens  \\\n",
       "0  @@4286412  [I, stole, something, that, belonged, to, you,...   \n",
       "1  @@4604767  [I, came, here, I, think, to, make, an, arrest...   \n",
       "2  @@3596222  [tires_screeching, Mr, Lang, the, phone, compa...   \n",
       "3  @@6214750  [I, hope, we, get, back, to, the, place, by, 1...   \n",
       "4  @@4602905  [@piano_playing, I, would, n't, want, anything...   \n",
       "\n",
       "                                   normalized_tokens  \n",
       "0  [steal, belong, absurd, genius, yeah, right, c...  \n",
       "1  [come, think, arrest, woman, kill, motive, sta...  \n",
       "2  [tires_screeche, mr, lang, phone, company, tel...  \n",
       "3  [hope, place, 1:00, 1:00, picture, tube, end, ...  \n",
       "4  [@piano_playing, want, unnerve, upset, m, luck...  "
      ]
     },
     "execution_count": 161,
     "metadata": {},
     "output_type": "execute_result"
    }
   ],
   "source": [
    "df['normalized_tokens'] = df['tokens'].apply(lambda x: normalizeTokens(x))\n",
    "df.head()"
   ]
  },
  {
   "cell_type": "code",
   "execution_count": 203,
   "metadata": {},
   "outputs": [
    {
     "data": {
      "text/html": [
       "<div>\n",
       "<style scoped>\n",
       "    .dataframe tbody tr th:only-of-type {\n",
       "        vertical-align: middle;\n",
       "    }\n",
       "\n",
       "    .dataframe tbody tr th {\n",
       "        vertical-align: top;\n",
       "    }\n",
       "\n",
       "    .dataframe thead th {\n",
       "        text-align: right;\n",
       "    }\n",
       "</style>\n",
       "<table border=\"1\" class=\"dataframe\">\n",
       "  <thead>\n",
       "    <tr style=\"text-align: right;\">\n",
       "      <th></th>\n",
       "      <th>id</th>\n",
       "      <th>tokens</th>\n",
       "      <th>normalized_tokens</th>\n",
       "      <th>normalized_tokens_count</th>\n",
       "    </tr>\n",
       "  </thead>\n",
       "  <tbody>\n",
       "    <tr>\n",
       "      <th>0</th>\n",
       "      <td>@@4286412</td>\n",
       "      <td>[I, stole, something, that, belonged, to, you,...</td>\n",
       "      <td>[steal, belong, absurd, genius, yeah, right, c...</td>\n",
       "      <td>3283</td>\n",
       "    </tr>\n",
       "    <tr>\n",
       "      <th>1</th>\n",
       "      <td>@@4604767</td>\n",
       "      <td>[I, came, here, I, think, to, make, an, arrest...</td>\n",
       "      <td>[come, think, arrest, woman, kill, motive, sta...</td>\n",
       "      <td>3551</td>\n",
       "    </tr>\n",
       "    <tr>\n",
       "      <th>2</th>\n",
       "      <td>@@3596222</td>\n",
       "      <td>[tires_screeching, Mr, Lang, the, phone, compa...</td>\n",
       "      <td>[tires_screeche, mr, lang, phone, company, tel...</td>\n",
       "      <td>3149</td>\n",
       "    </tr>\n",
       "    <tr>\n",
       "      <th>3</th>\n",
       "      <td>@@6214750</td>\n",
       "      <td>[I, hope, we, get, back, to, the, place, by, 1...</td>\n",
       "      <td>[hope, place, 1:00, 1:00, picture, tube, end, ...</td>\n",
       "      <td>2215</td>\n",
       "    </tr>\n",
       "    <tr>\n",
       "      <th>4</th>\n",
       "      <td>@@4602905</td>\n",
       "      <td>[@piano_playing, I, would, n't, want, anything...</td>\n",
       "      <td>[@piano_playing, want, unnerve, upset, m, luck...</td>\n",
       "      <td>3837</td>\n",
       "    </tr>\n",
       "  </tbody>\n",
       "</table>\n",
       "</div>"
      ],
      "text/plain": [
       "          id                                             tokens  \\\n",
       "0  @@4286412  [I, stole, something, that, belonged, to, you,...   \n",
       "1  @@4604767  [I, came, here, I, think, to, make, an, arrest...   \n",
       "2  @@3596222  [tires_screeching, Mr, Lang, the, phone, compa...   \n",
       "3  @@6214750  [I, hope, we, get, back, to, the, place, by, 1...   \n",
       "4  @@4602905  [@piano_playing, I, would, n't, want, anything...   \n",
       "\n",
       "                                   normalized_tokens  normalized_tokens_count  \n",
       "0  [steal, belong, absurd, genius, yeah, right, c...                     3283  \n",
       "1  [come, think, arrest, woman, kill, motive, sta...                     3551  \n",
       "2  [tires_screeche, mr, lang, phone, company, tel...                     3149  \n",
       "3  [hope, place, 1:00, 1:00, picture, tube, end, ...                     2215  \n",
       "4  [@piano_playing, want, unnerve, upset, m, luck...                     3837  "
      ]
     },
     "execution_count": 203,
     "metadata": {},
     "output_type": "execute_result"
    }
   ],
   "source": [
    "#total token count\n",
    "df['normalized_tokens_count'] = df['normalized_tokens'].apply(lambda x: len(x))\n",
    "df.head()"
   ]
  },
  {
   "cell_type": "code",
   "execution_count": null,
   "metadata": {},
   "outputs": [],
   "source": [
    "#add text from "
   ]
  },
  {
   "cell_type": "code",
   "execution_count": 207,
   "metadata": {},
   "outputs": [
    {
     "data": {
      "text/html": [
       "<div>\n",
       "<style scoped>\n",
       "    .dataframe tbody tr th:only-of-type {\n",
       "        vertical-align: middle;\n",
       "    }\n",
       "\n",
       "    .dataframe tbody tr th {\n",
       "        vertical-align: top;\n",
       "    }\n",
       "\n",
       "    .dataframe thead th {\n",
       "        text-align: right;\n",
       "    }\n",
       "</style>\n",
       "<table border=\"1\" class=\"dataframe\">\n",
       "  <thead>\n",
       "    <tr style=\"text-align: right;\">\n",
       "      <th></th>\n",
       "      <th>id</th>\n",
       "      <th>tokens</th>\n",
       "      <th>normalized_tokens</th>\n",
       "      <th>normalized_tokens_count</th>\n",
       "    </tr>\n",
       "  </thead>\n",
       "  <tbody>\n",
       "    <tr>\n",
       "      <th>39</th>\n",
       "      <td>@@4288998</td>\n",
       "      <td>[I, 'm, an, officer, I, swore, an, oath, never...</td>\n",
       "      <td>[m, officer, swear, oath, betray, state, secre...</td>\n",
       "      <td>1416</td>\n",
       "    </tr>\n",
       "  </tbody>\n",
       "</table>\n",
       "</div>"
      ],
      "text/plain": [
       "           id                                             tokens  \\\n",
       "39  @@4288998  [I, 'm, an, officer, I, swore, an, oath, never...   \n",
       "\n",
       "                                    normalized_tokens  normalized_tokens_count  \n",
       "39  [m, officer, swear, oath, betray, state, secre...                     1416  "
      ]
     },
     "execution_count": 207,
     "metadata": {},
     "output_type": "execute_result"
    }
   ],
   "source": [
    "# only first row\n",
    "sampled_df = df.sample(n = 1)\n",
    "sampled_df"
   ]
  },
  {
   "cell_type": "code",
   "execution_count": 208,
   "metadata": {},
   "outputs": [],
   "source": [
    "tv_1_dist = nltk.ConditionalFreqDist(((len(w), w) for w in sampled_df['normalized_tokens'].sum()))"
   ]
  },
  {
   "cell_type": "code",
   "execution_count": 209,
   "metadata": {},
   "outputs": [
    {
     "data": {
      "text/plain": [
       "FreqDist({'let': 7, 'god': 7, 'man': 6, 'guy': 6, 'get': 6, 'say': 5, 'pda': 5, 'way': 5, 'huh': 4, 'ask': 4, ...})"
      ]
     },
     "execution_count": 209,
     "metadata": {},
     "output_type": "execute_result"
    }
   ],
   "source": [
    "tv_1_dist[3]"
   ]
  },
  {
   "cell_type": "code",
   "execution_count": 219,
   "metadata": {},
   "outputs": [
    {
     "data": {
      "image/png": "[encoded data removed]",
      "text/plain": [
       "<Figure size 576x864 with 1 Axes>"
      ]
     },
     "metadata": {},
     "output_type": "display_data"
    },
    {
     "data": {
      "text/plain": [
       "Text(0.5, 17.19999999999999, '3 Letter Words')"
      ]
     },
     "execution_count": 219,
     "metadata": {},
     "output_type": "execute_result"
    }
   ],
   "source": [
    "# create plot, xlabel = \"3 Letter Words\", ylabel = \"Frequency\"\n",
    "\n",
    "fig = plt.figure(figsize=(8,12))\n",
    "ax = fig.add_subplot(211)\n",
    "ax.set_title('Frequency of 3 Letter Words')\n",
    "\n",
    "tv_1_dist[3].plot()"
   ]
  },
  {
   "cell_type": "code",
   "execution_count": 220,
   "metadata": {},
   "outputs": [
    {
     "data": {
      "text/html": [
       "<div>\n",
       "<style scoped>\n",
       "    .dataframe tbody tr th:only-of-type {\n",
       "        vertical-align: middle;\n",
       "    }\n",
       "\n",
       "    .dataframe tbody tr th {\n",
       "        vertical-align: top;\n",
       "    }\n",
       "\n",
       "    .dataframe thead th {\n",
       "        text-align: right;\n",
       "    }\n",
       "</style>\n",
       "<table border=\"1\" class=\"dataframe\">\n",
       "  <thead>\n",
       "    <tr style=\"text-align: right;\">\n",
       "      <th></th>\n",
       "      <th>id</th>\n",
       "      <th>tokens</th>\n",
       "      <th>normalized_tokens</th>\n",
       "      <th>normalized_tokens_count</th>\n",
       "    </tr>\n",
       "  </thead>\n",
       "  <tbody>\n",
       "    <tr>\n",
       "      <th>39</th>\n",
       "      <td>@@4288998</td>\n",
       "      <td>[I, 'm, an, officer, I, swore, an, oath, never...</td>\n",
       "      <td>[m, officer, swear, oath, betray, state, secre...</td>\n",
       "      <td>1416</td>\n",
       "    </tr>\n",
       "  </tbody>\n",
       "</table>\n",
       "</div>"
      ],
      "text/plain": [
       "           id                                             tokens  \\\n",
       "39  @@4288998  [I, 'm, an, officer, I, swore, an, oath, never...   \n",
       "\n",
       "                                    normalized_tokens  normalized_tokens_count  \n",
       "39  [m, officer, swear, oath, betray, state, secre...                     1416  "
      ]
     },
     "execution_count": 220,
     "metadata": {},
     "output_type": "execute_result"
    }
   ],
   "source": [
    "sampled_df['normalized_tokens_POS'] = [spacy_pos(t) for t in sampled_df['text']]"
   ]
  },
  {
   "cell_type": "code",
   "execution_count": null,
   "metadata": {},
   "outputs": [],
   "source": [
    "plt.figure"
   ]
  },
  {
   "cell_type": "markdown",
   "metadata": {},
   "source": [
    "## Davies Corpora\n",
    "\n",
    "Now that we have our basic cleaning down, we can arrange our Davies Corpora. Let us try this with the movies corpora we have already loaded.\n",
    "\n",
    "We'll use a smaller corpus of a 1000 movies for this demonstration."
   ]
  },
  {
   "cell_type": "code",
   "execution_count": 64,
   "metadata": {},
   "outputs": [],
   "source": [
    "zfile = zipfile.ZipFile(corpus_name + \"/sources_movies.zip\")\n",
    "source = []"
   ]
  },
  {
   "cell_type": "code",
   "execution_count": 65,
   "metadata": {},
   "outputs": [],
   "source": [
    "for file in zfile.namelist():\n",
    "    with zfile.open(file) as f:\n",
    "        for line in f:\n",
    "            source.append(line)"
   ]
  },
  {
   "cell_type": "code",
   "execution_count": 66,
   "metadata": {},
   "outputs": [
    {
     "data": {
      "text/plain": [
       "[b'textID\\tfileID\\t#words\\tgenre\\tyear\\tlanguage(s)\\tcountry\\timdb\\ttitle\\r\\n',\n",
       " b'-----\\t-----\\t-----\\t-----\\t-----\\t-----\\t-----\\t-----\\t-----\\r\\n',\n",
       " b'\\r\\n',\n",
       " b'290635\\t3547424\\t4722\\tShort, Musical\\t1930\\tUK\\tEnglish\\t0290635\\tGoodbye to All That\\r\\n',\n",
       " b'21165\\t6332374\\t10220\\tCrime, Mystery, Thriller\\t1930\\tUK\\tEnglish\\t0021165\\tMurder!\\r\\n',\n",
       " b'21191\\t6013789\\t5281\\tDrama, Romance\\t1930\\tUSA\\tEnglish\\t0021191\\tA Notorious Affair\\r\\n',\n",
       " b'20620\\t3660608\\t6724\\tBiography, Drama, History\\t1930\\tUSA\\tEnglish\\t0020620\\tAbraham Lincoln\\r\\n',\n",
       " b'20629\\t60053\\t9552\\tDrama, War\\t1930\\tUSA\\tEnglish, French, German, Latin\\t0020629\\tAll Quiet on the Western Front\\r\\n',\n",
       " b'20640\\t6850720\\t13862\\tComedy, Musical\\t1930\\tUSA\\tEnglish\\t0020640\\tAnimal Crackers\\r\\n',\n",
       " b'20641\\t176501\\t11140\\tDrama, Romance\\t1930\\tUSA\\tEnglish\\t0020641\\tAnna Christie\\r\\n',\n",
       " b'20643\\t3603861\\t1748\\tComedy, Short\\t1930\\tUSA\\tEnglish\\t0020643\\tAnother Fine Mess\\r\\n',\n",
       " b'20670\\t4159455\\t6966\\tComedy, Musical\\t1930\\tUSA\\tEnglish\\t0020670\\tBe Yourself!\\r\\n',\n",
       " b'20702\\t3435788\\t6870\\tCrime, Drama, Film-Noir\\t1930\\tUSA\\tEnglish, Italian, French\\t0020702\\tBorn Reckless\\r\\n',\n",
       " b'20768\\t3128644\\t1782\\tDrama, Romance\\t1930\\tUSA\\tEnglish\\t0020768\\tCity Girl\\r\\n',\n",
       " b'20876\\t105788\\t8463\\tComedy\\t1930\\tUSA\\tEnglish\\t0020876\\tFeet First\\r\\n',\n",
       " b'20945\\t6935753\\t8669\\tComedy, Musical\\t1930\\tUSA\\tEnglish, French\\t0020945\\tHalf Shot at Sunrise\\r\\n',\n",
       " b\"20960\\t5583644\\t7331\\tDrama, War\\t1930\\tUSA\\tEnglish, German, French\\t0020960\\tHell's Angels\\r\\n\",\n",
       " b'21025\\t6922578\\t4495\\tAnimation, Music\\t1930\\tUSA\\tEnglish\\t0021025\\tKing of Jazz\\r\\n',\n",
       " b'21040\\t4056770\\t9201\\tDrama, Romance\\t1930\\tUSA\\tEnglish\\t0021040\\tLadies of Leisure\\r\\n',\n",
       " b'22058\\t3445333\\t919\\tShort, Comedy\\t1930\\tUSA\\tEnglish\\t0022058\\tLaughing Gravy\\r\\n']"
      ]
     },
     "execution_count": 66,
     "metadata": {},
     "output_type": "execute_result"
    }
   ],
   "source": [
    "source[0:20]"
   ]
  },
  {
   "cell_type": "markdown",
   "metadata": {},
   "source": [
    "It looks dirty because the file is encoded as bytes, but we can certainly see the information there. The file id is also present in the original raw text data: as the first \"word\". Look back at the normalized/tokenized words to confirm that. We're going to use this to create a dataframe with: Fileid, movie name, genre, year, and country.\n",
    "\n",
    "It is advised that you run a similar check of the source file before you do other extraction.\n",
    "\n",
    "First, let us create a dictionary mapping file-id to all the text. Each movie will be mapped to a list of the tokenized words.\n",
    "\n",
    "In this example, I only use it to load 100 movies. You can comment this out or increase/decrease the number as you see fit.\n",
    "\n",
    "Note that in the following cells, we make use of the `lucem_illud` package's `word_tokenize` function. You can see that function on line 70 of [processing.py](https://github.com/UChicago-Computational-Content-Analysis/lucem_illud/blob/main/lucem_illud/processing.py), and we provide the code here for transparency. Since we put this folder in our helper package, you won't need to define this function every time you want to use it; you just `import lucem_illud`!"
   ]
  },
  {
   "cell_type": "code",
   "execution_count": 67,
   "metadata": {},
   "outputs": [],
   "source": [
    "# processing.py calls a spacy model called \"en\" (and sometimes called \"en_core_web_sm\") so we load that first.\n",
    "try:\n",
    "    nlp = spacy.load(\"en\")\n",
    "except OSError:\n",
    "    nlp = spacy.load(\"en_core_web_sm\")\n",
    "\n",
    "    \n",
    "#Here is the function from lucem_illud/lucem_illud/processing.py\n",
    "def word_tokenize(word_list, model=nlp, MAX_LEN=1500000):\n",
    "    \n",
    "    tokenized = []\n",
    "    if type(word_list) == list and len(word_list) == 1:\n",
    "        word_list = word_list[0]\n",
    "\n",
    "    if type(word_list) == list:\n",
    "        word_list = ' '.join([str(elem) for elem in word_list]) \n",
    "    # since we're only tokenizing, I remove RAM intensive operations and increase max text size\n",
    "\n",
    "    model.max_length = MAX_LEN\n",
    "    doc = model(word_list, disable=[\"parser\", \"tagger\", \"ner\"])\n",
    "    \n",
    "    for token in doc:\n",
    "        if not token.is_punct and len(token.text.strip()) > 0:\n",
    "            tokenized.append(token.text)\n",
    "    return tokenized"
   ]
  },
  {
   "cell_type": "code",
   "execution_count": 68,
   "metadata": {},
   "outputs": [],
   "source": [
    "movie_texts = {}"
   ]
  },
  {
   "cell_type": "code",
   "execution_count": 69,
   "metadata": {},
   "outputs": [
    {
     "name": "stderr",
     "output_type": "stream",
     "text": [
      "C:\\Users\\Zacha\\anaconda3\\envs\\testing\\lib\\site-packages\\spacy\\pipeline\\lemmatizer.py:211: UserWarning: [W108] The rule-based lemmatizer did not find POS annotation for one or more tokens. Check that your pipeline includes components that assign token.pos, typically 'tagger'+'attribute_ruler' or 'morphologizer'.\n",
      "  warnings.warn(Warnings.W108)\n"
     ]
    }
   ],
   "source": [
    "for files in movie_raw:\n",
    "    if len(movie_texts) > 100:\n",
    "        break\n",
    "    movies = clean_raw_text(movie_raw[files][1:])\n",
    "    for movie in movies:\n",
    "        # We can run the following line of code with or without `lucem_illud.`, using the package or our code 2 cells above.\n",
    "        txts = lucem_illud.word_tokenize(movie)\n",
    "        try:\n",
    "            movie_texts[txts[0][2:]] = txts[1:]\n",
    "        except IndexError:\n",
    "            continue"
   ]
  },
  {
   "cell_type": "code",
   "execution_count": 17,
   "metadata": {},
   "outputs": [],
   "source": [
    "import pandas as pd"
   ]
  },
  {
   "cell_type": "code",
   "execution_count": 71,
   "metadata": {},
   "outputs": [],
   "source": [
    "movie_df = pd.DataFrame(columns=[\"Movie Name\", \"Genre\", \"Year\", \"Country\", \"Tokenized Texts\"])"
   ]
  },
  {
   "cell_type": "code",
   "execution_count": 72,
   "metadata": {},
   "outputs": [],
   "source": [
    "for movie in source[3:]:\n",
    "    try:\n",
    "        tid, fileid, total_words, genre, year, lang, country, imdb, title = movie.decode(\"utf-8\").split(\"\\t\")\n",
    "    except UnicodeDecodeError:\n",
    "        continue\n",
    "    try:\n",
    "        movie_df.loc[fileid.strip()] = [title.strip(), genre.strip(), year.strip(), country.strip(), movie_texts[fileid.strip()]]\n",
    "    except KeyError:\n",
    "        continue"
   ]
  },
  {
   "cell_type": "code",
   "execution_count": 73,
   "metadata": {},
   "outputs": [
    {
     "data": {
      "text/html": [
       "<div>\n",
       "<style scoped>\n",
       "    .dataframe tbody tr th:only-of-type {\n",
       "        vertical-align: middle;\n",
       "    }\n",
       "\n",
       "    .dataframe tbody tr th {\n",
       "        vertical-align: top;\n",
       "    }\n",
       "\n",
       "    .dataframe thead th {\n",
       "        text-align: right;\n",
       "    }\n",
       "</style>\n",
       "<table border=\"1\" class=\"dataframe\">\n",
       "  <thead>\n",
       "    <tr style=\"text-align: right;\">\n",
       "      <th></th>\n",
       "      <th>Movie Name</th>\n",
       "      <th>Genre</th>\n",
       "      <th>Year</th>\n",
       "      <th>Country</th>\n",
       "      <th>Tokenized Texts</th>\n",
       "    </tr>\n",
       "  </thead>\n",
       "  <tbody>\n",
       "    <tr>\n",
       "      <th>3435788</th>\n",
       "      <td>Born Reckless</td>\n",
       "      <td>Crime, Drama, Film-Noir</td>\n",
       "      <td>1930</td>\n",
       "      <td>English, Italian, French</td>\n",
       "      <td>[Louis, Louis, Beretti, Shh, Put, that, out, y...</td>\n",
       "    </tr>\n",
       "    <tr>\n",
       "      <th>6880640</th>\n",
       "      <td>Dishonored</td>\n",
       "      <td>Drama, Romance, War</td>\n",
       "      <td>1931</td>\n",
       "      <td>English</td>\n",
       "      <td>[I, thought, I, smelled, gas, That, 's, three,...</td>\n",
       "    </tr>\n",
       "    <tr>\n",
       "      <th>5482259</th>\n",
       "      <td>Indiscreet</td>\n",
       "      <td>Comedy, Drama, Musical</td>\n",
       "      <td>1931</td>\n",
       "      <td>English</td>\n",
       "      <td>[Subtitles, Lu, s, Filipe, Bernardes, Wait, Yo...</td>\n",
       "    </tr>\n",
       "    <tr>\n",
       "      <th>5192597</th>\n",
       "      <td>The Stolen Jools</td>\n",
       "      <td>Comedy, Short</td>\n",
       "      <td>1931</td>\n",
       "      <td>English</td>\n",
       "      <td>[Subtitles, Lu, s, Filipe, Bernardes, Hello, W...</td>\n",
       "    </tr>\n",
       "    <tr>\n",
       "      <th>3982760</th>\n",
       "      <td>College Humor</td>\n",
       "      <td>Comedy</td>\n",
       "      <td>1933</td>\n",
       "      <td>English</td>\n",
       "      <td>[Play, ball, Although, the, game, seems, uphil...</td>\n",
       "    </tr>\n",
       "  </tbody>\n",
       "</table>\n",
       "</div>"
      ],
      "text/plain": [
       "               Movie Name                    Genre  Year  \\\n",
       "3435788     Born Reckless  Crime, Drama, Film-Noir  1930   \n",
       "6880640        Dishonored      Drama, Romance, War  1931   \n",
       "5482259        Indiscreet   Comedy, Drama, Musical  1931   \n",
       "5192597  The Stolen Jools            Comedy, Short  1931   \n",
       "3982760     College Humor                   Comedy  1933   \n",
       "\n",
       "                          Country  \\\n",
       "3435788  English, Italian, French   \n",
       "6880640                   English   \n",
       "5482259                   English   \n",
       "5192597                   English   \n",
       "3982760                   English   \n",
       "\n",
       "                                           Tokenized Texts  \n",
       "3435788  [Louis, Louis, Beretti, Shh, Put, that, out, y...  \n",
       "6880640  [I, thought, I, smelled, gas, That, 's, three,...  \n",
       "5482259  [Subtitles, Lu, s, Filipe, Bernardes, Wait, Yo...  \n",
       "5192597  [Subtitles, Lu, s, Filipe, Bernardes, Hello, W...  \n",
       "3982760  [Play, ball, Although, the, game, seems, uphil...  "
      ]
     },
     "execution_count": 73,
     "metadata": {},
     "output_type": "execute_result"
    }
   ],
   "source": [
    "movie_df.head()"
   ]
  },
  {
   "cell_type": "markdown",
   "metadata": {},
   "source": [
    "# Part-of-Speech (POS) tagging"
   ]
  },
  {
   "cell_type": "markdown",
   "metadata": {},
   "source": [
    "In POS tagging, we classify each word by its semantic role in a sentence. We will be using the in-built spaCy pos-tagging.\n",
    "\n",
    "https://spacy.io/usage/linguistic-features\n",
    "\n",
    "|#. |Tag |Description |\n",
    "|---|----|------------|\n",
    "|1.\t|CC\t|Coordinating conjunction\n",
    "|2.\t|CD\t|Cardinal number\n",
    "|3.\t|DT\t|Determiner\n",
    "|4.\t|EX\t|Existential there\n",
    "|5.\t|FW\t|Foreign word\n",
    "|6.\t|IN\t|Preposition or subordinating conjunction\n",
    "|7.\t|JJ\t|Adjective\n",
    "|8.\t|JJR|\tAdjective, comparative\n",
    "|9.\t|JJS|\tAdjective, superlative\n",
    "|10.|\tLS\t|List item marker\n",
    "|11.|\tMD\t|Modal\n",
    "|12.|\tNN\t|Noun, singular or mass\n",
    "|13.|\tNNS\t|Noun, plural\n",
    "|14.|\tNNP\t|Proper noun, singular\n",
    "|15.|\tNNPS|\tProper noun, plural\n",
    "|16.|\tPDT\t|Predeterminer\n",
    "|17.|\tPOS\t|Possessive ending\n",
    "|18.|\tPRP\t|Personal pronoun\n",
    "|19.|\tPRP\\$|\tPossessive pronoun\n",
    "|20.|\tRB\t|Adverb\n",
    "|21.|\tRBR\t|Adverb, comparative\n",
    "|22.|\tRBS\t|Adverb, superlative\n",
    "|23.|\tRP\t|Particle\n",
    "|24.|\tSYM\t|Symbol\n",
    "|25.|\tTO\t|to\n",
    "|26.|\tUH\t|Interjection\n",
    "|27.|\tVB\t|Verb, base form\n",
    "|28.|\tVBD\t|Verb, past tense\n",
    "|29.|\tVBG\t|Verb, gerund or present participle\n",
    "|30.|\tVBN\t|Verb, past participle\n",
    "|31.|\tVBP\t|Verb, non-3rd person singular present\n",
    "|32.|\tVBZ\t|Verb, 3rd person singular present\n",
    "|33.|\tWDT\t|Wh-determiner\n",
    "|34.|\tWP\t|Wh-pronoun\n",
    "|35.|\tWP$\t|Possessive wh-pronoun\n",
    "|36.|\tWRB\t|Wh-adverb\n",
    "\n",
    "spaCy pos-tags word as we run it through the english language model. A small example:"
   ]
  },
  {
   "cell_type": "code",
   "execution_count": 74,
   "metadata": {},
   "outputs": [],
   "source": [
    "sent = nlp(u\"Tom went to IKEA to get some of those delicious Swedish meatballs.\")\n"
   ]
  },
  {
   "cell_type": "code",
   "execution_count": 75,
   "metadata": {},
   "outputs": [
    {
     "name": "stdout",
     "output_type": "stream",
     "text": [
      "Tom PROPN NNP\n",
      "went VERB VBD\n",
      "to ADP IN\n",
      "IKEA NOUN NN\n",
      "to PART TO\n",
      "get VERB VB\n",
      "some PRON DT\n",
      "of ADP IN\n",
      "those DET DT\n",
      "delicious ADJ JJ\n",
      "Swedish ADJ JJ\n",
      "meatballs NOUN NNS\n",
      ". PUNCT .\n"
     ]
    }
   ],
   "source": [
    "for token in sent:\n",
    "    print(token.text, token.pos_, token.tag_)"
   ]
  },
  {
   "cell_type": "markdown",
   "metadata": {},
   "source": [
    "This looks quite good. Now we will try POS tagging with a somewhat larger corpus. We consider a few of the top posts from the reddit data we used last week."
   ]
  },
  {
   "cell_type": "code",
   "execution_count": 77,
   "metadata": {},
   "outputs": [],
   "source": [
    "redditDF = pandas.read_csv('data/reddit.csv')"
   ]
  },
  {
   "cell_type": "markdown",
   "metadata": {},
   "source": [
    "Grabbing the 10 highest scoring posts and tokenizing the sentences. Once again, notice that we aren't going to do any kind of stemming this week (although *semantic* normalization may be performed where we translate synonyms into the same focal word). Here, we will use sentences tokenized by spaCy. Like before, these methods can also be found in `lucem_illud`.\n",
    "\n"
   ]
  },
  {
   "cell_type": "code",
   "execution_count": 18,
   "metadata": {},
   "outputs": [],
   "source": [
    "def sent_tokenize(word_list):\n",
    "    doc = nlp(word_list)\n",
    "    sentences = [sent.text.strip() for sent in doc.sents]\n",
    "    return sentences"
   ]
  },
  {
   "cell_type": "code",
   "execution_count": 81,
   "metadata": {},
   "outputs": [
    {
     "name": "stderr",
     "output_type": "stream",
     "text": [
      "C:\\Users\\Zacha\\anaconda3\\envs\\testing\\lib\\site-packages\\spacy\\pipeline\\lemmatizer.py:211: UserWarning: [W108] The rule-based lemmatizer did not find POS annotation for one or more tokens. Check that your pipeline includes components that assign token.pos, typically 'tagger'+'attribute_ruler' or 'morphologizer'.\n",
      "  warnings.warn(Warnings.W108)\n"
     ]
    },
    {
     "data": {
      "text/html": [
       "<div>\n",
       "<style scoped>\n",
       "    .dataframe tbody tr th:only-of-type {\n",
       "        vertical-align: middle;\n",
       "    }\n",
       "\n",
       "    .dataframe tbody tr th {\n",
       "        vertical-align: top;\n",
       "    }\n",
       "\n",
       "    .dataframe thead th {\n",
       "        text-align: right;\n",
       "    }\n",
       "</style>\n",
       "<table border=\"1\" class=\"dataframe\">\n",
       "  <thead>\n",
       "    <tr style=\"text-align: right;\">\n",
       "      <th></th>\n",
       "      <th>Unnamed: 0</th>\n",
       "      <th>author</th>\n",
       "      <th>over_18</th>\n",
       "      <th>score</th>\n",
       "      <th>subreddit</th>\n",
       "      <th>text</th>\n",
       "      <th>title</th>\n",
       "      <th>url</th>\n",
       "      <th>sentences</th>\n",
       "    </tr>\n",
       "  </thead>\n",
       "  <tbody>\n",
       "    <tr>\n",
       "      <th>9</th>\n",
       "      <td>8</td>\n",
       "      <td>brenkelieshere</td>\n",
       "      <td>False</td>\n",
       "      <td>9448</td>\n",
       "      <td>Tales From Tech Support</td>\n",
       "      <td>Last year, Help Desk got a call from a user co...</td>\n",
       "      <td>How to fix a laptop that won't boot in under a...</td>\n",
       "      <td>https://www.reddit.com/r/talesfromtechsupport/...</td>\n",
       "      <td>[[Last, year, Help, Desk, got, a, call, from, ...</td>\n",
       "    </tr>\n",
       "    <tr>\n",
       "      <th>8</th>\n",
       "      <td>7</td>\n",
       "      <td>Bombadils</td>\n",
       "      <td>False</td>\n",
       "      <td>10528</td>\n",
       "      <td>Tales From Tech Support</td>\n",
       "      <td>First post in quite some time! I work at a loc...</td>\n",
       "      <td>OK, now the password is 'D35p41r'</td>\n",
       "      <td>https://www.reddit.com/r/talesfromtechsupport/...</td>\n",
       "      <td>[[First, post, in, quite, some, time], [I, wor...</td>\n",
       "    </tr>\n",
       "    <tr>\n",
       "      <th>7</th>\n",
       "      <td>1200</td>\n",
       "      <td>whenlifegivesyoushit</td>\n",
       "      <td>False</td>\n",
       "      <td>11003</td>\n",
       "      <td>Relationships</td>\n",
       "      <td>[Original Post](https://www.reddit.com/r/relat...</td>\n",
       "      <td>[UPDATE]My [26 F] with my husband [29 M] 1 yea...</td>\n",
       "      <td>https://www.reddit.com/r/relationships/comment...</td>\n",
       "      <td>[[Original, Post](https://www.reddit.com, r, r...</td>\n",
       "    </tr>\n",
       "    <tr>\n",
       "      <th>6</th>\n",
       "      <td>6</td>\n",
       "      <td>sfsdfd</td>\n",
       "      <td>False</td>\n",
       "      <td>11295</td>\n",
       "      <td>Tales From Tech Support</td>\n",
       "      <td>I witnessed this astounding IT meltdown around...</td>\n",
       "      <td>Company-wide email + 30,000 employees + auto-r...</td>\n",
       "      <td>https://www.reddit.com/r/talesfromtechsupport/...</td>\n",
       "      <td>[[I, witnessed, this, astounding, IT, meltdown...</td>\n",
       "    </tr>\n",
       "    <tr>\n",
       "      <th>5</th>\n",
       "      <td>5</td>\n",
       "      <td>Raitaro</td>\n",
       "      <td>False</td>\n",
       "      <td>12372</td>\n",
       "      <td>Tales From Tech Support</td>\n",
       "      <td>I work Helpdesk for a retail store chain in th...</td>\n",
       "      <td>I'm pretty sure I knocked a user out from near...</td>\n",
       "      <td>https://www.reddit.com/r/talesfromtechsupport/...</td>\n",
       "      <td>[[I, work, Helpdesk, for, a, retail, store, ch...</td>\n",
       "    </tr>\n",
       "    <tr>\n",
       "      <th>4</th>\n",
       "      <td>4</td>\n",
       "      <td>goldie-gold</td>\n",
       "      <td>False</td>\n",
       "      <td>12650</td>\n",
       "      <td>Tales From Tech Support</td>\n",
       "      <td>This just happened...  So, I had a laptop syst...</td>\n",
       "      <td>Engineer is doing drugs!! No. No they aren't.</td>\n",
       "      <td>https://www.reddit.com/r/talesfromtechsupport/...</td>\n",
       "      <td>[[This, just, happened], [So, I, had, a, lapto...</td>\n",
       "    </tr>\n",
       "    <tr>\n",
       "      <th>3</th>\n",
       "      <td>3</td>\n",
       "      <td>TheDroolinFool</td>\n",
       "      <td>False</td>\n",
       "      <td>13152</td>\n",
       "      <td>Tales From Tech Support</td>\n",
       "      <td>Another tale from the out of hours IT desk... ...</td>\n",
       "      <td>\"I need you to fix Google Bing immediately!\"</td>\n",
       "      <td>https://www.reddit.com/r/talesfromtechsupport/...</td>\n",
       "      <td>[[Another, tale, from, the, out, of, hours, IT...</td>\n",
       "    </tr>\n",
       "    <tr>\n",
       "      <th>2</th>\n",
       "      <td>2</td>\n",
       "      <td>Clickity_clickity</td>\n",
       "      <td>False</td>\n",
       "      <td>13404</td>\n",
       "      <td>Tales From Tech Support</td>\n",
       "      <td>[Part 1](http://www.reddit.com/r/talesfromtech...</td>\n",
       "      <td>Jack, the Worst End User, Part 4</td>\n",
       "      <td>https://www.reddit.com/r/talesfromtechsupport/...</td>\n",
       "      <td>[[Part, 1](http://www.reddit.com, r, talesfrom...</td>\n",
       "    </tr>\n",
       "    <tr>\n",
       "      <th>1</th>\n",
       "      <td>1</td>\n",
       "      <td>SECGaz</td>\n",
       "      <td>False</td>\n",
       "      <td>13724</td>\n",
       "      <td>Tales From Tech Support</td>\n",
       "      <td>&gt; $Me  - Hello, IT.   &gt; $Usr - Hi, I am still ...</td>\n",
       "      <td>Hi, I am still off sick but I am not.</td>\n",
       "      <td>https://www.reddit.com/r/talesfromtechsupport/...</td>\n",
       "      <td>[[&gt;, $, Me, Hello, IT, &gt;, $, Usr, Hi, I, am, s...</td>\n",
       "    </tr>\n",
       "    <tr>\n",
       "      <th>0</th>\n",
       "      <td>0</td>\n",
       "      <td>guitarsdontdance</td>\n",
       "      <td>False</td>\n",
       "      <td>14089</td>\n",
       "      <td>Tales From Tech Support</td>\n",
       "      <td>So my story starts on what was a normal day ta...</td>\n",
       "      <td>\"Don't bother sending a tech, I'll be dead by ...</td>\n",
       "      <td>https://www.reddit.com/r/talesfromtechsupport/...</td>\n",
       "      <td>[[So, my, story, starts, on, what, was, a, nor...</td>\n",
       "    </tr>\n",
       "  </tbody>\n",
       "</table>\n",
       "</div>"
      ],
      "text/plain": [
       "   Unnamed: 0                author  over_18  score                subreddit  \\\n",
       "9           8        brenkelieshere    False   9448  Tales From Tech Support   \n",
       "8           7             Bombadils    False  10528  Tales From Tech Support   \n",
       "7        1200  whenlifegivesyoushit    False  11003            Relationships   \n",
       "6           6                sfsdfd    False  11295  Tales From Tech Support   \n",
       "5           5               Raitaro    False  12372  Tales From Tech Support   \n",
       "4           4           goldie-gold    False  12650  Tales From Tech Support   \n",
       "3           3        TheDroolinFool    False  13152  Tales From Tech Support   \n",
       "2           2     Clickity_clickity    False  13404  Tales From Tech Support   \n",
       "1           1                SECGaz    False  13724  Tales From Tech Support   \n",
       "0           0      guitarsdontdance    False  14089  Tales From Tech Support   \n",
       "\n",
       "                                                text  \\\n",
       "9  Last year, Help Desk got a call from a user co...   \n",
       "8  First post in quite some time! I work at a loc...   \n",
       "7  [Original Post](https://www.reddit.com/r/relat...   \n",
       "6  I witnessed this astounding IT meltdown around...   \n",
       "5  I work Helpdesk for a retail store chain in th...   \n",
       "4  This just happened...  So, I had a laptop syst...   \n",
       "3  Another tale from the out of hours IT desk... ...   \n",
       "2  [Part 1](http://www.reddit.com/r/talesfromtech...   \n",
       "1  > $Me  - Hello, IT.   > $Usr - Hi, I am still ...   \n",
       "0  So my story starts on what was a normal day ta...   \n",
       "\n",
       "                                               title  \\\n",
       "9  How to fix a laptop that won't boot in under a...   \n",
       "8                  OK, now the password is 'D35p41r'   \n",
       "7  [UPDATE]My [26 F] with my husband [29 M] 1 yea...   \n",
       "6  Company-wide email + 30,000 employees + auto-r...   \n",
       "5  I'm pretty sure I knocked a user out from near...   \n",
       "4      Engineer is doing drugs!! No. No they aren't.   \n",
       "3       \"I need you to fix Google Bing immediately!\"   \n",
       "2                   Jack, the Worst End User, Part 4   \n",
       "1              Hi, I am still off sick but I am not.   \n",
       "0  \"Don't bother sending a tech, I'll be dead by ...   \n",
       "\n",
       "                                                 url  \\\n",
       "9  https://www.reddit.com/r/talesfromtechsupport/...   \n",
       "8  https://www.reddit.com/r/talesfromtechsupport/...   \n",
       "7  https://www.reddit.com/r/relationships/comment...   \n",
       "6  https://www.reddit.com/r/talesfromtechsupport/...   \n",
       "5  https://www.reddit.com/r/talesfromtechsupport/...   \n",
       "4  https://www.reddit.com/r/talesfromtechsupport/...   \n",
       "3  https://www.reddit.com/r/talesfromtechsupport/...   \n",
       "2  https://www.reddit.com/r/talesfromtechsupport/...   \n",
       "1  https://www.reddit.com/r/talesfromtechsupport/...   \n",
       "0  https://www.reddit.com/r/talesfromtechsupport/...   \n",
       "\n",
       "                                           sentences  \n",
       "9  [[Last, year, Help, Desk, got, a, call, from, ...  \n",
       "8  [[First, post, in, quite, some, time], [I, wor...  \n",
       "7  [[Original, Post](https://www.reddit.com, r, r...  \n",
       "6  [[I, witnessed, this, astounding, IT, meltdown...  \n",
       "5  [[I, work, Helpdesk, for, a, retail, store, ch...  \n",
       "4  [[This, just, happened], [So, I, had, a, lapto...  \n",
       "3  [[Another, tale, from, the, out, of, hours, IT...  \n",
       "2  [[Part, 1](http://www.reddit.com, r, talesfrom...  \n",
       "1  [[>, $, Me, Hello, IT, >, $, Usr, Hi, I, am, s...  \n",
       "0  [[So, my, story, starts, on, what, was, a, nor...  "
      ]
     },
     "execution_count": 81,
     "metadata": {},
     "output_type": "execute_result"
    }
   ],
   "source": [
    "redditTopScores = redditDF.sort_values('score')[-10:]\n",
    "redditTopScores['sentences'] = redditTopScores['text'].apply(lambda x: [word_tokenize(s) for s in sent_tokenize(x)])\n",
    "redditTopScores.index = range(len(redditTopScores) - 1, -1,-1) #Reindex to make things nice in the future\n",
    "redditTopScores"
   ]
  },
  {
   "cell_type": "code",
   "execution_count": 19,
   "metadata": {},
   "outputs": [],
   "source": [
    "def tag_sents_pos(sentences):\n",
    "    \"\"\"\n",
    "    function which replicates NLTK pos tagging on sentences.\n",
    "    \"\"\"\n",
    "    new_sents = []\n",
    "    for sentence in sentences:\n",
    "        new_sent = ' '.join(sentence)\n",
    "        new_sents.append(new_sent)\n",
    "    final_string = ' '.join(new_sents)\n",
    "    doc = nlp(final_string)\n",
    "    \n",
    "    pos_sents = []\n",
    "    for sent in doc.sents:\n",
    "        pos_sent = []\n",
    "        for token in sent:\n",
    "            pos_sent.append((token.text, token.tag_))\n",
    "        pos_sents.append(pos_sent)\n",
    "    \n",
    "    return pos_sents"
   ]
  },
  {
   "cell_type": "code",
   "execution_count": 83,
   "metadata": {},
   "outputs": [],
   "source": [
    "redditTopScores['POS_sents'] = redditTopScores['sentences'].apply(lambda x: tag_sents_pos(x))"
   ]
  },
  {
   "cell_type": "code",
   "execution_count": 84,
   "metadata": {},
   "outputs": [
    {
     "data": {
      "text/plain": [
       "9    [[(Last, JJ), (year, NN), (Help, NNP), (Desk, ...\n",
       "8    [[(First, JJ), (post, NN), (in, IN), (quite, P...\n",
       "7    [[(Original, JJ), (Post](https://www.reddit.co...\n",
       "6    [[(I, PRP), (witnessed, VBD), (this, DT), (ast...\n",
       "5    [[(I, PRP), (work, VBP), (Helpdesk, NNP), (for...\n",
       "4    [[(This, DT), (just, RB), (happened, VBD), (So...\n",
       "3    [[(Another, DT), (tale, NN), (from, IN), (the,...\n",
       "2    [[(Part, NNP), (1](http://www.reddit.com, CD),...\n",
       "1    [[(>, XX), ($, $), (Me, PRP), (Hello, UH), (IT...\n",
       "0    [[(So, RB), (my, PRP$), (story, NN), (starts, ...\n",
       "Name: POS_sents, dtype: object"
      ]
     },
     "execution_count": 84,
     "metadata": {},
     "output_type": "execute_result"
    }
   ],
   "source": [
    "redditTopScores['POS_sents']"
   ]
  },
  {
   "cell_type": "markdown",
   "metadata": {},
   "source": [
    "And count the number of `NN` (nouns)"
   ]
  },
  {
   "cell_type": "code",
   "execution_count": 85,
   "metadata": {},
   "outputs": [
    {
     "data": {
      "text/plain": [
       "[('password', 22),\n",
       " ('time', 14),\n",
       " ('computer', 13),\n",
       " ('lot', 12),\n",
       " ('life', 11),\n",
       " ('email', 11),\n",
       " ('system', 10),\n",
       " ('laptop', 9),\n",
       " ('message', 9),\n",
       " ('day', 9),\n",
       " ('auto', 9),\n",
       " ('call', 8),\n",
       " ('office', 8),\n",
       " ('part', 8),\n",
       " ('today', 8),\n",
       " ('story', 8),\n",
       " ('user', 7),\n",
       " ('job', 7),\n",
       " ('something', 7),\n",
       " ('problem', 7)]"
      ]
     },
     "execution_count": 85,
     "metadata": {},
     "output_type": "execute_result"
    }
   ],
   "source": [
    "countTarget = 'NN'\n",
    "targetCounts = {}\n",
    "for entry in redditTopScores['POS_sents']:\n",
    "    for sentence in entry:\n",
    "        for ent, kind in sentence:\n",
    "            if kind != countTarget:\n",
    "                continue\n",
    "            elif ent in targetCounts:\n",
    "                targetCounts[ent] += 1\n",
    "            else:\n",
    "                targetCounts[ent] = 1\n",
    "sortedTargets = sorted(targetCounts.items(), key = lambda x: x[1], reverse = True)\n",
    "sortedTargets[:20]"
   ]
  },
  {
   "cell_type": "markdown",
   "metadata": {},
   "source": [
    "What about the adjectives that modify the word, \"computer\"?"
   ]
  },
  {
   "cell_type": "code",
   "execution_count": 86,
   "metadata": {},
   "outputs": [
    {
     "name": "stdout",
     "output_type": "stream",
     "text": [
      "{'unrestricted', 'own'}\n"
     ]
    }
   ],
   "source": [
    "NTarget = 'JJ'\n",
    "Word = 'computer'\n",
    "NResults = set()\n",
    "for entry in redditTopScores['POS_sents']:\n",
    "    for sentence in entry:\n",
    "        for (ent1, kind1),(ent2,kind2) in zip(sentence[:-1], sentence[1:]):\n",
    "            if (kind1,ent2.lower())==(NTarget,Word):\n",
    "                NResults.add(ent1)\n",
    "            else:\n",
    "                continue\n",
    "\n",
    "print(NResults)     "
   ]
  },
  {
   "cell_type": "markdown",
   "metadata": {},
   "source": [
    "## <font color=\"red\">Exercise 3</font>\n",
    "\n",
    "<font color=\"red\">In the cells immediately following, perform POS tagging on a meaningful (but modest) subset of a corpus associated with your final project. Examine the list of words associated with at least three different parts of speech. Consider conditional associations (e.g., adjectives associated with nouns or adverbs with verbs of interest). What do these distributions suggest about your corpus?"
   ]
  },
  {
   "cell_type": "markdown",
   "metadata": {},
   "source": [
    "# Collocations"
   ]
  },
  {
   "cell_type": "markdown",
   "metadata": {},
   "source": [
    "As illustrated above, we might want to find significant bigrams (two-word phrases), trigrams (three-word phrases), n-grams (*n*-word phrases) or skip-grams (noncontinguous 'phrases' with skip-length *n*). \n",
    "\n",
    "We will begin with the [`nltk.collocations.BigramCollocationFinder`](http://www.nltk.org/api/nltk.html?highlight=bigramcollocationfinder#nltk.collocations.BigramCollocationFinder) class, which can be given raw lists of strings with the `from_words()` method. By default it only looks at continuous bigrams but there is an option (`window_size`) to allow skip-grams."
   ]
  },
  {
   "cell_type": "code",
   "execution_count": 87,
   "metadata": {},
   "outputs": [
    {
     "name": "stdout",
     "output_type": "stream",
     "text": [
      "There are 1964 bigrams in the finder\n"
     ]
    }
   ],
   "source": [
    "whBigrams = nltk.collocations.BigramCollocationFinder.from_words(whReleases['normalized_tokens'].sum())\n",
    "print(\"There are {} bigrams in the finder\".format(whBigrams.N))"
   ]
  },
  {
   "cell_type": "markdown",
   "metadata": {},
   "source": [
    "To compare the bigrams we need to tell nltk what our score function is. Initially, we will look at the raw counts."
   ]
  },
  {
   "cell_type": "code",
   "execution_count": 88,
   "metadata": {},
   "outputs": [
    {
     "name": "stdout",
     "output_type": "stream",
     "text": [
      "[('president', 'bush'), ('rhode', 'island'), ('sheldon', 'whitehouse'), ('stem', 'cell'), ('whitehouse', 'd'), ('d', 'r.i'), ('bush', 'administration'), ('u.s', 'senator'), ('whitehouse', 'say'), ('american', 'people')]\n"
     ]
    }
   ],
   "source": [
    "def bigramScoring(count, wordsTuple, total):\n",
    "    return count\n",
    "\n",
    "print(whBigrams.nbest(bigramScoring, 10))"
   ]
  },
  {
   "cell_type": "markdown",
   "metadata": {},
   "source": [
    "One note about how `BigramCollocationFinder` works. It doesn't use the strings internally."
   ]
  },
  {
   "cell_type": "code",
   "execution_count": 89,
   "metadata": {},
   "outputs": [
    {
     "name": "stdout",
     "output_type": "stream",
     "text": [
      "The first word is:  28, The second word is: 31\n",
      "The first word is:  20, The second word is: 17\n",
      "The first word is:  12, The second word is: 12\n",
      "The first word is:  12, The second word is: 40\n",
      "The first word is:  40, The second word is: 17\n",
      "The first word is:  17, The second word is: 10\n",
      "The first word is:  40, The second word is: 17\n",
      "The first word is:  13, The second word is: 13\n",
      "The first word is:  31, The second word is: 11\n",
      "The first word is:  9, The second word is: 24\n"
     ]
    }
   ],
   "source": [
    "birgramScores = []\n",
    "\n",
    "def bigramPrinting(count, wordsTuple, total):\n",
    "    global birgramScores\n",
    "    birgramScores.append(\"The first word is:  {}, The second word is: {}\".format(*wordsTuple))\n",
    "    #Returns None so all the tuples are considered to have the same rank\n",
    "\n",
    "whBigrams.nbest(bigramPrinting, 10)\n",
    "print('\\n'.join(birgramScores[:10]))"
   ]
  },
  {
   "cell_type": "markdown",
   "metadata": {},
   "source": [
    "The words are each given numeric IDs and there is a dictionary that maps the IDs to the words they represent. This is a common performance optimization.\n",
    "\n",
    "Two words can appear together by chance. Recall from  Manning and Schütze's textbook that a t-value can be computed for each bigram to see how significant the association is. You may also want to try computing the $\\chi^2$, likelihood ratio, and pointwise mutual information statistics. "
   ]
  },
  {
   "cell_type": "code",
   "execution_count": 90,
   "metadata": {},
   "outputs": [
    {
     "data": {
      "text/plain": [
       "[(('rhode', 'island'), 178.42791632631025),\n",
       " (('stem', 'cell'), 146.27449459815534),\n",
       " (('president', 'bush'), 126.23062149808423),\n",
       " (('sheldon', 'whitehouse'), 97.40535043376386),\n",
       " (('d', 'r.i'), 84.89634183337617),\n",
       " (('united', 'states'), 81.47339960284599),\n",
       " (('whitehouse', 'd'), 57.74744623651276),\n",
       " (('u.s', 'senator'), 57.03786703770191),\n",
       " (('senator', 'sheldon'), 46.93608358543005),\n",
       " (('jack', 'reed'), 46.47304595760241),\n",
       " (('american', 'people'), 45.62466065629863),\n",
       " (('bush', 'administration'), 45.4509557751863),\n",
       " (('honor', 'society'), 44.900172381728815),\n",
       " (('bring', 'troop'), 43.07951375003984),\n",
       " (('cell', 'research'), 41.08298559892974),\n",
       " (('d', 'ri'), 39.013185331609264),\n",
       " (('potential', 'closing'), 38.17005571163625),\n",
       " (('youth', 'program'), 38.17005571163625),\n",
       " (('troop', 'home'), 36.666015832295386),\n",
       " (('come', 'home'), 36.52029777577777),\n",
       " (('epw', 'committee'), 34.315160571201105),\n",
       " (('whitehouse', 'say'), 33.09869922194955),\n",
       " (('budget', 'resolution'), 32.08678784585971),\n",
       " (('district', 'columbia'), 31.556327881857438),\n",
       " (('greenhouse', 'gas'), 31.556327881857438),\n",
       " (('humpty', 'dumpty'), 31.556327881857438),\n",
       " (('prime', 'minister'), 31.556327881857438),\n",
       " (('weaver', 'cove'), 31.556327881857438),\n",
       " (('change', 'course'), 31.444022758433917),\n",
       " (('send', 'clear'), 31.444022758433917),\n",
       " (('new', 'direction'), 30.35193688607352),\n",
       " (('senate', 'youth'), 29.888099675583184),\n",
       " (('rhode', 'islander'), 27.991808869489184),\n",
       " (('enhancement', 'act'), 27.73724287208856),\n",
       " (('harm', 'way'), 27.73724287208856),\n",
       " (('interest', 'payment'), 27.73724287208856),\n",
       " (('million', 'americans'), 27.73724287208856),\n",
       " (('sen', 'whitehouse'), 27.35771561959485),\n",
       " (('foregone', 'surplus'), 26.01115043737788),\n",
       " (('direction', 'iraq'), 24.987906473769613)]"
      ]
     },
     "execution_count": 90,
     "metadata": {},
     "output_type": "execute_result"
    }
   ],
   "source": [
    "bigram_measures = nltk.collocations.BigramAssocMeasures()\n",
    "whBigrams.score_ngrams(bigram_measures.likelihood_ratio)[:40]\n",
    "# other options include student_t, chi_sq, likelihood_ratio, pmi"
   ]
  },
  {
   "cell_type": "markdown",
   "metadata": {},
   "source": [
    "There are a few other available measures"
   ]
  },
  {
   "cell_type": "code",
   "execution_count": 91,
   "metadata": {},
   "outputs": [
    {
     "data": {
      "text/plain": [
       "['chi_sq',\n",
       " 'dice',\n",
       " 'fisher',\n",
       " 'jaccard',\n",
       " 'likelihood_ratio',\n",
       " 'mi_like',\n",
       " 'phi_sq',\n",
       " 'pmi',\n",
       " 'poisson_stirling',\n",
       " 'raw_freq',\n",
       " 'student_t']"
      ]
     },
     "execution_count": 91,
     "metadata": {},
     "output_type": "execute_result"
    }
   ],
   "source": [
    "[s for s in dir(bigram_measures) if s[0] != '_']"
   ]
  },
  {
   "cell_type": "markdown",
   "metadata": {},
   "source": [
    "We can also look at trigrams"
   ]
  },
  {
   "cell_type": "code",
   "execution_count": 92,
   "metadata": {},
   "outputs": [
    {
     "data": {
      "text/plain": [
       "[(('sheldon', 'whitehouse', 'd'), 3.1616086893217816),\n",
       " (('whitehouse', 'd', 'r.i'), 2.6450850001523705),\n",
       " (('bring', 'troop', 'home'), 2.449192549827382),\n",
       " (('senator', 'sheldon', 'whitehouse'), 2.448829313992519),\n",
       " (('stem', 'cell', 'research'), 2.235917719697493),\n",
       " (('u.s', 'senator', 'sheldon'), 2.235832851864714),\n",
       " (('senate', 'youth', 'program'), 1.7320171301402933),\n",
       " (('united', 'states', 'senator'), 1.7319807585174225),\n",
       " (('jack', 'reed', 'd'), 1.7319693830304341),\n",
       " (('new', 'direction', 'iraq'), 1.7318496410621351),\n",
       " (('rhode', 'island', 'state'), 1.731694575213188),\n",
       " (('whitehouse', 'd', 'ri'), 1.731643684876661),\n",
       " (('sen', 'sheldon', 'whitehouse'), 1.731404200940063),\n",
       " (('reconsider', 'potential', 'closing'), 1.4142080628720362),\n",
       " (('responsibility', 'security', 'governance'), 1.4142047631714012),\n",
       " (('$', 'foregone', 'surplus'), 1.4142018301041699),\n",
       " (('v.', 'epa', 'decide'), 1.4142018301041699),\n",
       " (('cell', 'enhancement', 'act'), 1.4142003635705542),\n",
       " (('select', 'committee', 'intelligence'), 1.4142003635705542),\n",
       " (('send', 'clear', 'message'), 1.4141998136204483)]"
      ]
     },
     "execution_count": 92,
     "metadata": {},
     "output_type": "execute_result"
    }
   ],
   "source": [
    "trigram_measures = nltk.collocations.TrigramAssocMeasures()\n",
    "whTrigrams = nltk.collocations.TrigramCollocationFinder.from_words(whReleases['normalized_tokens'].sum())\n",
    "whTrigrams.score_ngrams(trigram_measures.student_t)[:20]"
   ]
  },
  {
   "cell_type": "markdown",
   "metadata": {},
   "source": [
    "Or n-grams (for any number n)"
   ]
  },
  {
   "cell_type": "code",
   "execution_count": 93,
   "metadata": {},
   "outputs": [
    {
     "name": "stdout",
     "output_type": "stream",
     "text": [
      "{('sen', 'sheldon', 'whitehouse', 'd'): 2, ('sheldon', 'whitehouse', 'd', 'r.i'): 7, ('stem', 'cell', 'research', 'whitehouse'): 2, ('stem', 'cell', 'enhancement', 'act'): 2, ('begin', 'bring', 'troop', 'home'): 2, ('bring', 'troop', 'home', 'iraq'): 2, ('u.s', 'senator', 'sheldon', 'whitehouse'): 5, ('senator', 'sheldon', 'whitehouse', 'd'): 5, ('sheldon', 'whitehouse', 'd', 'ri'): 3, ('whitehouse', 'd', 'ri', 'say'): 2, ('d', 'ri', 'say', 'today'): 2, ('member', 'senate', 'select', 'committee'): 2, ('senate', 'select', 'committee', 'intelligence'): 2, ('california', 'rhode', 'island', 'state'): 2, ('u.s', 'senator', 'jack', 'reed'): 2, ('senator', 'jack', 'reed', 'd'): 2, ('jack', 'reed', 'd', 'r.i'): 2, ('reed', 'd', 'r.i', 'sheldon'): 2, ('d', 'r.i', 'sheldon', 'whitehouse'): 2, ('r.i', 'sheldon', 'whitehouse', 'd'): 2, ('iraq', 'sen', 'sheldon', 'whitehouse'): 2, ('portuguese', 'american', 'citizen', 'rhode'): 2, ('american', 'citizen', 'rhode', 'island'): 2}\n"
     ]
    }
   ],
   "source": [
    "Ngrams = nltk.ngrams(whReleases['normalized_tokens'].sum(), 4)\n",
    "Counts = {}\n",
    "for ngram in list(Ngrams):\n",
    "    if ngram in Counts.keys():\n",
    "        Counts[ngram] += 1\n",
    "    else:\n",
    "        Counts[ngram] = 1\n",
    "Filtered = {}\n",
    "for key in Counts.keys():\n",
    "    if Counts[key] < 2:\n",
    "        pass\n",
    "    else:\n",
    "        Filtered[key] = Counts[key]\n",
    "print(Filtered)"
   ]
  },
  {
   "cell_type": "markdown",
   "metadata": {},
   "source": [
    "Gensim is another important python text processing package which allows us to use collocations, among other cool methods (which we will explore later weeks)."
   ]
  },
  {
   "cell_type": "code",
   "execution_count": 94,
   "metadata": {},
   "outputs": [],
   "source": [
    "import gensim"
   ]
  },
  {
   "cell_type": "code",
   "execution_count": 95,
   "metadata": {},
   "outputs": [],
   "source": [
    "bigram = gensim.models.Phrases(whReleases['normalized_tokens'])"
   ]
  },
  {
   "cell_type": "code",
   "execution_count": 96,
   "metadata": {},
   "outputs": [],
   "source": [
    "texts = [bigram[line] for line in whReleases['normalized_tokens']]"
   ]
  },
  {
   "cell_type": "code",
   "execution_count": 97,
   "metadata": {},
   "outputs": [
    {
     "data": {
      "text/plain": [
       "['sen',\n",
       " 'whitehouse',\n",
       " 'share',\n",
       " 'westerly',\n",
       " 'girl',\n",
       " 'story',\n",
       " 'push',\n",
       " 'stem_cell',\n",
       " 'research',\n",
       " 'share',\n",
       " 'story',\n",
       " 'lila',\n",
       " 'barber',\n",
       " 'year',\n",
       " 'old',\n",
       " 'girl',\n",
       " 'westerly',\n",
       " 'sen',\n",
       " 'sheldon_whitehouse',\n",
       " 'd_r.i',\n",
       " 'tuesday',\n",
       " 'april',\n",
       " 'illustrate',\n",
       " 'hope',\n",
       " 'stem_cell',\n",
       " 'research',\n",
       " 'offer',\n",
       " 'speech',\n",
       " 'senate',\n",
       " 'floor',\n",
       " 'favor',\n",
       " 'legislation',\n",
       " 'expand',\n",
       " 'federal',\n",
       " 'funding',\n",
       " 'stem_cell',\n",
       " 'research',\n",
       " 'whitehouse',\n",
       " 'meet',\n",
       " 'lila',\n",
       " 'week',\n",
       " 'ago',\n",
       " 'diagnose',\n",
       " 'year',\n",
       " 'ago',\n",
       " 'osteosarcoma',\n",
       " 'cancerous',\n",
       " 'bone',\n",
       " 'condition',\n",
       " 'year',\n",
       " 'undergo',\n",
       " 'cadaver',\n",
       " 'bone',\n",
       " 'transplant',\n",
       " 'surgery',\n",
       " 'procedure',\n",
       " 'save',\n",
       " 'leg',\n",
       " 'help',\n",
       " 'remain',\n",
       " 'cancer',\n",
       " 'free',\n",
       " 'transplanted',\n",
       " 'tissue',\n",
       " 'grow',\n",
       " 'likely',\n",
       " 'break',\n",
       " 'time',\n",
       " 'stem_cell',\n",
       " 'research',\n",
       " 'whitehouse',\n",
       " 'explain',\n",
       " 'vastly',\n",
       " 'improve',\n",
       " 'care',\n",
       " 'patient',\n",
       " 'like',\n",
       " 'lila',\n",
       " 'allow',\n",
       " 'surgeon',\n",
       " 'enhance',\n",
       " 'transplant',\n",
       " 'patient',\n",
       " 'stem_cell',\n",
       " 'replace',\n",
       " 'lose',\n",
       " 'bone',\n",
       " 'cartilage',\n",
       " 'grow',\n",
       " 'entirely',\n",
       " 'new',\n",
       " 'replacement',\n",
       " 'bone',\n",
       " 'joint',\n",
       " 'stem_cell',\n",
       " 'research',\n",
       " 'give',\n",
       " 'hope',\n",
       " 'lila',\n",
       " 'million',\n",
       " 'americans',\n",
       " 'challenge',\n",
       " 'osteosarcoma',\n",
       " 'diabetes',\n",
       " 'heart',\n",
       " 'disease',\n",
       " 'alzheimer',\n",
       " 'parkinson',\n",
       " 'spinal',\n",
       " 'cord',\n",
       " 'injury',\n",
       " 'stroke',\n",
       " 'myriad',\n",
       " 'disease',\n",
       " 'condition',\n",
       " 'research',\n",
       " 'help',\n",
       " 'cure',\n",
       " 'whitehouse',\n",
       " 'say',\n",
       " 'whitehouse',\n",
       " 'praise',\n",
       " 'effort',\n",
       " 'rhode_island',\n",
       " 'congressman',\n",
       " 'jim',\n",
       " 'langevin',\n",
       " 'd',\n",
       " 'champion',\n",
       " 'stem_cell',\n",
       " 'legislation',\n",
       " 'nationally',\n",
       " 'rhode_island',\n",
       " 'rhode_island',\n",
       " 'lieutenant',\n",
       " 'governor',\n",
       " 'elizabeth',\n",
       " 'roberts',\n",
       " 'robert',\n",
       " 'today',\n",
       " 'release',\n",
       " 'statewide',\n",
       " 'report',\n",
       " 'stem_cell',\n",
       " 'step',\n",
       " 'develop',\n",
       " 'comprehensive',\n",
       " 'plan',\n",
       " 'research',\n",
       " 'initiative',\n",
       " 'rhode_island',\n",
       " 'stem_cell',\n",
       " 'enhancement',\n",
       " 'act',\n",
       " 's.',\n",
       " 'expand',\n",
       " 'number',\n",
       " 'human',\n",
       " 'embryonic',\n",
       " 'stem_cell',\n",
       " 'eligible',\n",
       " 'federally',\n",
       " 'fund',\n",
       " 'research',\n",
       " 'arbitrary',\n",
       " 'limit',\n",
       " 'impose',\n",
       " 'president_bush',\n",
       " 'august',\n",
       " 'bill',\n",
       " 'direct',\n",
       " 'department',\n",
       " 'health',\n",
       " 'human',\n",
       " 'service',\n",
       " 'hhs',\n",
       " 'conduct',\n",
       " 'research',\n",
       " 'stem_cell',\n",
       " 'derive',\n",
       " 'embryo',\n",
       " 'currently',\n",
       " 'store',\n",
       " 'fertility',\n",
       " 'clinic',\n",
       " 'destroy',\n",
       " 'year',\n",
       " 'senator',\n",
       " 'vote',\n",
       " 'pass',\n",
       " 'stem_cell',\n",
       " 'enhancement',\n",
       " 'act',\n",
       " 'h.r',\n",
       " 'legislation',\n",
       " 'similar',\n",
       " 's.',\n",
       " 'president_bush',\n",
       " 'issue',\n",
       " 'veto',\n",
       " 'presidency',\n",
       " 'block',\n",
       " 'bipartisan',\n",
       " 'measure']"
      ]
     },
     "execution_count": 97,
     "metadata": {},
     "output_type": "execute_result"
    }
   ],
   "source": [
    "texts[0]"
   ]
  },
  {
   "cell_type": "markdown",
   "metadata": {},
   "source": [
    "## <font color=\"red\">*Exercise 4*</font>\n",
    "\n",
    "<font color=\"red\">Construct cells immediately below this that identify statistically significant bigrams, trigrams, quadgrams, higher-order *n*grams and skipgrams. Explore whether these collocations are idiomatic and so irreducible to the semantic sum of their component words. You can do this by examination of conditional frequencies (e.g., what else is 'united' besides the 'United States'). If these phrases are idiomatic, what do they suggest about the culture of the world producing them?\n",
    "\n",
    "<font color=\"red\">**Stretch**: In Manning and Schütze's textbook, there Section 5.3.2 explores how to use the *t*-test to find words whose co-occurance patterns best distinguish two words. Implement that and use it to explore phrases in your corpus. For instance, you could tell what words come after \"America\" much more often than after \"Iraq\"?</font> "
   ]
  },
  {
   "cell_type": "markdown",
   "metadata": {},
   "source": [
    "# Named-Entity Recognition\n",
    "\n",
    "Named Entity Recognition (NER) is also a classification task, which identifies named objects. \n",
    "Like every other part of the pipeline, spaCy also tags words with their tagged entity (https://spacy.io/api/entityrecognizer). You can see the full capacity of what spaCy does by checking out: https://spacy.io/usage/linguistic-features.\n",
    "\n",
    "For training the identification of such entities, spaCy uses a deep learning model."
   ]
  },
  {
   "cell_type": "markdown",
   "metadata": {},
   "source": [
    "Let's try it on a basic sentence:"
   ]
  },
  {
   "cell_type": "code",
   "execution_count": 98,
   "metadata": {},
   "outputs": [],
   "source": [
    "sent = nlp(u\"Tom went to IKEA to get some of those delicious Swedish meatballs.\")"
   ]
  },
  {
   "cell_type": "code",
   "execution_count": 99,
   "metadata": {},
   "outputs": [
    {
     "name": "stdout",
     "output_type": "stream",
     "text": [
      "Tom PERSON\n",
      "went \n",
      "to \n",
      "IKEA \n",
      "to \n",
      "get \n",
      "some \n",
      "of \n",
      "those \n",
      "delicious \n",
      "Swedish NORP\n",
      "meatballs \n",
      ". \n"
     ]
    }
   ],
   "source": [
    "for token in sent:\n",
    "    print(token.text, token.ent_type_)"
   ]
  },
  {
   "cell_type": "markdown",
   "metadata": {},
   "source": [
    "For only finding ents-"
   ]
  },
  {
   "cell_type": "code",
   "execution_count": 100,
   "metadata": {},
   "outputs": [
    {
     "name": "stdout",
     "output_type": "stream",
     "text": [
      "Tom PERSON\n",
      "Swedish NORP\n"
     ]
    }
   ],
   "source": [
    "for ent in sent.ents:\n",
    "    print(ent.text, ent.label_)"
   ]
  },
  {
   "cell_type": "code",
   "execution_count": 101,
   "metadata": {},
   "outputs": [],
   "source": [
    "def tag_sents_ner(sentences):\n",
    "    \"\"\"\n",
    "    function which replicates NLTK ner tagging on sentences.\n",
    "    \"\"\"\n",
    "    new_sents = []\n",
    "    for sentence in sentences:\n",
    "        new_sent = ' '.join(sentence)\n",
    "        new_sents.append(new_sent)\n",
    "    final_string = ' '.join(new_sents)\n",
    "    doc = nlp(final_string)\n",
    "    \n",
    "    pos_sents = []\n",
    "    for sent in doc.sents:\n",
    "        pos_sent = []\n",
    "        for ent in sent.ents:\n",
    "            pos_sent.append((ent.text, ent.label_))\n",
    "        pos_sents.append(pos_sent)\n",
    "    \n",
    "    return pos_sents"
   ]
  },
  {
   "cell_type": "markdown",
   "metadata": {},
   "source": [
    "We can also run NER over our entire corpus:"
   ]
  },
  {
   "cell_type": "code",
   "execution_count": 102,
   "metadata": {},
   "outputs": [],
   "source": [
    "redditTopScores['classified_sents'] = redditTopScores['sentences'].apply(lambda x: tag_sents_ner(x))"
   ]
  },
  {
   "cell_type": "code",
   "execution_count": 103,
   "metadata": {},
   "outputs": [
    {
     "data": {
      "text/plain": [
       "9    [[(Last year, DATE), (Help Desk, PERSON)], [(a...\n",
       "8    [[(First, ORDINAL)], [(today, DATE)], [(Citrix...\n",
       "7    [[], [(about a month, DATE), (a few days ago, ...\n",
       "6    [[], [(30,000, CARDINAL), (30,000, CARDINAL), ...\n",
       "5    [[(Helpdesk, PERSON), (UK, GPE)], [], [], [], ...\n",
       "4    [[], [(Engineer, PERSON), (10 minutes later, T...\n",
       "3    [[(hours, TIME), (Desk Caller, PERSON)], [], [...\n",
       "2    [[(1](http://www.reddit.com, CARDINAL), (comme...\n",
       "1    [[], [], [], [], [], [], [(today, DATE)], [], ...\n",
       "0    [[(recently past few years, DATE)], [], [], [(...\n",
       "Name: classified_sents, dtype: object"
      ]
     },
     "execution_count": 103,
     "metadata": {},
     "output_type": "execute_result"
    }
   ],
   "source": [
    "redditTopScores['classified_sents']"
   ]
  },
  {
   "cell_type": "markdown",
   "metadata": {},
   "source": [
    "Find the most common entities (which are, of course, boring):"
   ]
  },
  {
   "cell_type": "code",
   "execution_count": 104,
   "metadata": {},
   "outputs": [
    {
     "data": {
      "text/plain": [
       "[('Jack', 14),\n",
       " ('today', 6),\n",
       " ('9', 4),\n",
       " ('Boss', 4),\n",
       " ('Smith', 4),\n",
       " ('4', 3),\n",
       " ('one', 3),\n",
       " ('second', 3),\n",
       " ('30,000', 3),\n",
       " ('Google Bing', 3)]"
      ]
     },
     "execution_count": 104,
     "metadata": {},
     "output_type": "execute_result"
    }
   ],
   "source": [
    "entityCounts = {}\n",
    "for entry in redditTopScores['classified_sents']:\n",
    "    for sentence in entry:\n",
    "        for ent, kind in sentence:\n",
    "            if ent in entityCounts:\n",
    "                entityCounts[ent] += 1\n",
    "            else:\n",
    "                entityCounts[ent] = 1\n",
    "sortedEntities = sorted(entityCounts.items(), key = lambda x: x[1], reverse = True)\n",
    "sortedEntities[:10]"
   ]
  },
  {
   "cell_type": "markdown",
   "metadata": {},
   "source": [
    "Or those occurring only twice:"
   ]
  },
  {
   "cell_type": "code",
   "execution_count": 105,
   "metadata": {},
   "outputs": [
    {
     "data": {
      "text/plain": [
       "['two',\n",
       " 'first',\n",
       " '5',\n",
       " '10',\n",
       " 'Edit 2',\n",
       " '30k',\n",
       " '20',\n",
       " 'hours',\n",
       " 'Caller',\n",
       " 'last week',\n",
       " 'three',\n",
       " 'last Thursday']"
      ]
     },
     "execution_count": 105,
     "metadata": {},
     "output_type": "execute_result"
    }
   ],
   "source": [
    "[x[0] for x in sortedEntities if x[1] == 2]"
   ]
  },
  {
   "cell_type": "markdown",
   "metadata": {},
   "source": [
    "We could also list the most common \"non-objects\". (We note that we're not graphing these because there are so few here.)"
   ]
  },
  {
   "cell_type": "code",
   "execution_count": 106,
   "metadata": {},
   "outputs": [
    {
     "data": {
      "text/plain": [
       "[('Jack', 14),\n",
       " ('today', 6),\n",
       " ('9', 4),\n",
       " ('Smith', 4),\n",
       " ('4', 3),\n",
       " ('one', 3),\n",
       " ('second', 3),\n",
       " ('30,000', 3),\n",
       " ('two', 2),\n",
       " ('first', 2)]"
      ]
     },
     "execution_count": 106,
     "metadata": {},
     "output_type": "execute_result"
    }
   ],
   "source": [
    "nonObjCounts = {}\n",
    "for entry in redditTopScores['classified_sents']:\n",
    "    for sentence in entry:\n",
    "        for ent, kind in sentence:\n",
    "            if kind == 'ORG':\n",
    "                continue\n",
    "            elif ent in nonObjCounts:\n",
    "                nonObjCounts[ent] += 1\n",
    "            else:\n",
    "                nonObjCounts[ent] = 1\n",
    "sortedNonObj = sorted(nonObjCounts.items(), key = lambda x: x[1], reverse = True)\n",
    "sortedNonObj[:10]"
   ]
  },
  {
   "cell_type": "markdown",
   "metadata": {},
   "source": [
    "What about the Organizations?"
   ]
  },
  {
   "cell_type": "code",
   "execution_count": 107,
   "metadata": {},
   "outputs": [
    {
     "name": "stdout",
     "output_type": "stream",
     "text": [
      "HDD\n",
      "Citrix\n",
      "R. Computer\n",
      "Fair\n",
      "Milestone\n",
      "Bing Search\n",
      "Google Chrome\n",
      "Google Bing\n",
      "Caller\n",
      "Boss\n",
      "Boss\n",
      "Boss\n",
      "Bing\n",
      "Buzzfeed\n",
      "Boss\n"
     ]
    }
   ],
   "source": [
    "OrgCounts = {}\n",
    "for entry in redditTopScores['classified_sents']:\n",
    "    for sentence in entry:\n",
    "        for ent, kind in sentence:\n",
    "            if kind == 'ORG':\n",
    "                print(ent)"
   ]
  },
  {
   "cell_type": "markdown",
   "metadata": {},
   "source": [
    "These, of course, have much smaller counts.\n",
    "\n",
    "In this particular example we didn't find the most interesting entities - you can remedy that in exercise 4!"
   ]
  },
  {
   "cell_type": "markdown",
   "metadata": {},
   "source": [
    "## <font color=\"red\">*Exercise 5*</font>\n",
    "\n",
    "<font color=\"red\">In the cells immediately following, perform NER on a (modest) subset of your corpus of interest. List all of the different kinds of entities tagged? What does their distribution suggest about the focus of your corpus? For a subset of your corpus, tally at least one type of named entity and calculate the Precision, Recall and F-score for the NER classification just performed."
   ]
  },
  {
   "cell_type": "markdown",
   "metadata": {},
   "source": [
    "## Dependency parsing and graph representations\n",
    "\n",
    "Dependency parsing was developed to robustly capture linguistic dependencies from text. The complex tags associated with these parses are detailed [here]('http://universaldependencies.org/u/overview/syntax.html'). When parsing with the dependency parser, we will work directly from the untokenized text. Note that no *processing* takes place before parsing sentences--we do not remove so-called stop words or anything that plays a syntactic role in the sentence, although anaphora resolution and related normalization may be performed before or after parsing to enhance the value of information extraction. "
   ]
  },
  {
   "cell_type": "markdown",
   "metadata": {},
   "source": [
    "We will be using spaCy's built in dependancy parser to go about exploring the tree.\n",
    "Note that unlike previous examples, large corpuses or collections of sentences don't give us as much information, so we will be navigating smaller sentences.\n",
    "\n",
    "Let us start by exploring noun chunks. Noun chunks are “base noun phrases” – flat phrases that have a noun as their head. You can think of noun chunks as a noun plus the words describing the noun – for example, “the lavish green grass” or “the world’s largest tech fund”. To get the noun chunks in a document, simply iterate over the sentences noun chunks."
   ]
  },
  {
   "cell_type": "code",
   "execution_count": 108,
   "metadata": {},
   "outputs": [],
   "source": [
    "from spacy import displacy"
   ]
  },
  {
   "cell_type": "code",
   "execution_count": 109,
   "metadata": {},
   "outputs": [],
   "source": [
    "doc = nlp(\"Autonomous cars shift insurance liability toward manufacturers\")"
   ]
  },
  {
   "cell_type": "code",
   "execution_count": 110,
   "metadata": {},
   "outputs": [
    {
     "data": {
      "text/html": [
       "<span class=\"tex2jax_ignore\"><svg xmlns=\"http://www.w3.org/2000/svg\" xmlns:xlink=\"http://www.w3.org/1999/xlink\" xml:lang=\"en\" id=\"b33fcace7bfa43f1bb12204648e47626-0\" class=\"displacy\" width=\"1275\" height=\"399.5\" direction=\"ltr\" style=\"max-width: none; height: 399.5px; color: #000000; background: #ffffff; font-family: Arial; direction: ltr\">\n",
       "<text class=\"displacy-token\" fill=\"currentColor\" text-anchor=\"middle\" y=\"309.5\">\n",
       "    <tspan class=\"displacy-word\" fill=\"currentColor\" x=\"50\">Autonomous</tspan>\n",
       "    <tspan class=\"displacy-tag\" dy=\"2em\" fill=\"currentColor\" x=\"50\">ADJ</tspan>\n",
       "</text>\n",
       "\n",
       "<text class=\"displacy-token\" fill=\"currentColor\" text-anchor=\"middle\" y=\"309.5\">\n",
       "    <tspan class=\"displacy-word\" fill=\"currentColor\" x=\"225\">cars</tspan>\n",
       "    <tspan class=\"displacy-tag\" dy=\"2em\" fill=\"currentColor\" x=\"225\">NOUN</tspan>\n",
       "</text>\n",
       "\n",
       "<text class=\"displacy-token\" fill=\"currentColor\" text-anchor=\"middle\" y=\"309.5\">\n",
       "    <tspan class=\"displacy-word\" fill=\"currentColor\" x=\"400\">shift</tspan>\n",
       "    <tspan class=\"displacy-tag\" dy=\"2em\" fill=\"currentColor\" x=\"400\">VERB</tspan>\n",
       "</text>\n",
       "\n",
       "<text class=\"displacy-token\" fill=\"currentColor\" text-anchor=\"middle\" y=\"309.5\">\n",
       "    <tspan class=\"displacy-word\" fill=\"currentColor\" x=\"575\">insurance</tspan>\n",
       "    <tspan class=\"displacy-tag\" dy=\"2em\" fill=\"currentColor\" x=\"575\">NOUN</tspan>\n",
       "</text>\n",
       "\n",
       "<text class=\"displacy-token\" fill=\"currentColor\" text-anchor=\"middle\" y=\"309.5\">\n",
       "    <tspan class=\"displacy-word\" fill=\"currentColor\" x=\"750\">liability</tspan>\n",
       "    <tspan class=\"displacy-tag\" dy=\"2em\" fill=\"currentColor\" x=\"750\">NOUN</tspan>\n",
       "</text>\n",
       "\n",
       "<text class=\"displacy-token\" fill=\"currentColor\" text-anchor=\"middle\" y=\"309.5\">\n",
       "    <tspan class=\"displacy-word\" fill=\"currentColor\" x=\"925\">toward</tspan>\n",
       "    <tspan class=\"displacy-tag\" dy=\"2em\" fill=\"currentColor\" x=\"925\">ADP</tspan>\n",
       "</text>\n",
       "\n",
       "<text class=\"displacy-token\" fill=\"currentColor\" text-anchor=\"middle\" y=\"309.5\">\n",
       "    <tspan class=\"displacy-word\" fill=\"currentColor\" x=\"1100\">manufacturers</tspan>\n",
       "    <tspan class=\"displacy-tag\" dy=\"2em\" fill=\"currentColor\" x=\"1100\">NOUN</tspan>\n",
       "</text>\n",
       "\n",
       "<g class=\"displacy-arrow\">\n",
       "    <path class=\"displacy-arc\" id=\"arrow-b33fcace7bfa43f1bb12204648e47626-0-0\" stroke-width=\"2px\" d=\"M70,264.5 C70,177.0 215.0,177.0 215.0,264.5\" fill=\"none\" stroke=\"currentColor\"/>\n",
       "    <text dy=\"1.25em\" style=\"font-size: 0.8em; letter-spacing: 1px\">\n",
       "        <textPath xlink:href=\"#arrow-b33fcace7bfa43f1bb12204648e47626-0-0\" class=\"displacy-label\" startOffset=\"50%\" side=\"left\" fill=\"currentColor\" text-anchor=\"middle\">amod</textPath>\n",
       "    </text>\n",
       "    <path class=\"displacy-arrowhead\" d=\"M70,266.5 L62,254.5 78,254.5\" fill=\"currentColor\"/>\n",
       "</g>\n",
       "\n",
       "<g class=\"displacy-arrow\">\n",
       "    <path class=\"displacy-arc\" id=\"arrow-b33fcace7bfa43f1bb12204648e47626-0-1\" stroke-width=\"2px\" d=\"M245,264.5 C245,177.0 390.0,177.0 390.0,264.5\" fill=\"none\" stroke=\"currentColor\"/>\n",
       "    <text dy=\"1.25em\" style=\"font-size: 0.8em; letter-spacing: 1px\">\n",
       "        <textPath xlink:href=\"#arrow-b33fcace7bfa43f1bb12204648e47626-0-1\" class=\"displacy-label\" startOffset=\"50%\" side=\"left\" fill=\"currentColor\" text-anchor=\"middle\">nsubj</textPath>\n",
       "    </text>\n",
       "    <path class=\"displacy-arrowhead\" d=\"M245,266.5 L237,254.5 253,254.5\" fill=\"currentColor\"/>\n",
       "</g>\n",
       "\n",
       "<g class=\"displacy-arrow\">\n",
       "    <path class=\"displacy-arc\" id=\"arrow-b33fcace7bfa43f1bb12204648e47626-0-2\" stroke-width=\"2px\" d=\"M595,264.5 C595,177.0 740.0,177.0 740.0,264.5\" fill=\"none\" stroke=\"currentColor\"/>\n",
       "    <text dy=\"1.25em\" style=\"font-size: 0.8em; letter-spacing: 1px\">\n",
       "        <textPath xlink:href=\"#arrow-b33fcace7bfa43f1bb12204648e47626-0-2\" class=\"displacy-label\" startOffset=\"50%\" side=\"left\" fill=\"currentColor\" text-anchor=\"middle\">compound</textPath>\n",
       "    </text>\n",
       "    <path class=\"displacy-arrowhead\" d=\"M595,266.5 L587,254.5 603,254.5\" fill=\"currentColor\"/>\n",
       "</g>\n",
       "\n",
       "<g class=\"displacy-arrow\">\n",
       "    <path class=\"displacy-arc\" id=\"arrow-b33fcace7bfa43f1bb12204648e47626-0-3\" stroke-width=\"2px\" d=\"M420,264.5 C420,89.5 745.0,89.5 745.0,264.5\" fill=\"none\" stroke=\"currentColor\"/>\n",
       "    <text dy=\"1.25em\" style=\"font-size: 0.8em; letter-spacing: 1px\">\n",
       "        <textPath xlink:href=\"#arrow-b33fcace7bfa43f1bb12204648e47626-0-3\" class=\"displacy-label\" startOffset=\"50%\" side=\"left\" fill=\"currentColor\" text-anchor=\"middle\">dobj</textPath>\n",
       "    </text>\n",
       "    <path class=\"displacy-arrowhead\" d=\"M745.0,266.5 L753.0,254.5 737.0,254.5\" fill=\"currentColor\"/>\n",
       "</g>\n",
       "\n",
       "<g class=\"displacy-arrow\">\n",
       "    <path class=\"displacy-arc\" id=\"arrow-b33fcace7bfa43f1bb12204648e47626-0-4\" stroke-width=\"2px\" d=\"M420,264.5 C420,2.0 925.0,2.0 925.0,264.5\" fill=\"none\" stroke=\"currentColor\"/>\n",
       "    <text dy=\"1.25em\" style=\"font-size: 0.8em; letter-spacing: 1px\">\n",
       "        <textPath xlink:href=\"#arrow-b33fcace7bfa43f1bb12204648e47626-0-4\" class=\"displacy-label\" startOffset=\"50%\" side=\"left\" fill=\"currentColor\" text-anchor=\"middle\">prep</textPath>\n",
       "    </text>\n",
       "    <path class=\"displacy-arrowhead\" d=\"M925.0,266.5 L933.0,254.5 917.0,254.5\" fill=\"currentColor\"/>\n",
       "</g>\n",
       "\n",
       "<g class=\"displacy-arrow\">\n",
       "    <path class=\"displacy-arc\" id=\"arrow-b33fcace7bfa43f1bb12204648e47626-0-5\" stroke-width=\"2px\" d=\"M945,264.5 C945,177.0 1090.0,177.0 1090.0,264.5\" fill=\"none\" stroke=\"currentColor\"/>\n",
       "    <text dy=\"1.25em\" style=\"font-size: 0.8em; letter-spacing: 1px\">\n",
       "        <textPath xlink:href=\"#arrow-b33fcace7bfa43f1bb12204648e47626-0-5\" class=\"displacy-label\" startOffset=\"50%\" side=\"left\" fill=\"currentColor\" text-anchor=\"middle\">pobj</textPath>\n",
       "    </text>\n",
       "    <path class=\"displacy-arrowhead\" d=\"M1090.0,266.5 L1098.0,254.5 1082.0,254.5\" fill=\"currentColor\"/>\n",
       "</g>\n",
       "</svg></span>"
      ],
      "text/plain": [
       "<IPython.core.display.HTML object>"
      ]
     },
     "metadata": {},
     "output_type": "display_data"
    }
   ],
   "source": [
    "displacy.render(doc, style='dep')"
   ]
  },
  {
   "cell_type": "code",
   "execution_count": 111,
   "metadata": {},
   "outputs": [
    {
     "name": "stdout",
     "output_type": "stream",
     "text": [
      "Autonomous cars cars nsubj shift\n",
      "insurance liability liability dobj shift\n",
      "manufacturers manufacturers pobj toward\n"
     ]
    }
   ],
   "source": [
    "for chunk in doc.noun_chunks:\n",
    "    print(chunk.text, chunk.root.text, chunk.root.dep_, chunk.root.head.text)"
   ]
  },
  {
   "cell_type": "markdown",
   "metadata": {},
   "source": [
    "spaCy uses the terms head and child to describe the words connected by a single arc in the dependency tree. The term dep is used for the arc label, which describes the type of syntactic relation that connects the child to the head. As with other attributes, the value of .dep is a hash value. You can get the string value with .dep_.\n",
    "\n",
    "For your reference:\n",
    "\n",
    "Text: The original token text.\n",
    "\n",
    "Dep: The syntactic relation connecting child to head.\n",
    "\n",
    "Head text: The original text of the token head.\n",
    "\n",
    "Head POS: The part-of-speech tag of the token head.\n",
    "\n",
    "Children: The immediate syntactic dependents of the token."
   ]
  },
  {
   "cell_type": "code",
   "execution_count": 112,
   "metadata": {},
   "outputs": [
    {
     "name": "stdout",
     "output_type": "stream",
     "text": [
      "Autonomous amod cars NOUN []\n",
      "cars nsubj shift VERB [Autonomous]\n",
      "shift ROOT shift VERB [cars, liability, toward]\n",
      "insurance compound liability NOUN []\n",
      "liability dobj shift VERB [insurance]\n",
      "toward prep shift VERB [manufacturers]\n",
      "manufacturers pobj toward ADP []\n"
     ]
    }
   ],
   "source": [
    "for token in doc:\n",
    "    print(token.text, token.dep_, token.head.text, token.head.pos_,\n",
    "            [child for child in token.children])"
   ]
  },
  {
   "cell_type": "markdown",
   "metadata": {},
   "source": [
    "Because the syntactic relations form a tree, every word has exactly one head. You can therefore iterate over the arcs in the tree by iterating over the words in the sentence. This is usually the best way to match an arc of interest — from below:"
   ]
  },
  {
   "cell_type": "code",
   "execution_count": 113,
   "metadata": {},
   "outputs": [],
   "source": [
    "from spacy.symbols import nsubj, VERB"
   ]
  },
  {
   "cell_type": "code",
   "execution_count": 114,
   "metadata": {},
   "outputs": [
    {
     "name": "stdout",
     "output_type": "stream",
     "text": [
      "{shift}\n"
     ]
    }
   ],
   "source": [
    "verbs = set()\n",
    "for possible_subject in doc:\n",
    "    if possible_subject.dep == nsubj and possible_subject.head.pos == VERB:\n",
    "        verbs.add(possible_subject.head)\n",
    "print(verbs)"
   ]
  },
  {
   "cell_type": "markdown",
   "metadata": {},
   "source": [
    "You can *also* navigate from above. It isn't as efficient though."
   ]
  },
  {
   "cell_type": "code",
   "execution_count": 115,
   "metadata": {},
   "outputs": [],
   "source": [
    "verbs = []\n",
    "for possible_verb in doc:\n",
    "    if possible_verb.pos == VERB:\n",
    "        for possible_subject in possible_verb.children:\n",
    "            if possible_subject.dep == nsubj:\n",
    "                verbs.append(possible_verb)\n",
    "                break"
   ]
  },
  {
   "cell_type": "code",
   "execution_count": 116,
   "metadata": {},
   "outputs": [
    {
     "name": "stdout",
     "output_type": "stream",
     "text": [
      "[shift]\n"
     ]
    }
   ],
   "source": [
    "print(verbs)"
   ]
  },
  {
   "cell_type": "markdown",
   "metadata": {},
   "source": [
    "### Iterating around the local tree\n",
    "A few more convenience attributes are provided for iterating around the local tree from the token. Token.lefts and Token.rights attributes provide sequences of syntactic children that occur before and after the token. Both sequences are in sentence order. There are also two integer-typed attributes, Token.n_lefts and Token.n_rights that give the number of left and right children."
   ]
  },
  {
   "cell_type": "code",
   "execution_count": 117,
   "metadata": {},
   "outputs": [
    {
     "name": "stdout",
     "output_type": "stream",
     "text": [
      "['bright', 'red']\n",
      "['on']\n",
      "2\n",
      "1\n"
     ]
    }
   ],
   "source": [
    "doc = nlp(\"bright red apples on the tree\")\n",
    "print([token.text for token in doc[2].lefts])  # ['bright', 'red']\n",
    "print([token.text for token in doc[2].rights])  # ['on']\n",
    "print(doc[2].n_lefts)  # 2\n",
    "print(doc[2].n_rights)  # 1"
   ]
  },
  {
   "cell_type": "markdown",
   "metadata": {},
   "source": [
    "You can get a whole phrase by its syntactic head using the Token.subtree attribute. This returns an ordered sequence of tokens. You can walk up the tree with the Token.ancestors attribute, and check dominance with Token.is_ancestor"
   ]
  },
  {
   "cell_type": "code",
   "execution_count": 118,
   "metadata": {},
   "outputs": [
    {
     "name": "stdout",
     "output_type": "stream",
     "text": [
      "Credit nmod 0 2 ['holders', 'submit']\n",
      "and cc 0 0 ['Credit', 'holders', 'submit']\n",
      "mortgage compound 0 0 ['account', 'Credit', 'holders', 'submit']\n",
      "account conj 1 0 ['Credit', 'holders', 'submit']\n",
      "holders nsubj 1 0 ['submit']\n"
     ]
    }
   ],
   "source": [
    "doc = nlp(\"Credit and mortgage account holders must submit their requests\")\n",
    "\n",
    "root = [token for token in doc if token.head == token][0]\n",
    "subject = list(root.lefts)[0]\n",
    "for descendant in subject.subtree:\n",
    "    assert subject is descendant or subject.is_ancestor(descendant)\n",
    "    print(descendant.text, descendant.dep_, descendant.n_lefts,\n",
    "            descendant.n_rights,\n",
    "            [ancestor.text for ancestor in descendant.ancestors])"
   ]
  },
  {
   "cell_type": "markdown",
   "metadata": {},
   "source": [
    "Finally, the .left_edge and .right_edge attributes can be especially useful, because they give you the first and last token of the subtree. This is the easiest way to create a Span object for a syntactic phrase. Note that .right_edge gives a token within the subtree — so if you use it as the end-point of a range, don’t forget to +1!"
   ]
  },
  {
   "cell_type": "code",
   "execution_count": 119,
   "metadata": {},
   "outputs": [
    {
     "name": "stdout",
     "output_type": "stream",
     "text": [
      "Credit and mortgage account holders NOUN nsubj submit\n",
      "must AUX aux submit\n",
      "submit VERB ROOT submit\n",
      "their PRON poss requests\n",
      "requests NOUN dobj submit\n"
     ]
    }
   ],
   "source": [
    "span = doc[doc[4].left_edge.i : doc[4].right_edge.i+1]\n",
    "with doc.retokenize() as retokenizer:\n",
    "    retokenizer.merge(span)\n",
    "for token in doc:\n",
    "    print(token.text, token.pos_, token.dep_, token.head.text)"
   ]
  },
  {
   "cell_type": "code",
   "execution_count": 120,
   "metadata": {},
   "outputs": [
    {
     "data": {
      "text/html": [
       "<span class=\"tex2jax_ignore\"><svg xmlns=\"http://www.w3.org/2000/svg\" xmlns:xlink=\"http://www.w3.org/1999/xlink\" xml:lang=\"en\" id=\"7fdc6e05cf5b48af9822a98ae8cf4df1-0\" class=\"displacy\" width=\"925\" height=\"312.0\" direction=\"ltr\" style=\"max-width: none; height: 312.0px; color: #000000; background: #ffffff; font-family: Arial; direction: ltr\">\n",
       "<text class=\"displacy-token\" fill=\"currentColor\" text-anchor=\"middle\" y=\"222.0\">\n",
       "    <tspan class=\"displacy-word\" fill=\"currentColor\" x=\"50\">Credit and mortgage account holders</tspan>\n",
       "    <tspan class=\"displacy-tag\" dy=\"2em\" fill=\"currentColor\" x=\"50\">NOUN</tspan>\n",
       "</text>\n",
       "\n",
       "<text class=\"displacy-token\" fill=\"currentColor\" text-anchor=\"middle\" y=\"222.0\">\n",
       "    <tspan class=\"displacy-word\" fill=\"currentColor\" x=\"225\">must</tspan>\n",
       "    <tspan class=\"displacy-tag\" dy=\"2em\" fill=\"currentColor\" x=\"225\">AUX</tspan>\n",
       "</text>\n",
       "\n",
       "<text class=\"displacy-token\" fill=\"currentColor\" text-anchor=\"middle\" y=\"222.0\">\n",
       "    <tspan class=\"displacy-word\" fill=\"currentColor\" x=\"400\">submit</tspan>\n",
       "    <tspan class=\"displacy-tag\" dy=\"2em\" fill=\"currentColor\" x=\"400\">VERB</tspan>\n",
       "</text>\n",
       "\n",
       "<text class=\"displacy-token\" fill=\"currentColor\" text-anchor=\"middle\" y=\"222.0\">\n",
       "    <tspan class=\"displacy-word\" fill=\"currentColor\" x=\"575\">their</tspan>\n",
       "    <tspan class=\"displacy-tag\" dy=\"2em\" fill=\"currentColor\" x=\"575\">PRON</tspan>\n",
       "</text>\n",
       "\n",
       "<text class=\"displacy-token\" fill=\"currentColor\" text-anchor=\"middle\" y=\"222.0\">\n",
       "    <tspan class=\"displacy-word\" fill=\"currentColor\" x=\"750\">requests</tspan>\n",
       "    <tspan class=\"displacy-tag\" dy=\"2em\" fill=\"currentColor\" x=\"750\">NOUN</tspan>\n",
       "</text>\n",
       "\n",
       "<g class=\"displacy-arrow\">\n",
       "    <path class=\"displacy-arc\" id=\"arrow-7fdc6e05cf5b48af9822a98ae8cf4df1-0-0\" stroke-width=\"2px\" d=\"M70,177.0 C70,2.0 400.0,2.0 400.0,177.0\" fill=\"none\" stroke=\"currentColor\"/>\n",
       "    <text dy=\"1.25em\" style=\"font-size: 0.8em; letter-spacing: 1px\">\n",
       "        <textPath xlink:href=\"#arrow-7fdc6e05cf5b48af9822a98ae8cf4df1-0-0\" class=\"displacy-label\" startOffset=\"50%\" side=\"left\" fill=\"currentColor\" text-anchor=\"middle\">nsubj</textPath>\n",
       "    </text>\n",
       "    <path class=\"displacy-arrowhead\" d=\"M70,179.0 L62,167.0 78,167.0\" fill=\"currentColor\"/>\n",
       "</g>\n",
       "\n",
       "<g class=\"displacy-arrow\">\n",
       "    <path class=\"displacy-arc\" id=\"arrow-7fdc6e05cf5b48af9822a98ae8cf4df1-0-1\" stroke-width=\"2px\" d=\"M245,177.0 C245,89.5 395.0,89.5 395.0,177.0\" fill=\"none\" stroke=\"currentColor\"/>\n",
       "    <text dy=\"1.25em\" style=\"font-size: 0.8em; letter-spacing: 1px\">\n",
       "        <textPath xlink:href=\"#arrow-7fdc6e05cf5b48af9822a98ae8cf4df1-0-1\" class=\"displacy-label\" startOffset=\"50%\" side=\"left\" fill=\"currentColor\" text-anchor=\"middle\">aux</textPath>\n",
       "    </text>\n",
       "    <path class=\"displacy-arrowhead\" d=\"M245,179.0 L237,167.0 253,167.0\" fill=\"currentColor\"/>\n",
       "</g>\n",
       "\n",
       "<g class=\"displacy-arrow\">\n",
       "    <path class=\"displacy-arc\" id=\"arrow-7fdc6e05cf5b48af9822a98ae8cf4df1-0-2\" stroke-width=\"2px\" d=\"M595,177.0 C595,89.5 745.0,89.5 745.0,177.0\" fill=\"none\" stroke=\"currentColor\"/>\n",
       "    <text dy=\"1.25em\" style=\"font-size: 0.8em; letter-spacing: 1px\">\n",
       "        <textPath xlink:href=\"#arrow-7fdc6e05cf5b48af9822a98ae8cf4df1-0-2\" class=\"displacy-label\" startOffset=\"50%\" side=\"left\" fill=\"currentColor\" text-anchor=\"middle\">poss</textPath>\n",
       "    </text>\n",
       "    <path class=\"displacy-arrowhead\" d=\"M595,179.0 L587,167.0 603,167.0\" fill=\"currentColor\"/>\n",
       "</g>\n",
       "\n",
       "<g class=\"displacy-arrow\">\n",
       "    <path class=\"displacy-arc\" id=\"arrow-7fdc6e05cf5b48af9822a98ae8cf4df1-0-3\" stroke-width=\"2px\" d=\"M420,177.0 C420,2.0 750.0,2.0 750.0,177.0\" fill=\"none\" stroke=\"currentColor\"/>\n",
       "    <text dy=\"1.25em\" style=\"font-size: 0.8em; letter-spacing: 1px\">\n",
       "        <textPath xlink:href=\"#arrow-7fdc6e05cf5b48af9822a98ae8cf4df1-0-3\" class=\"displacy-label\" startOffset=\"50%\" side=\"left\" fill=\"currentColor\" text-anchor=\"middle\">dobj</textPath>\n",
       "    </text>\n",
       "    <path class=\"displacy-arrowhead\" d=\"M750.0,179.0 L758.0,167.0 742.0,167.0\" fill=\"currentColor\"/>\n",
       "</g>\n",
       "</svg></span>"
      ],
      "text/plain": [
       "<IPython.core.display.HTML object>"
      ]
     },
     "metadata": {},
     "output_type": "display_data"
    }
   ],
   "source": [
    "displacy.render(doc, style='dep')"
   ]
  },
  {
   "cell_type": "markdown",
   "metadata": {},
   "source": [
    "### Information Extraction\n",
    "\n",
    "How can dependancy graphs be useful? We can extract information from the sentences based on relationships between words within parsed phrases. Let us see if we can do this to glean any information, from, say, our movies dataset. \n",
    "\n",
    "How violent are the movies? Who is killing who?"
   ]
  },
  {
   "cell_type": "code",
   "execution_count": 121,
   "metadata": {},
   "outputs": [],
   "source": [
    "movie_violences = {}"
   ]
  },
  {
   "cell_type": "code",
   "execution_count": 122,
   "metadata": {},
   "outputs": [],
   "source": [
    "for index, row in movie_df.iterrows():\n",
    "    text = ' '.join(row['Tokenized Texts'])\n",
    "    movie_violences[row['Movie Name']] = ([], [])\n",
    "    doc = nlp(text)\n",
    "    for chunk in doc.noun_chunks:\n",
    "        subject = 0\n",
    "        object_ = 0\n",
    "        # if the verb or the root of the sentence is kill\n",
    "        if chunk.root.head.text == 'kill':\n",
    "            # we find the subjects and objects around the word, and if it does exist, add it to the tuple\n",
    "            if chunk.root.dep_ == 'nsubj':\n",
    "                subject = chunk.root.text\n",
    "            if chunk.root.dep_ == 'dobj':\n",
    "                object_ = chunk.root.text\n",
    "            if subject is not 0:\n",
    "                movie_violences[row['Movie Name']][0].append(subject)\n",
    "            if object_ is not 0:\n",
    "                movie_violences[row['Movie Name']][1].append(object_)"
   ]
  },
  {
   "cell_type": "code",
   "execution_count": 124,
   "metadata": {},
   "outputs": [
    {
     "data": {
      "text/plain": [
       "{'Born Reckless': ([], ['somebody']),\n",
       " 'Dishonored': (['I', 'I'], ['woman', 'men']),\n",
       " 'Indiscreet': ([], []),\n",
       " 'The Stolen Jools': ([], []),\n",
       " 'College Humor': (['I'], ['him']),\n",
       " \"Man's Castle\": ([], ['man']),\n",
       " 'Sons of the Desert': ([], []),\n",
       " 'Tugboat Annie': ([], []),\n",
       " 'Zoo in Budapest': (['I', 'They', 'Vandor', 'lions'],\n",
       "  ['you', 'animals', 'tiger', 'me', 'him']),\n",
       " 'Blue Steel': ([], []),\n",
       " 'Imitation of Life': (['it'], ['me', 'Nothing']),\n",
       " 'One More River': ([], []),\n",
       " 'Ready for Love': (['I'], ['them']),\n",
       " 'The Grasshopper and the Ants': ([], []),\n",
       " 'Three Orphan Kittens': ([], []),\n",
       " 'Westward Ho': ([], []),\n",
       " 'Anthony Adverse': (['that'], ['you', 'him']),\n",
       " 'The Green Pastures': ([], []),\n",
       " 'The Invisible Ray': (['touch', 'I'], ['us', 'you']),\n",
       " 'The Trail of the Lonesome Pine': (['I', 'I', 'I'],\n",
       "  ['All', 'you', 'you', 'you']),\n",
       " 'Just Around the Corner': ([], []),\n",
       " 'The Great Waltz': (['you'], ['him']),\n",
       " 'The Young in Heart': ([], []),\n",
       " \"Donald's Dog Laundry\": ([], []),\n",
       " 'Phantom Raiders': (['I', 'I'],\n",
       "  ['me', 'you', 'bungler', 'you', 'you', 'you', 'work', 'man']),\n",
       " 'The Letter': (['you'], ['Hammond']),\n",
       " 'Words for Battle': ([], []),\n",
       " 'Ladies in Retirement': ([], []),\n",
       " 'Men of Boys Town': (['I', 'I'], ['him', 'him']),\n",
       " 'The Men in Her Life': (['I'], ['myself', 'myself']),\n",
       " 'Secret Mission': ([], []),\n",
       " 'My Favorite Blonde': (['you', 'you', 'I'], ['em', 'me', 'anybody', 'ya']),\n",
       " 'Murder, My Sweet': (['I', 'I', 'it', 'me', 'you'],\n",
       "  ['Marriott',\n",
       "   'him',\n",
       "   'him',\n",
       "   'him',\n",
       "   'him',\n",
       "   'Amthor',\n",
       "   'him',\n",
       "   'him',\n",
       "   'detective']),\n",
       " \"'I Know Where I'm Going!'\": ([], []),\n",
       " 'Dark Passage': (['he',\n",
       "   'I',\n",
       "   'I',\n",
       "   'you',\n",
       "   'anybody',\n",
       "   'he',\n",
       "   'he',\n",
       "   'you',\n",
       "   'They'],\n",
       "  ['stepmother',\n",
       "   'her',\n",
       "   'her',\n",
       "   'her',\n",
       "   'guy',\n",
       "   'me',\n",
       "   'me',\n",
       "   'me',\n",
       "   'you',\n",
       "   'me',\n",
       "   'Fellsinger',\n",
       "   'him',\n",
       "   'you']),\n",
       " 'It Had to Be You': ([], []),\n",
       " 'It Happened in Brooklyn': ([], []),\n",
       " 'It Happened on Fifth Avenue': (['I', 'I'], ['him', 'him']),\n",
       " 'The Woman on the Beach': ([], ['her', 'me']),\n",
       " 'The Fugitive': (['you'], ['somebody', 'God']),\n",
       " \"A Woman's Vengeance\": (['they', 'I'], ['her', 'herself', 'myself', 'you']),\n",
       " 'Call Northside 777': ([], ['it', 'it']),\n",
       " 'Green Grass of Wyoming': (['em'], []),\n",
       " 'Not Wanted': ([], []),\n",
       " 'Madeleine': ([], []),\n",
       " 'Annie Get Your Gun': ([], ['Grant']),\n",
       " 'Outcast of the Islands': (['you', 'you', 'I'],\n",
       "  ['him', 'anybody', 'somebody', 'you', 'you', 'him', 'anyone', 'me']),\n",
       " 'Chicago Calling': (['He'], ['himself', 'Bill', 'yourself', 'myself']),\n",
       " 'Clash by Night': (['You', 'I'], ['me', 'somebody']),\n",
       " 'The Limping Man': ([], ['me', 'Pauline', 'me']),\n",
       " 'Ambush at Tomahawk Gap': (['He', 'they', 'we'],\n",
       "  ['ya', 'her', 'us', 'her', 'her']),\n",
       " 'Lili': (['I'], ['him', 'boss']),\n",
       " 'Human Desire': (['I'], ['you']),\n",
       " 'Red Garters': (['me', 'I', 'who', 'me', 'I'],\n",
       "  ['son',\n",
       "   'brother',\n",
       "   'Pete',\n",
       "   'him',\n",
       "   'Carberry',\n",
       "   'man',\n",
       "   'man',\n",
       "   'man',\n",
       "   'brother',\n",
       "   'you',\n",
       "   'man',\n",
       "   'man',\n",
       "   'you',\n",
       "   'man',\n",
       "   'lot',\n",
       "   'Yep',\n",
       "   'me',\n",
       "   'Calaveras',\n",
       "   'me']),\n",
       " 'The Mad Magician': (['he', 'he', 'gallico'], ['one', 'her', 'her', 'him']),\n",
       " 'A Life in the Balance': (['She', 'He', 'I', 'I'],\n",
       "  ['me', 'Senor', 'you', 'boy', 'you']),\n",
       " 'The Bespoke Overcoat': (['It'], ['you']),\n",
       " 'My Sister Eileen': (['you'], ['these']),\n",
       " \"We're No Angels\": ([], ['guard', 'wife', 'myself']),\n",
       " 'A Cowboy Needs a Horse': ([], []),\n",
       " 'Helen of Troy': (['They', 'I'], ['him']),\n",
       " 'Patterns': ([], []),\n",
       " 'Storm Center': (['I', 'I'], ['them', 'them']),\n",
       " 'The Fastest Gun Alive': ([], []),\n",
       " 'The Rising of the Moon': ([], []),\n",
       " 'Paradise Lagoon': ([], []),\n",
       " 'Blood of Dracula': ([], []),\n",
       " 'Hellcats of the Navy': ([], []),\n",
       " 'The Delicate Delinquent': ([], ['me']),\n",
       " 'Witness for the Prosecution': (['I', 'I'], ['goose', 'her', 'her']),\n",
       " 'Cry Terror!': (['I', 'they', 'they', 'I', 'I', 'it', 'He', 'He', 'he'],\n",
       "  ['you',\n",
       "   'us',\n",
       "   'honey',\n",
       "   'penalty',\n",
       "   'us',\n",
       "   'us',\n",
       "   'us',\n",
       "   'you',\n",
       "   'you',\n",
       "   'them',\n",
       "   'them',\n",
       "   'people',\n",
       "   'him',\n",
       "   'her',\n",
       "   'her',\n",
       "   'her',\n",
       "   'her',\n",
       "   'him',\n",
       "   'him',\n",
       "   'me']),\n",
       " 'Too Many Crooks': (['I', 'You', 'I', 'he', 'he', 'I', 'He', 'he', 'they'],\n",
       "  ['him', 'me', 'myself', 'him', 'you', 'me', 'fly', 'me']),\n",
       " 'No Name on the Bullet': (['I',\n",
       "   'men',\n",
       "   'I',\n",
       "   'you',\n",
       "   'He',\n",
       "   'you',\n",
       "   'I',\n",
       "   'that',\n",
       "   'I'],\n",
       "  ['somebody',\n",
       "   'em',\n",
       "   'me',\n",
       "   'me',\n",
       "   'Stricker',\n",
       "   'him',\n",
       "   'Hastings',\n",
       "   'him',\n",
       "   'themselves',\n",
       "   'him',\n",
       "   'me',\n",
       "   'me',\n",
       "   'friend',\n",
       "   'me',\n",
       "   'me',\n",
       "   'me',\n",
       "   'me',\n",
       "   'you',\n",
       "   'Stricker',\n",
       "   'you',\n",
       "   'them',\n",
       "   'him',\n",
       "   'you',\n",
       "   'Gant',\n",
       "   'father',\n",
       "   'you',\n",
       "   'Gant']),\n",
       " 'The Bat': (['you', 'who', 'I', 'he'], ['me', 'me', 'me']),\n",
       " 'The Horse Soldiers': ([], []),\n",
       " 'Esther and the King': (['I', 'I'], ['you', 'him']),\n",
       " 'The Angel Wore Red': (['men', 'they'], ['you']),\n",
       " 'Hell Is a City': ([], ['cop', 'man']),\n",
       " 'The Angry Silence': ([], ['us', 'it']),\n",
       " 'Hell to Eternity': (['who'], ['him', 'men', 'Japs', 'man', 'Japs', 'them']),\n",
       " 'Heller in Pink Tights': (['He', 'them', 'you', 'I', 'He'],\n",
       "  ['people',\n",
       "   'him',\n",
       "   'us',\n",
       "   'you',\n",
       "   'you',\n",
       "   'You',\n",
       "   'some',\n",
       "   'Indians',\n",
       "   'you',\n",
       "   'you',\n",
       "   'Healy']),\n",
       " 'Murder, Inc.': (['you', 'I', 'He'],\n",
       "  ['him', 'him', 'us', 'him', 'anyone', 'you']),\n",
       " 'Ada': (['You'], ['you', 'You', 'me', 'him']),\n",
       " 'Lover Come Back': ([\"Dad'll\"], ['me']),\n",
       " 'Mr. Sardonicus': (['Some', 'It'], ['you']),\n",
       " 'Pirates of Tortuga': ([], []),\n",
       " 'Paranoiac': ([], ['herself', 'brother', 'him']),\n",
       " '55 Days at Peking': (['I'], ['Boxer']),\n",
       " 'Johnny Cool': (['They', 'men'], ['you', 'Cool', 'you']),\n",
       " \"Papa's Delicate Condition\": (['cosgrove'], ['me', 'husband']),\n",
       " 'Sahara Today Gone Tomorrow': (['I'], ['man', 'you']),\n",
       " 'First Men in the Moon': (['who'], ['others']),\n",
       " 'The Pumpkin Eater': (['It'], ['us']),\n",
       " 'The Last Man on Earth': ([], ['you', 'Morgan', 'me', 'you']),\n",
       " 'Thunderball': (['you', 'I', 'I', 'you'], ['him', 'pool', 'her', 'Largo']),\n",
       " 'Gunman Called Nebraska': (['he', 'I', 'I', 'Nebraska'],\n",
       "  ['you', 'you', 'those', 'Nebraska', 'you', 'you', 'Donato', 'him', 'you']),\n",
       " 'After the Fox': (['I', 'I', 'I', 'I', 'they', 'She', 'he', 'I', 'he'],\n",
       "  ['you',\n",
       "   'you',\n",
       "   'Everybody',\n",
       "   'her',\n",
       "   'you',\n",
       "   'me',\n",
       "   'SNORTS',\n",
       "   'her',\n",
       "   'himself',\n",
       "   'RADIO']),\n",
       " 'The Comedians': (['bullets', 'they', 'They'], ['devil']),\n",
       " 'Woman Times Seven': (['I'], ['you', 'me']),\n",
       " \"The St. Valentine's Day Massacre\": (['you', 'bullets'], ['mother', 'you']),\n",
       " 'Vienna': ([], []),\n",
       " 'How to Save a Marriage and Ruin Your Life': (['Kill'], ['Harry']),\n",
       " 'Where Angels Go Trouble Follows!': ([], []),\n",
       " 'Where Were You When the Lights Went Out?': (['you'], ['me', 'him', 'Men']),\n",
       " 'Hamlet': (['you', 'I'],\n",
       "  ['me', 'capital', 'calf', 'heart', 'life', 'lord', 'king', 'king', 'lady']),\n",
       " \"Alice's Restaurant\": (['I'], ['anybody']),\n",
       " 'Bob & Carol & Ted & Alice': (['I', 'I'], ['him', 'son']),\n",
       " 'It Was a Short Summer, Charlie Brown': ([], []),\n",
       " 'The Looking Glass War': (['it', 'they'],\n",
       "  ['man', 'Go', 'me', 'I', 'man', 'me']),\n",
       " 'The Rise and Rise of Michael Rimmer': ([], []),\n",
       " 'Rio Lobo': (['I', 'we', 'I'],\n",
       "  ['him', 'him', 'him', 'him', 'him', 'you', 'him', 'him']),\n",
       " 'Start the Revolution Without Me': (['I',\n",
       "   'You',\n",
       "   'We',\n",
       "   'we',\n",
       "   'You',\n",
       "   'They',\n",
       "   'they',\n",
       "   'you',\n",
       "   'I'],\n",
       "  ['you',\n",
       "   'Excuse',\n",
       "   'them',\n",
       "   'Christina',\n",
       "   'Louis',\n",
       "   'Escargot',\n",
       "   'Christina',\n",
       "   'kill',\n",
       "   'Louis',\n",
       "   'Christina',\n",
       "   'Marie',\n",
       "   'us',\n",
       "   'them',\n",
       "   'Louis',\n",
       "   'man',\n",
       "   'Louis']),\n",
       " 'The Angel Levine': (['I', 'I', 'Mishkin'],\n",
       "  ['myself', 'you', 'me', 'you', 'me', 'me']),\n",
       " 'Zabriskie Point': (['winner'], ['looser']),\n",
       " 'Animal Treasure Island': (['they', 'Captain', 'They'], ['us', 'her', 'you']),\n",
       " 'Dr Jekyll & Sister Hyde': ([], []),\n",
       " 'Kidnapped': (['you', 'He', 'you', 'He', 'He'],\n",
       "  ['Campbell', 'us', 'Alan', 'Campbell', 'Gunshot']),\n",
       " 'Catlow': (['I', 'I', 'I', 'you', 'who', 'I'],\n",
       "  ['you', 'you', 'man', 'you', 'man', 'Seris', 'you']),\n",
       " 'Mary, Queen of Scots': (['you', 'you', 'which', 'They'],\n",
       "  ['you',\n",
       "   'me',\n",
       "   'King',\n",
       "   'me',\n",
       "   'me',\n",
       "   'man',\n",
       "   'Riccio',\n",
       "   'King',\n",
       "   'him',\n",
       "   'you',\n",
       "   'you',\n",
       "   'me']),\n",
       " 'Straw Dogs': (['I', 'I', 'rat', 'I', 'They', 'I'],\n",
       "  ['her', 'em', 'rat', 'em', 'all', 'ya']),\n",
       " 'Clerow Wilson and the Miracle of P.S. 14': (['touch'], ['faith']),\n",
       " 'Double Indemnity': (['he', 'they'], ['himself', 'him']),\n",
       " \"Lemora: A Child's Tale of the Supernatural\": (['you', 'him', 'You'],\n",
       "  ['father', 'you', 'you', 'me', 'me']),\n",
       " 'The Night Strangler': (['Brown', 'I'], ['me', 'me', 'em', 'story']),\n",
       " 'Wattstax': ([], []),\n",
       " 'Death Wish': (['I', 'I'], ['cunts', 'you']),\n",
       " 'Overlord': (['You'], ['yourself']),\n",
       " 'The Wilby Conspiracy': (['they'], ['me', 'you']),\n",
       " 'Race with the Devil': (['they'], ['cats']),\n",
       " 'Three Days of the Condor': ([], ['me']),\n",
       " 'Mikey and Nicky': (['I', 'I'],\n",
       "  ['me', 'me', 'you', 'me', 'you', 'you', 'What', 'us', 'me']),\n",
       " 'The Quest: The Longest Drive': ([], []),\n",
       " 'The Shaggy D.A.': ([], []),\n",
       " 'Grand Theft Auto': ([], ['us', 'you']),\n",
       " 'The Late Show': (['I', 'I', 'You', 'He', 'it'],\n",
       "  ['it', 'him', 'him', 'him', 'wife', 'me', 'one', 'him', 'you']),\n",
       " 'The Biggest Battle': (['you'], ['me', 'me', 'Shut']),\n",
       " 'Carry On Emmannuelle': ([], []),\n",
       " 'How to Pick Up Girls!': (['I', 'I', 'I', 'you', 'you'],\n",
       "  ['you', 'you', 'himself', 'you', 'you', 'her', 'me', 'you', 'you', 'me']),\n",
       " 'Dawn of the Dead': (['They', 'They'], ['stations', 'supers']),\n",
       " 'Mad Max': (['I', 'they', 'You'], ['me', 'me']),\n",
       " 'Killer Fish': ([], []),\n",
       " 'The Visitor': (['You'],\n",
       "  ['set', 'her', 'me', 'you', 'her', 'children', 'part']),\n",
       " 'Ashanti': (['me', 'I', 'you'],\n",
       "  ['you',\n",
       "   'husband',\n",
       "   'Pilot',\n",
       "   'man',\n",
       "   'girl',\n",
       "   'Jamil',\n",
       "   'Faid',\n",
       "   'her',\n",
       "   'her',\n",
       "   'myself',\n",
       "   'me',\n",
       "   'him',\n",
       "   'bastard']),\n",
       " 'The Kids Are Alright': ([], []),\n",
       " 'Breaking Away': ([], []),\n",
       " 'The Corn Is Green': (['you', 'I'], ['myself', 'myself', 'birds', 'you']),\n",
       " 'The Electric Horseman': (['they', 'they'], ['ya', 'ya']),\n",
       " 'The Gods Must Be Crazy': (['you'], ['him', 'them']),\n",
       " 'The Awakening': (['You', 'she', 'he'], ['him', 'it', 'ghost', 'lion']),\n",
       " 'The Godsend': ([], ['you', 'me']),\n",
       " 'Raise the Titanic': ([], []),\n",
       " 'Valentine Magic on Love Island': (['we'], ['ourselves']),\n",
       " 'The Return of the King': (['I', 'I'], ['you', 'abomination']),\n",
       " 'Road Games': (['you'], ['music']),\n",
       " 'Continental Divide': (['I', 'I', 'they'], ['guy', 'her', 'you']),\n",
       " 'Fort Apache the Bronx': (['He', 'It', 'He'], ['her', 'ya', 'me', 'me']),\n",
       " 'Neighbors': ([], []),\n",
       " 'Peter and Paul': (['They', 'we'], ['you', 'men', 'them']),\n",
       " \"Huie's Sermon\": (['I'], []),\n",
       " 'Deadly Eyes': ([], ['you']),\n",
       " 'The Snowman': ([], []),\n",
       " 'The Hunchback of Notre Dame': ([], ['him', 'you']),\n",
       " \"Bugs Bunny's 3rd Movie: 1001 Rabbit Tales\": ([], []),\n",
       " 'Rocky III': ([\"guy'll\", 'He', 'I', 'he'],\n",
       "  ['you', 'ya', 'guy', 'ya', 'you', 'man', 'him', 'him', 'you']),\n",
       " 'The Escape Artist': (['guys', 'I', 'I', 'You', 'I'],\n",
       "  ['birds', 'bird', 'you', 'him', 'father', 'mine']),\n",
       " 'Phar Lap': (['I', 'You', 'I', 'I', 'I'],\n",
       "  ['What', 'him', 'him', 'him', 'him', 'you', 'Woodcock', 'you', 'Flores']),\n",
       " 'In the White City': (['he'], ['me', 'you']),\n",
       " 'The Hunger': (['I', 'I'], ['him', 'me']),\n",
       " 'Risky Business': (['I'], ['you', 'Miles']),\n",
       " 'The Mikado': (['you', 'I', 'I', 'I', 'I'],\n",
       "  ['yourself', 'you', 'anything', 'anybody', 'you']),\n",
       " 'Shaolin Temple 2: Kids from Shaolin': (['You',\n",
       "   'Yung',\n",
       "   'I',\n",
       "   'I',\n",
       "   'I',\n",
       "   'Brothers'],\n",
       "  ['son', 'Majesty', 'Hu', 'everyone', 'him', 'him', 'you', 'you', 'Shan']),\n",
       " 'A Nightmare on Elm Street': (['I', 'I', 'him', 'I'],\n",
       "  ['you', 'her', 'me', 'you', 'her', 'Daddy', 'Tina', 'me', 'me', 'you']),\n",
       " 'Crimes of Passion': (['I'], ['mine']),\n",
       " 'Ghoulies': ([], []),\n",
       " 'Little Ears: The Velveteen Rabbit': ([], []),\n",
       " 'Revenge of the Nerds': (['I', 'I'], ['parents']),\n",
       " 'Odds Are!: The Smothers Brothers Show You How to Gamble and Win': (['I'],\n",
       "  ['Wh', 'nicole', 'nicole']),\n",
       " 'Remo Williams: The Adventure Begins': (['I', 'you', 'Fear', 'I', 'you'],\n",
       "  ['you',\n",
       "   'truck',\n",
       "   'Meat',\n",
       "   'you',\n",
       "   'me',\n",
       "   'me',\n",
       "   'us',\n",
       "   'Rayner',\n",
       "   'me',\n",
       "   'me',\n",
       "   'you',\n",
       "   'you',\n",
       "   'Purge',\n",
       "   'truck',\n",
       "   'Meat',\n",
       "   'assassins',\n",
       "   'you',\n",
       "   'me',\n",
       "   'me',\n",
       "   'you',\n",
       "   'us',\n",
       "   'Rayner',\n",
       "   'me']),\n",
       " 'Treasure of the Amazon': (['that'], []),\n",
       " \"Footrot Flats: The Dog's Tale\": (['Somebody'],\n",
       "  ['yourself', 'Safe', 'ref', 'anybody']),\n",
       " \"Let's Get Harry\": (['They'], ['him']),\n",
       " 'Sweet Lies': ([], ['Dongshik']),\n",
       " 'Cross My Heart': (['I'], []),\n",
       " 'Jaws: The Revenge': (['who'], ['it', 'shark', 'one']),\n",
       " 'Plutonium Baby': ([\"'s\", 'I'], ['him', 'me', 'boy']),\n",
       " 'Bagdad Cafe': ([], []),\n",
       " 'The Bear': ([], []),\n",
       " 'High Hopes': ([], ['it']),\n",
       " 'Above the Law': (['motherfucker', 'we', 'we', 'pride', 'we'],\n",
       "  ['me',\n",
       "   'me',\n",
       "   'you',\n",
       "   'senator',\n",
       "   'him',\n",
       "   'senator',\n",
       "   'Phase',\n",
       "   'all',\n",
       "   'senators']),\n",
       " 'Bad Dreams': (['I', 'I', 'She', 'they', 'you', 'He', 'you', 'you'],\n",
       "  ['you',\n",
       "   'herself',\n",
       "   'themselves',\n",
       "   'himself',\n",
       "   'HARRIS',\n",
       "   'me',\n",
       "   'yourself',\n",
       "   'yourself',\n",
       "   'him',\n",
       "   'us']),\n",
       " 'Laura Lansing Slept Here': (['I', 'she'], ['myself', 'yourself', 'herself']),\n",
       " 'Short Circuit 2': (['things'], ['make', 'me', 'you']),\n",
       " 'The Glass Jungle': (['They'],\n",
       "  ['everyone', 'her', 'family', 'All', 'people']),\n",
       " 'Nocturne indien': ([], []),\n",
       " 'Shag': ([], ['myself', 'Luanne', 'you', 'him']),\n",
       " 'C.H.U.D. II: Bud the Chud': (['I', 'guys', 'C.H.U.D.s', 'we'],\n",
       "  ['you', 'God', 'me', 'victims', 'us', 'them', 'him']),\n",
       " 'Robot Jox': (['I', 'I'], ['him', 'that', 'Go', 'you']),\n",
       " 'The Disney-MGM Studios Theme Park Grand Opening': ([], []),\n",
       " 'The Toxic Avenger Part III: The Last Temptation of Toxie': ([], []),\n",
       " 'Communion': (['I', 'I', 'I'], ['it', 'you', 'you', 'you']),\n",
       " 'Beyond Darkness': (['you'], ['child']),\n",
       " 'A Shock to the System': ([], []),\n",
       " 'Forgotten Prisoners: The Amnesty Files': ([], []),\n",
       " 'Gremlins 2: The New Batch': ([], []),\n",
       " 'House Party': (['I'], ['him', 'him', 'him']),\n",
       " 'Mr. Destiny': (['you', 'mother'], ['me']),\n",
       " 'Opportunity Knocks': (['I', 'I'], ['music', 'you', 'you', 'you', 'me']),\n",
       " 'RoboCop 2': (['I', 'I', 'I', 'fuckin', 'I', 'He', 'He', 'He'],\n",
       "  ['you', 'bitches', 'it', 'it', 'you', 'him', 'you', 'anybody', 'you']),\n",
       " 'Total Recall': (['girl', 'They', 'You'],\n",
       "  ['you',\n",
       "   'guys',\n",
       "   'you',\n",
       "   'me',\n",
       "   'Muggers',\n",
       "   'you',\n",
       "   'me',\n",
       "   'you',\n",
       "   'Quaid',\n",
       "   'me',\n",
       "   'me',\n",
       "   'What',\n",
       "   'us',\n",
       "   'me',\n",
       "   'somebody']),\n",
       " 'Once a Thief 2': ([], ['kid', 'me']),\n",
       " 'All I Want for Christmas': ([], []),\n",
       " 'All Night Long': (['it', 'I', 'I'], ['bear', 'them', 'you', 'them']),\n",
       " 'Committed': (['them', 'I'],\n",
       "  ['you', 'nurses', 'you', 'you', 'nurses', 'them', 'nurses']),\n",
       " 'Convicts': (['sheriff',\n",
       "   'he',\n",
       "   'I',\n",
       "   'I',\n",
       "   'I',\n",
       "   'we',\n",
       "   'I',\n",
       "   'you',\n",
       "   'man',\n",
       "   'you',\n",
       "   'you',\n",
       "   'I',\n",
       "   'Somebody'],\n",
       "  ['me',\n",
       "   'me',\n",
       "   'you',\n",
       "   'yourself',\n",
       "   'myself',\n",
       "   'you',\n",
       "   'me',\n",
       "   'one',\n",
       "   'me',\n",
       "   'him',\n",
       "   'son',\n",
       "   'it',\n",
       "   'all',\n",
       "   'me',\n",
       "   'you',\n",
       "   'him',\n",
       "   'brother',\n",
       "   'him',\n",
       "   'him',\n",
       "   'him',\n",
       "   'him',\n",
       "   'me',\n",
       "   'you',\n",
       "   'son',\n",
       "   'place',\n",
       "   'cane',\n",
       "   'him']),\n",
       " 'Delirious': (['You', 'Paul', 'I'],\n",
       "  ['show', 'mother', 'her', 'me', 'Janet', 'you']),\n",
       " 'For the Boys': (['Margaret'], ['me']),\n",
       " 'Kickboxer 2: The Road Back': ([], []),\n",
       " 'Mystery Date': (['I', 'he', 'I', 'You'],\n",
       "  ['us', 'you', 'us', 'McHugh', 'you', 'us', 'you', 'us', 'you', 'yourself']),\n",
       " 'Shattered': (['I'], ['you', 'me', 'Jenny', 'you', 'her']),\n",
       " \"She Says She's Innocent\": ([], []),\n",
       " 'Subspecies': ([], []),\n",
       " 'The Mambo Kings': ([], []),\n",
       " 'In the Line of Duty: Street War': (['you'], ['me', 'Me', 'Carter', 'him']),\n",
       " 'Sidekicks': ([], []),\n",
       " 'Honor and Glory': (['I', 'me', 'I'],\n",
       "  ['people', 'Mickey', 'me', 'you', 'them', 'man', 'her']),\n",
       " 'Shadowlands': ([], []),\n",
       " 'Tales from Vienna Woods: Stille Nacht III.': ([], []),\n",
       " 'CB4': (['He'], ['me', 'Gusto', 'me']),\n",
       " 'Dennis the Menace': ([], ['you']),\n",
       " 'Kalifornia': (['people', 'she', 'he', 'Adele', 'me', 'him'],\n",
       "  ['victim',\n",
       "   'being',\n",
       "   'you',\n",
       "   'him',\n",
       "   'us',\n",
       "   'people',\n",
       "   'None',\n",
       "   'what',\n",
       "   'guy',\n",
       "   'man',\n",
       "   'Carrie',\n",
       "   'him',\n",
       "   'him']),\n",
       " 'Rudy': ([], []),\n",
       " 'The Beverly Hillbillies': ([], ['me', 'you', 'you', 'anyone']),\n",
       " 'The Man from Left Field': (['mom', 'mom', 'We', 'you'],\n",
       "  ['me', 'me', 'them', 'kids', 'me', 'me', 'you']),\n",
       " 'The Man Without a Face': (['he', 'you'], ['wife', 'I', 'me']),\n",
       " 'Sirens': ([], []),\n",
       " 'Emmanuelle 6: One Final Fling': ([], []),\n",
       " 'Giorgino': (['It', 'they', 'I'], ['you', 'Obey']),\n",
       " 'Maruta 3 ... Destroy all Evidence': (['I', 'You'],\n",
       "  ['him', 'you', 'me', 'idiot']),\n",
       " 'Street Fighter': (['you', 'I', 'you', 'I', 'I', 'I'],\n",
       "  ['Tsurugi', 'her', 'him', 'Tsurugi', 'you', 'you', 'you', 'me']),\n",
       " 'Bloodlust: Subspecies III': (['sunlight', 'What'], ['us', 'things']),\n",
       " 'Confessions of a Sorority Girl': (['I', 'parents', 'I', 'I'],\n",
       "  ['me', 'you', 'man', 'you']),\n",
       " 'Roadracers': (['I', 'you'], ['you', 'you']),\n",
       " 'The Chase': (['God', 'I', 'either'],\n",
       "  ['me', 'me', 'them', 'you', 'anybody', 'you', 'you', 'you']),\n",
       " 'The Road to Wellville': (['they', 'thing'], ['us', 'all', 'you']),\n",
       " 'White Fang 2: Myth of the White Wolf': ([], []),\n",
       " 'Terminal Velocity': (['I'], ['yourself', 'yourself', 'em']),\n",
       " 'Mystery of the Maya': ([], []),\n",
       " 'Assassins': (['you', 'you', 'you'],\n",
       "  ['her', 'mark', 'you', 'you', 'her', 'You', 'me', 'you']),\n",
       " 'Two Much': ([], ['you', 'rent']),\n",
       " 'Cold Comfort Farm': ([], []),\n",
       " 'The Wind in the Willows': ([], []),\n",
       " 'Total Eclipse': (['you', 'I'], ['me', 'you']),\n",
       " 'Bushwhacked': (['you', 'he', 'answers', 'I', 'I', 'you'],\n",
       "  ['somebody', 'lion', 'us', 'Max', 'anybody', 'him', 'kids', 'scouts']),\n",
       " 'Four Rooms': ([], ['me']),\n",
       " 'Jury Duty': (['Gon'],\n",
       "  ['spring',\n",
       "   'you',\n",
       "   'you',\n",
       "   'I',\n",
       "   'you',\n",
       "   'you',\n",
       "   'ButIdon',\n",
       "   'you',\n",
       "   'man',\n",
       "   'you',\n",
       "   'SHOUTINGANGRILY',\n",
       "   'me',\n",
       "   'Willy']),\n",
       " 'Just Cause': (['who', 'who', 'you', 'you', 'you', \"I'i\", 'it'],\n",
       "  ['whites',\n",
       "   'blacks',\n",
       "   'boy',\n",
       "   'Speak',\n",
       "   'Shriver',\n",
       "   'Shriver',\n",
       "   'her',\n",
       "   'her',\n",
       "   \"I'i\"]),\n",
       " 'Tom and Huck': ([], ['you', 'tom', 'you', 'you', 'Judge']),\n",
       " 'The Thorn Birds: The Missing Years': ([], ['him']),\n",
       " 'Different for Girls': ([], ['you']),\n",
       " 'Norma Jean & Marilyn': (['I', 'combination'],\n",
       "  ['him', 'yourself', 'you', 'you', 'motor', 'you', 'Quick']),\n",
       " 'D3: The Mighty Ducks': ([], ['guys']),\n",
       " 'Head Above Water': (['we'],\n",
       "  ['him', 'herself', 'me', 'yourself', 'me', 'me', 'me']),\n",
       " \"I'm Not Rappaport\": ([], []),\n",
       " 'Janet Jackson: Design of a Decade 1986/1996': (['film', 'mouth', 'I'],\n",
       "  ['someone',\n",
       "   'attack',\n",
       "   'me',\n",
       "   'inches',\n",
       "   'you',\n",
       "   'phone',\n",
       "   'them',\n",
       "   'us',\n",
       "   'him',\n",
       "   'me',\n",
       "   'me',\n",
       "   'me',\n",
       "   'me',\n",
       "   'you',\n",
       "   'her']),\n",
       " 'Normal Life': (['you', 'you', 'Pem', 'I'], ['him', 'him', 'you', 'him']),\n",
       " 'Swingers': ([], ['bunny', 'bunny', 'bunny']),\n",
       " 'The Rock': (['teaspoon'], ['organism', 'you', 'people', 'people']),\n",
       " 'Two If by Sea': ([], ['you']),\n",
       " 'Unnaturally Born Killers': (['he', 'I', 'fire', 'they', 'love', 'she', \"'s\"],\n",
       "  ['you',\n",
       "   'my',\n",
       "   'you',\n",
       "   'camera',\n",
       "   'somebody',\n",
       "   'you',\n",
       "   'father',\n",
       "   'scars',\n",
       "   'I',\n",
       "   'you',\n",
       "   'you',\n",
       "   'you',\n",
       "   'us',\n",
       "   'me']),\n",
       " 'Mary Reilly': ([], ['eels']),\n",
       " 'Critical Care': (['you', 'it'], ['him', 'father', 'father']),\n",
       " 'The Ugly': (['who', 'you', 'me', 'you'],\n",
       "  ['us', 'you', 'her', 'mum', 'her', 'them']),\n",
       " 'Gang Related': (['I', \"'s\", 'we', 'he'],\n",
       "  ['Who',\n",
       "   'George',\n",
       "   'her',\n",
       "   'her',\n",
       "   'Frank',\n",
       "   'What',\n",
       "   'witness',\n",
       "   'somebody',\n",
       "   'partner']),\n",
       " 'Last Stand at Saber River': (['he', 'I', 'Kidston', 'I', 'You', 'we'],\n",
       "  ['you',\n",
       "   'Mexican',\n",
       "   'you',\n",
       "   'you',\n",
       "   'Vern',\n",
       "   'you',\n",
       "   'you',\n",
       "   'you',\n",
       "   'horses',\n",
       "   'friend',\n",
       "   'you']),\n",
       " 'Starship Troopers': (['us', 'You', 'they', 'I', 'they'],\n",
       "  ['em',\n",
       "   'thing',\n",
       "   'attitude',\n",
       "   'guys',\n",
       "   'Bugs',\n",
       "   'warrior',\n",
       "   'Bugs',\n",
       "   'it',\n",
       "   'Bugs',\n",
       "   'us',\n",
       "   'Roughnecks',\n",
       "   'you',\n",
       "   'us',\n",
       "   'you',\n",
       "   'race',\n",
       "   'Bugs',\n",
       "   'sir']),\n",
       " \"Ulee's Gold\": ([], []),\n",
       " 'Under Wraps': ([], []),\n",
       " 'Best Men': (['I'], ['me', 'her']),\n",
       " 'Seven Years in Tibet': (['he'], ['You']),\n",
       " 'American Dragons': (['you', 'you'], ['me', 'her', 'him', 'us', 'me']),\n",
       " 'Wrongfully Accused': (['we'], ['myself', 'him', 'father', 'father', 'me']),\n",
       " \"Tess of the D'Urbervilles\": (['sin'], ['him', 'me']),\n",
       " 'Brave New World': (['Marx', 'they'], ['liar', 'luck', 'themselves', 'me']),\n",
       " 'Dead Man on Campus': ([], []),\n",
       " 'Holy Man': (['I'], ['department', 'ya']),\n",
       " 'Strangeland': (['we', 'I', 'I'],\n",
       "  ['her', 'music', 'him', 'him', 'you', 'it']),\n",
       " 'The Magic Sword: Quest for Camelot': (['chicken'], []),\n",
       " 'Thursday': ([], ['you', 'me', 'you', 'man', 'time', 'you']),\n",
       " 'Crazy in Alabama': (['Dove', 'they', 'they', 'them', 'you', 'you'],\n",
       "  ['me',\n",
       "   'us',\n",
       "   'some',\n",
       "   'us',\n",
       "   'somebody',\n",
       "   'her',\n",
       "   'rat',\n",
       "   'that',\n",
       "   'person',\n",
       "   'it']),\n",
       " 'The Secret Laughter of Women': ([], ['brains']),\n",
       " '10 Things I Hate About You': ([], []),\n",
       " 'Being John Malkovich': (['we'], ['Maxine', 'wife', 'her', 'you', 'Maxine']),\n",
       " 'Deuce Bigalow: Male Gigolo': (['I', 'I'], ['counsellor', 'you', 'you']),\n",
       " \"Don't Look Under the Bed\": ([], []),\n",
       " 'Error in Judgment': ([], ['wife', 'wife', 'wife']),\n",
       " 'Healing the Wounded Heart': (['I', 'who'], ['yourself', 'her', 'friend']),\n",
       " 'Long Strange Trip, or The Writer, the Naked Girl, and the Guy with a Hole in His Head': (['that'],\n",
       "  ['him', 'him']),\n",
       " 'Moving Targets': (['I'],\n",
       "  ['me', 'you', 'him', 'him', 'me', 'None', 'Arrest', 'me', 'brother']),\n",
       " 'The Best Man': ([], []),\n",
       " 'The Wood': (['I'], ['you', 'him']),\n",
       " 'Two Thousand and None': ([], ['anybody']),\n",
       " 'Murder at the Cannes Film Festival': ([], []),\n",
       " 'State and Main': (['You'], ['horse']),\n",
       " 'The Coconut Revolution': ([], ['orders', 'villagers']),\n",
       " 'The Sight': (['He'], ['her', 'them', 'you', 'you']),\n",
       " 'The Photographer': ([], []),\n",
       " 'Timecode': ([], ['herself', 'Lincoln', 'us', 'yourself', 'man']),\n",
       " 'What Women Want': ([], []),\n",
       " 'Whatever It Takes': ([], ['man', 'Cosmo']),\n",
       " 'Crocodile Dundee in Los Angeles': (['I'],\n",
       "  ['boar', 'crocodiles', 'em', 'anything', 'lion']),\n",
       " 'Public Eminem #1': ([], []),\n",
       " 'Last Orders': ([], []),\n",
       " 'All Over the Guy': (['I', 'silence'],\n",
       "  ['you', 'you', 'Rachel', 'guys', 'you', 'it']),\n",
       " 'American Outlaws': (['I', 'you', 'he', 'I', 'I', \"here'll\", 'I', 'I', 'I'],\n",
       "  ['brothers',\n",
       "   'son',\n",
       "   'anybody',\n",
       "   'number',\n",
       "   'Cole',\n",
       "   'Cole',\n",
       "   'Pinkertons',\n",
       "   'men',\n",
       "   'detectives',\n",
       "   'em',\n",
       "   'you',\n",
       "   'I',\n",
       "   'man',\n",
       "   'you',\n",
       "   'JesseJames',\n",
       "   'you']),\n",
       " 'Brigham City': ([], ['you']),\n",
       " 'Green Dragon': ([], []),\n",
       " 'Hearts in Atlantis': ([], []),\n",
       " 'Kingdom Come': (['I', 'it'],\n",
       "  ['us', 'us', 'nobody', 'us', 'you', 'you', 'him', 'Lucille']),\n",
       " 'The Center of the World': ([], []),\n",
       " 'The Magic Kingdom and the Magic of Television': ([], []),\n",
       " 'Things Behind the Sun': (['I', 'I'], ['will', 'you', 'man']),\n",
       " \"The Caveman's Valentine\": (['he', 'He', 'me', 'He', 'Lulu', 'me'],\n",
       "  ['me',\n",
       "   'him',\n",
       "   'me',\n",
       "   'me',\n",
       "   'me',\n",
       "   'you',\n",
       "   'you',\n",
       "   'you',\n",
       "   'us',\n",
       "   'cop',\n",
       "   'him',\n",
       "   'father']),\n",
       " 'Who Is Cletis Tout?': (['You', 'I', 'I', 'Virago', 'You', 'you'],\n",
       "  ['you',\n",
       "   'him',\n",
       "   'him',\n",
       "   'Micah',\n",
       "   'associates',\n",
       "   'me',\n",
       "   'them',\n",
       "   'shit',\n",
       "   'This',\n",
       "   'you',\n",
       "   'you',\n",
       "   'somebody',\n",
       "   'me',\n",
       "   'them',\n",
       "   'them',\n",
       "   'you']),\n",
       " 'The Fast and the Furious': ([], []),\n",
       " 'The Others': (['you', 'light', 't'],\n",
       "  ['anyone', 'me', 'children', 'them', 'Children']),\n",
       " 'Slackers': (['I', 'me'], ['Who']),\n",
       " 'The Future Is Not What It Used to Be': ([], []),\n",
       " 'Swept Away': (['I'], ['bitch', 'bitch', 'myself']),\n",
       " 'The Importance of Being Earnest': ([], []),\n",
       " \"Charlie Brown's Christmas Tales\": ([], []),\n",
       " 'Home Alone 4': ([], ['him', 'Uuh']),\n",
       " 'Jackass: The Movie': ([], ['myself']),\n",
       " 'Panic Room': (['You', 'I', \"they'II\", 'I'],\n",
       "  ['phones',\n",
       "   'them',\n",
       "   'him',\n",
       "   'Lie',\n",
       "   'motherfucker',\n",
       "   'you',\n",
       "   'both',\n",
       "   'her',\n",
       "   'her',\n",
       "   'us',\n",
       "   'shit',\n",
       "   'She',\n",
       "   'police']),\n",
       " 'Run Ronnie Run': (['What', \"'s\"], ['me', 'son', 'kid', 'man']),\n",
       " 'xXx': (['you', 'cigarette', 'it', 'It', 'cigarette'],\n",
       "  ['bottle', 'you', 'number', 'mayhem', 'everybody', 'millions', 'cop']),\n",
       " 'Cowards Bend the Knee': ([], []),\n",
       " 'Mambo Italiano': (['food', 'parents', 'They'],\n",
       "  ['you', 'them', 'them', 'me', 'me', 'me']),\n",
       " 'The Poet': ([], ['me', 'Ching', 'myself']),\n",
       " 'Traces of a Dragon': (['they', 'they'], ['her', 'yourself', 'them']),\n",
       " '12/09/01': ([], []),\n",
       " 'Acid Dreams': (['I', 'they'], ['that', 'Me', 'It', 'rdete']),\n",
       " 'Eroica': ([], []),\n",
       " 'Absolon': (['He', 'I', 'you', 'you'],\n",
       "  ['anyone', 'us', 'me', 'girl', 'him', 'cure']),\n",
       " 'A Painted House': (['I', 'I'], ['nobody', 'boy', 'him', 'mother', 'hours']),\n",
       " 'Battlestar Galactica: The Lowdown': ([], []),\n",
       " 'Good Boy!': ([], []),\n",
       " 'I Love Your Work': ([], ['you', 'Yehud']),\n",
       " 'I Want a Dog for Christmas, Charlie Brown': ([], []),\n",
       " 'Linkin Park: Live in Texas': ([], []),\n",
       " 'Open Water': (['I'], ['fuckers']),\n",
       " 'The Thorn Birds: Old Friends New Stories': ([], []),\n",
       " 'Freddy vs. Jason': (['I', 'dad', 'him'], ['choices', 'him', 'mom', 'her']),\n",
       " 'Wrong Turn': ([], []),\n",
       " 'The Foreigner': (['he', 'you'],\n",
       "  ['me', 'me', 'legend', 'me', 'me', 'me', 'me', 'husband']),\n",
       " 'Jimmywork': ([], []),\n",
       " 'The Blue Butterfly': (['it'], ['me']),\n",
       " 'The Purifiers': ([], ['you']),\n",
       " 'Wimbledon': (['I'], ['father', 'friends', 'him', 'me']),\n",
       " 'Meet the Fockers': ([], ['me']),\n",
       " 'Napoleon Dynamite': ([], []),\n",
       " 'Song of the Dead': ([], ['me']),\n",
       " 'Suburban Madness': (['things', 'you'], ['you']),\n",
       " 'Weezer: Video Capture Device - Treasures from the Vault 1991-2002': (['I',\n",
       "   'he',\n",
       "   'you',\n",
       "   'you'],\n",
       "  ['you', 'women', 'people', 'me', 'whom', 'me', 'me', 'me']),\n",
       " 'Single Santa Seeks Mrs. Claus': ([], []),\n",
       " 'Out of Reach': (['they', 'I'], ['who', 'l', 'you']),\n",
       " 'Audition': (['I', 'it'], ['you', 'you', 'Cause']),\n",
       " 'Memory for Max, Claire, Ida and Company': (['I', 'I', 'I', 'I'],\n",
       "  ['you', 'him', 'him', 'somebody']),\n",
       " 'Darshan: The Embrace': (['we'], ['them']),\n",
       " 'Just Friends': ([], ['you', 'man', 'you']),\n",
       " 'Off Screen': ([], []),\n",
       " 'Karol: A Man Who Became Pope': (['them', 'They', 'that'],\n",
       "  ['me', 'souls', 'I', 'anyone', 'you', 'Nowak']),\n",
       " 'The Werewolf Cult Chronicles: Vietnam 1969': ([], []),\n",
       " 'On a Clear Day': ([], []),\n",
       " \"Don't Come Knocking\": ([], []),\n",
       " 'Beyond the Gates': (['they', 'him', 'they', 'bullets'],\n",
       "  ['anyone', 'soldiers', 'people', 'us', 'pain', 'I']),\n",
       " 'Beauty Shop': ([], ['me']),\n",
       " 'Brotherhood': (['he'], ['it']),\n",
       " 'Drop Dead Sexy': (['Some', 'spider', 'bite', 'I', 'he', 'he', 'I'],\n",
       "  ['you', 'dog', 'you', 'us', 'her', 'anyone', 'you', 'you', 'both', 'both']),\n",
       " 'Must Love Dogs': (['me'], ['you']),\n",
       " 'Sorry, Haters': (['it'], ['themselves', 'me', 'you', 'themselves', 'me']),\n",
       " 'Stuart Little 3: Call of the Wild': ([], ['me']),\n",
       " 'The Hunt for the BTK Killer': (['I', 'I', 'I', 'I', 'them'],\n",
       "  ['dog', 'people']),\n",
       " 'The Island': (['they'], ['you', 'us', 'us', 'reason', 'me', 'her']),\n",
       " 'The Notorious Bettie Page': (['you'], ['me']),\n",
       " 'Through the Fire': ([], []),\n",
       " 'Waterparks 2005': ([], ['Who']),\n",
       " 'Lords of Dogtown': ([], ['him', 'motherfucker']),\n",
       " 'The Skeleton Key': (['her', 'I'],\n",
       "  ['himself', 'him', 'me', 'you', 'me', 'you']),\n",
       " 'The Cave': ([], []),\n",
       " 'Slipstream': (['I', 'I'], ['Call', 'ambulance', 'people']),\n",
       " 'Green Street Hooligans': (['you', 'I', 'We'],\n",
       "  ['soldiers', 'me', 'Kill', 'brother', 'Tommy', 'son']),\n",
       " 'Solar Attack': ([], []),\n",
       " 'Trailer Park Boys: The Movie': ([], []),\n",
       " 'Grimm Love': ([], []),\n",
       " 'I Want to Be a Pilot': ([], []),\n",
       " 'Exclusive Interview with Melissa Sue Anderson': ([], []),\n",
       " 'New York Waiting': ([], []),\n",
       " 'Johnny Was': (['I', 'I', 'fuckin', 'we'],\n",
       "  ['him', 'ya', 'people', 'you', 'customer']),\n",
       " 'Secrets of the Deep': (['They'], ['pod', 'it']),\n",
       " \"Sharpe's Challenge\": (['we', 'I', 'patience', 'which'],\n",
       "  ['daughter', 'him', 'him', 'us', 'you', 'you', 'soldiers', 'Madame']),\n",
       " 'Akeelah and the Bee': ([], []),\n",
       " 'Black Snake Moan': (['you'], ['him', 'somebody', 'man', 'man']),\n",
       " 'Creatures from the Pink Lagoon': ([], ['you']),\n",
       " 'Day for Night: Whitney Biennial 2006': (['you', 'I', 'I'],\n",
       "  ['anyone', 'whom', 'All']),\n",
       " 'Debbie Rochon Confidential: My Years in Tromaville Exposed!': (['We',\n",
       "   'I',\n",
       "   'Mom'],\n",
       "  ['him', 'child', 'him', 'him', 'baby', 'me', 'ourselves']),\n",
       " 'Factory Girl': (['folks', 'He'], ['me', 'What', 'me', 'you']),\n",
       " \"Getting Into Grey's Anatomy\": ([], []),\n",
       " 'Hatchet': (['I', 'you', 'I', 'we', 'he'],\n",
       "  ['you', 'him', 'you', 'us', 'all', 'him', 'all', 'me']),\n",
       " 'Jeff Dunham: Arguing with Myself': (['Someone'], ['me']),\n",
       " 'Rampage: The Hillside Strangler Murders': (['you', 'He', 'Who', 'Woman'],\n",
       "  ['girls', 'me', 'you', 'me', 'sister', 'anybody', 'me']),\n",
       " 'Relentless Enemies': (['lions'], ['newborn', 'hyenas', 'them']),\n",
       " 'The Godfather: Money, Power, Respect': ([], []),\n",
       " 'The Lost': (['me', 'Ray', 'We', 'I', 'I', 'I', 'I', 'you'],\n",
       "  ['me', 'you', 'us', 'people', 'ass', 'you', 'me', 'you', 'horses']),\n",
       " 'UFC: Fight Night 7': (['Snakebacks', 'Vandals'], ['Vandal']),\n",
       " 'Wicked Little Things': (['they', 'I', 'I', 'They'],\n",
       "  ['us', 'all', 'him', 'em', 'you', 'all', 'him']),\n",
       " 'Boarding Gate': (['I'], []),\n",
       " \"A West Texas Children's Story\": (['you'], ['people', 'you']),\n",
       " 'American Loser': ([], ['me', 'me']),\n",
       " 'Boat': ([], []),\n",
       " 'Careless': (['fellows'], ['COUGHING', 'someone', 'yourself']),\n",
       " 'Chris & Don. A Love Story': ([], []),\n",
       " 'High School Musical 2': ([], []),\n",
       " \"I'm Through with White Girls (The Inevitable Undoing of Jay Brooks)\": ([],\n",
       "  ['me', 'man', 'you']),\n",
       " 'In Search of a Midnight Kiss': (['I'], ['it', 'you']),\n",
       " 'La cucina': ([], []),\n",
       " 'Nancy Drew': (['you', 'you'], ['us', 'me', 'me', 'Dehlia', 'me', 'Dehlia']),\n",
       " \"Shoot 'Em Up\": (['me', \"'s\", 'I', 'I'],\n",
       "  ['woman',\n",
       "   'you',\n",
       "   'it',\n",
       "   'mother',\n",
       "   'baby',\n",
       "   'man',\n",
       "   'you',\n",
       "   'people',\n",
       "   'him',\n",
       "   'Rutledge']),\n",
       " 'The Babysitters': ([], []),\n",
       " 'The Beast': ([], []),\n",
       " 'The Final Curtain': (['you', 'I'],\n",
       "  ['me', 'Loretta', 'life', 'girl', 'anyone', 'us']),\n",
       " 'Vacancy': (['Anything'], ['us', 'me', 'us', 'people', 'me', 'us']),\n",
       " 'September Dawn': (['You', 'He', 'He', 'He', 'I'],\n",
       "  ['Indians',\n",
       "   'Young',\n",
       "   'apostles',\n",
       "   'her',\n",
       "   'him',\n",
       "   'her',\n",
       "   'her',\n",
       "   'l',\n",
       "   'her',\n",
       "   'women',\n",
       "   'her']),\n",
       " 'Taken': (['I'], ['luck', 'you']),\n",
       " 'Daylight Robbery': (['I'], ['you']),\n",
       " 'Franklyn': (['I'], ['man', 'myself', 'us', 'both']),\n",
       " 'Ian Hislop Goes Off the Rails': ([], []),\n",
       " 'Incendiary': ([], ['mother', 'that']),\n",
       " 'The Big Bang Machine': ([], []),\n",
       " 'The Other Boleyn Girl': ([], []),\n",
       " 'Baghead': ([], ['me', 'you']),\n",
       " 'Bald': (['I', 'I', 'fuckin', 'I', 'I'],\n",
       "  ['him',\n",
       "   'man',\n",
       "   'you',\n",
       "   'him',\n",
       "   'me',\n",
       "   'slits',\n",
       "   'him',\n",
       "   'us',\n",
       "   'Help',\n",
       "   'kid',\n",
       "   'kid']),\n",
       " 'Deep Winter': (['brother'], ['me', 'me']),\n",
       " 'Delgo': ([], []),\n",
       " 'Explicit Ills': ([], []),\n",
       " 'Good Dick': ([], []),\n",
       " 'Lakeview Terrace': ([], ['them', 'us']),\n",
       " 'Living Hell': (['we', 'I'], ['nucleus', 'nucleus', 'word']),\n",
       " 'Pistol Whipped': (['you', 'we', 'me', 'you', 'I', 'you', 'I'],\n",
       "  ['you',\n",
       "   'asset',\n",
       "   'people',\n",
       "   'you',\n",
       "   'them',\n",
       "   'him',\n",
       "   'priest',\n",
       "   'priest',\n",
       "   'motherfucker',\n",
       "   'mama',\n",
       "   'brother',\n",
       "   'daddy',\n",
       "   'partner',\n",
       "   'you',\n",
       "   'you']),\n",
       " 'True Confessions of a Hollywood Starlet': (['you'], ['me', 'yourself']),\n",
       " 'The X Files: I Want to Believe': ([], []),\n",
       " 'Igor': (['kind', 'you', 'It', 'him', 'him', 'I', 'it'],\n",
       "  ['you', 'anyone', 'me', 'fly', 'me', 'me']),\n",
       " 'My Zinc Bed': ([], ['bastard']),\n",
       " 'The Band': ([], []),\n",
       " 'Grown Up Movie Star': (['you', 'fuckin', 'you'],\n",
       "  ['me', 'Buzz', 'all', 'shit', 'him', 'you', 'him']),\n",
       " 'Hostile Makeover': ([], []),\n",
       " \"The Devil's Ground\": (['He', 'you', 'we', 'we'],\n",
       "  ['you', 'one', 'them', 'me', 'me', 'them', 'Tobey']),\n",
       " 'The Perfect Game': ([], ['me', 'giants']),\n",
       " 'The DeVilles': ([], []),\n",
       " 'The Secret of Kells': ([], []),\n",
       " 'Karma, Confessions and Holi': (['I'], ['him']),\n",
       " 'Sinner': ([], []),\n",
       " '40': (['you', 'I'], ['me', 'him', 'cripple']),\n",
       " 'Doghouse': ([], ['her']),\n",
       " 'Fireman Sam: The Great Fire of Pontypandy': ([], []),\n",
       " 'My Last Five Girlfriends': ([], []),\n",
       " 'Skellig: The Owl Man': (['I'], ['it']),\n",
       " 'The Cry of the Owl': (['I'],\n",
       "  ['me', 'wife', 'me', 'her', 'wife', 'him', 'you']),\n",
       " '12 Men of Christmas': (['you'], ['me']),\n",
       " 'Ben 10: Alien Swarm': ([], []),\n",
       " 'Big River Man': (['which'], ['animal', 'us', 'him']),\n",
       " 'Chain Letter': (['Dahmer'], ['us', 'people']),\n",
       " 'Command Performance': (['you', 'They', 'They'],\n",
       "  ['brother', 'people', 'hostages', 'me', 'us']),\n",
       " 'Double Identity': (['I'],\n",
       "  ['him', 'you', 'you', 'him', 'her', 'cartel', 'you']),\n",
       " 'Endless Bummer': (['I', 'I', 'I', 'fuckin', 'I', 'He', 'fuckin', 'Whatever'],\n",
       "  ['me',\n",
       "   'him',\n",
       "   'him',\n",
       "   'him',\n",
       "   'him',\n",
       "   'guy',\n",
       "   'you',\n",
       "   'him',\n",
       "   'anyone',\n",
       "   'you',\n",
       "   'you',\n",
       "   'myself',\n",
       "   'me',\n",
       "   'what',\n",
       "   'you']),\n",
       " 'Fighting': (['He', 'I'], ['me', 'man', 'someone', 'somebody', 'you', 'Lot']),\n",
       " 'Handsome Harry': ([], []),\n",
       " 'Hole in One': (['I'], ['you', 'you', 'you', 'you']),\n",
       " 'Homecoming': ([], ['me', 'Shelby']),\n",
       " 'Invictus': ([], ['us', 'him']),\n",
       " 'Land of the Lost': ([], ['him']),\n",
       " 'Madea Goes to Jail': ([], []),\n",
       " 'Mercy': ([], []),\n",
       " 'Merry Madagascar': ([], []),\n",
       " 'Outrage': ([], []),\n",
       " \"Someone's Knocking at the Door\": ([], []),\n",
       " 'The Big Gay Musical': ([], ['Abel']),\n",
       " 'Wrong Turn at Tahoe': (['you', 'you', 'stress', 'you', 'you'],\n",
       "  ['me', 'Tahoe', 'you', 'me', 'me', 'you', 'me']),\n",
       " 'Youth in Revolt': ([], []),\n",
       " 'Underworld: Rise of the Lycans': (['you', 'He', 'I'],\n",
       "  ['kind', 'lord', 'them', 'her', 'you', 'All']),\n",
       " 'Children of God': ([], []),\n",
       " \"A Beginner's Guide to Endings\": (['you', 'him', 'me'], ['Juicy', 'you']),\n",
       " 'Kites': (['You', 'I'], ['him', 'me', 'i', 'him']),\n",
       " 'On the Way to a Smile: Final Fantasy VII': ([], []),\n",
       " 'The Big I Am': ([], ['you', 'You']),\n",
       " 'The Reeds': (['you'], ['it', 'me']),\n",
       " 'Barbie in a Mermaid Tale': ([], []),\n",
       " 'Beneath the Dark': ([], []),\n",
       " 'Darkening Sky': ([], []),\n",
       " 'DC Showcase: Jonah Hex': ([], []),\n",
       " 'Fire and Ice': ([], ['me', 'boy']),\n",
       " 'For Colored Girls': (['I'], ['you']),\n",
       " 'Grant Morrison: Talking with Gods': ([], ['family', 'you']),\n",
       " 'Howl': ([], []),\n",
       " 'Mob Rules': (['I', 'Guns'], ['me', 'bitch', 'you', 'people']),\n",
       " 'North & South': ([], []),\n",
       " 'Role/Play': ([], []),\n",
       " 'Sjaak the World': ([], []),\n",
       " 'The Grace Card': (['children', 'That', 'me'],\n",
       "  ['anybody', 'baby', 'you', 'me', 'me', 'me', 'MAC_GROANS', 'partner']),\n",
       " 'The Lazarus Papers': (['I', 'I', 'I', 'I'], ['you', 'you', 'you', 'you']),\n",
       " 'The Tempest': (['I'], ['witch', 'daughter']),\n",
       " 'TRON: Legacy': ([], []),\n",
       " 'Without a Father': (['smokin'], ['kill', 'me']),\n",
       " 'Red: Werewolf Hunter': (['you',\n",
       "   'You',\n",
       "   'we',\n",
       "   'move',\n",
       "   'me',\n",
       "   'them',\n",
       "   'you',\n",
       "   'she',\n",
       "   'I',\n",
       "   'You'],\n",
       "  ['you',\n",
       "   'GROANING',\n",
       "   'it',\n",
       "   'werewolf',\n",
       "   'weapon',\n",
       "   'wolf',\n",
       "   'you',\n",
       "   'human',\n",
       "   'test',\n",
       "   'me',\n",
       "   'me',\n",
       "   'me',\n",
       "   'me',\n",
       "   'him',\n",
       "   'me',\n",
       "   'him',\n",
       "   'him',\n",
       "   'me',\n",
       "   'him',\n",
       "   'I',\n",
       "   'you',\n",
       "   'you',\n",
       "   'Gabriel',\n",
       "   'this',\n",
       "   'me',\n",
       "   'you',\n",
       "   'you',\n",
       "   'all',\n",
       "   'PANTING']),\n",
       " \"Assassin's Creed: Embers\": ([], []),\n",
       " 'Money as Debt III: Evolution Beyond Money': ([], []),\n",
       " 'When Pigs Have Wings': ([], ['it', 'me']),\n",
       " 'Bangkok Revenge': (['You', 'you', 'you'],\n",
       "  ['me', 'Shh', 'him', 'him', 'them', 'Jessy', 'Assholes', 'pain']),\n",
       " 'Tinker Tailor Soldier Spy': (['Dolphin'], ['me', 'me']),\n",
       " 'Black Gold': (['I', 'I', 'he', 'I'], ['you', 'you', 'us', 'me']),\n",
       " 'Do We Really Need the Moon?': ([], []),\n",
       " 'Hunky Dory': ([], []),\n",
       " 'One Life': ([], []),\n",
       " 'The Veteran': (['me'], ['him']),\n",
       " 'Vampires: Brighter in Darkness': (['Lilith', 'I'], ['me', 'them', 'you']),\n",
       " 'Wild Bill': ([], ['us']),\n",
       " 'Killing Bono': (['I', 'fuckin', 'it'],\n",
       "  ['you', 'me', 'exhales', 'you', 'him', 'you']),\n",
       " 'Ironclad': (['you', 'you', 'You', 'you', 'I'],\n",
       "  ['woman', 'me', 'women', 'women']),\n",
       " 'The Resident': ([], ['you']),\n",
       " 'Club': ([], []),\n",
       " 'Evil Bong 3: The Wrath of Bong': (['we'],\n",
       "  ['bong', 'bong', 'me', 'him', 'imposter']),\n",
       " 'Extremely Loud & Incredibly Close': (['I'], ['son', 'you', 'OSKAR']),\n",
       " 'For Lovers Only': ([], []),\n",
       " 'Kill the Irishman': (['I', 'fuckin', 'You'],\n",
       "  ['Greene', 'Greene', 'him', 'them', 'you', 'Greene', 'you']),\n",
       " 'Lie Detector': ([], []),\n",
       " 'Spider-Man XXX: A Porn Parody': ([], []),\n",
       " 'Venom': (['what',\n",
       "   'I',\n",
       "   'I',\n",
       "   'you',\n",
       "   'they',\n",
       "   'you',\n",
       "   'I',\n",
       "   'you',\n",
       "   'They',\n",
       "   'I',\n",
       "   'You'],\n",
       "  ['me',\n",
       "   'you',\n",
       "   'you',\n",
       "   'him',\n",
       "   'him',\n",
       "   'me',\n",
       "   'him',\n",
       "   'him',\n",
       "   'us',\n",
       "   'you',\n",
       "   'you',\n",
       "   'me']),\n",
       " 'Metamorphosis': (['you'], ['cells', 'yourself']),\n",
       " 'Black & White & Sex': ([], []),\n",
       " 'A Killer Among Us': (['I',\n",
       "   'He',\n",
       "   'daughter',\n",
       "   'you',\n",
       "   'I',\n",
       "   'You',\n",
       "   'they',\n",
       "   'They'],\n",
       "  ['you', 'you', 'mom', 'mom', 'somebody', 'mother', 'someone', 'her']),\n",
       " 'Cyberstalker': (['he', 'I'], ['victim', 'myself']),\n",
       " 'Dawn Rider': (['I', 'I'], ['everyone', 'everyone', 'you']),\n",
       " 'Lunarcy!': ([], []),\n",
       " 'Margarita': ([], ['me', 'none']),\n",
       " 'Mon Ami': (['That', 'you', 'you', 'it', 'it', 'This', 'me'],\n",
       "  ['you',\n",
       "   'you',\n",
       "   'her',\n",
       "   'Screw',\n",
       "   'you',\n",
       "   'her',\n",
       "   'her',\n",
       "   'her',\n",
       "   'squirrel',\n",
       "   'wife',\n",
       "   'you',\n",
       "   'Cal',\n",
       "   'him',\n",
       "   'him',\n",
       "   'Cal']),\n",
       " 'Please Kill Mr. Know It All': (['something',\n",
       "   'This',\n",
       "   'i',\n",
       "   'you',\n",
       "   \"'s\",\n",
       "   'i',\n",
       "   'we'],\n",
       "  ['him',\n",
       "   'somebody',\n",
       "   'you',\n",
       "   'him',\n",
       "   'He',\n",
       "   'him',\n",
       "   'him',\n",
       "   'you',\n",
       "   'you',\n",
       "   'Payback',\n",
       "   'him',\n",
       "   'you',\n",
       "   'Know',\n",
       "   'It',\n",
       "   'me',\n",
       "   'me',\n",
       "   'me',\n",
       "   'me',\n",
       "   'you',\n",
       "   'me',\n",
       "   'you',\n",
       "   'me',\n",
       "   'Know',\n",
       "   'me',\n",
       "   'me',\n",
       "   'me',\n",
       "   'me',\n",
       "   'me',\n",
       "   'me',\n",
       "   'me',\n",
       "   'you']),\n",
       " 'The Final Member': ([], ['animal']),\n",
       " 'Fugitive at 17': (['I'], ['Road', 'you', 'me']),\n",
       " 'Night of the Living Dead: Resurrection': (['Mom', 'you', 'you'],\n",
       "  ['you', 'me', 'kids']),\n",
       " 'Swimmer': ([], []),\n",
       " 'Up There': ([], ['him', 'Kill']),\n",
       " 'Byzantium': (['I', 'you'], ['him', 'I']),\n",
       " '23 Minutes to Sunrise': (['fuckin', 'I'], ['him', 'you']),\n",
       " 'Best Man Down': ([\"Pop'll\"], ['you']),\n",
       " 'Comedy Central Roast of Roseanne': ([], ['her', 'applause']),\n",
       " 'Do You Like My Basement': (['I', 'I'],\n",
       "  ['me', 'me', 'ass', 'you', 'fuck', 'you', 'you']),\n",
       " 'Game Change': (['right'], []),\n",
       " 'Get a Life!': ([], []),\n",
       " 'House: Swan Song': ([], []),\n",
       " 'Lego Star Wars: The Empire Strikes Out': ([], []),\n",
       " 'Reincarnated': ([], []),\n",
       " 'Sassy Pants': ([], ['myself', 'me', 'mother']),\n",
       " 'Saturday Morning Mystery': ([], ['you', 'you', 'kids', 'me', 'me']),\n",
       " \"That's My Boy\": (['I'], ['you', 'you', 'you', 'you']),\n",
       " 'The Brass Teapot': (['people', 'we', 'I', 'I'],\n",
       "  ['horse', 'Chuckles', 'themselves', 'him', 'you', 'anyone']),\n",
       " 'The Haunting of Whaley House': (['fucks'], ['Craig']),\n",
       " 'The Kitchen': ([], ['all']),\n",
       " 'The Undershepherd': (['father'], ['me', 'me', 'wife']),\n",
       " \"Tim and Eric's Billion Dollar Movie\": (['I'], ['you', 'you']),\n",
       " \"Doin' It in the Park: Pick-Up Basketball, NYC\": ([], ['us', 'him', 'me']),\n",
       " 'Aim High in Creation': ([], ['her']),\n",
       " 'Evil Feed': ([], []),\n",
       " 'The Staircase II: The Last Chance': (['father'],\n",
       "  ['them', 'her', 'women', 'Kathleen']),\n",
       " 'The Mercury Conspiracy': (['you', 'I', 'fuck', 'they'],\n",
       "  ['them', 'them', 'Thomas', 'Thomas']),\n",
       " 'Twilight in Volterra': ([], []),\n",
       " 'Antarctica: A Year on Ice': ([], []),\n",
       " 'Waar': (['I', 'Fahmeeda', 'he', 'you'],\n",
       "  ['me', 'family', 'family', 'him', 'you']),\n",
       " 'Being Poirot': ([], []),\n",
       " 'Bill Bailey: Qualmpeddler': ([], []),\n",
       " 'Isaac Newton: The Last Magician': ([], []),\n",
       " 'Outpost 11': (['He'], ['us', 'both']),\n",
       " 'Piercing Brightness': ([], []),\n",
       " \"The Spirit of '45\": ([], ['him']),\n",
       " 'I Give It a Year': ([], []),\n",
       " 'All Is Bright': (['I'], ['you', 'you']),\n",
       " 'Bill Cosby: Far from Finished': ([], []),\n",
       " 'Breakup at a Wedding': (['everyone'], []),\n",
       " 'Dark Circles': ([], []),\n",
       " 'Dark Power': (['I', 'I', 'I'], ['mayor', 'Rudman', 'you']),\n",
       " 'Dracula: The Impaler': ([], ['Levy']),\n",
       " 'Finding Vivian Maier': ([], ['animals']),\n",
       " 'Gameplay': (['you'], ['you', 'you', 'policemen']),\n",
       " 'Geography Club': ([], ['What', 'it', 'it']),\n",
       " 'Getting Go, the Go Doc Project': ([], []),\n",
       " 'Goodbye World': ([], ['it']),\n",
       " 'Grounded: Making the Last of Us': ([], ['me']),\n",
       " 'Grown Ups 2': (['I', 'nitwits'], ['him', 'them', 'you', 'Renaldo']),\n",
       " 'In Lieu of Flowers': ([], []),\n",
       " 'Louder Than Words': ([], []),\n",
       " 'Miss Dial': (['who', 'you', 'you', 'Garden'],\n",
       "  ['anybody', 'anyone', 'dog', 'herself']),\n",
       " 'Palo Alto': (['I', 'I', 'I', 'me'],\n",
       "  ['myself', 'myself', 'bunch', 'you', 'people']),\n",
       " 'Self Storage': ([], []),\n",
       " 'Star Trek: Into Darkness': (['you', 'which', 'you', 'I', 'radiation'],\n",
       "  ['us',\n",
       "   'us',\n",
       "   'people',\n",
       "   'him',\n",
       "   'thing',\n",
       "   'us',\n",
       "   'us',\n",
       "   'me',\n",
       "   'you',\n",
       "   'Captain',\n",
       "   'you',\n",
       "   'crew',\n",
       "   'us']),\n",
       " 'The Hunted': (['we'], ['anything', 'him', 'buck', 'buck', 'buck']),\n",
       " 'The Pardon': (['You', 'you'],\n",
       "  ['policeman', 'me', 'me', 'Galloway', 'honor', 'him', 'Pick']),\n",
       " 'The Signal': ([], ['him']),\n",
       " 'Treachery': ([], []),\n",
       " 'Very Good Girls': ([], []),\n",
       " 'Wish You Well': (['pa'], ['man']),\n",
       " 'Zombie Hunter': (['We', 'you'], ['him', 'me', 'reason', 'bitch']),\n",
       " 'Getaway': (['I', 'you', 'I', 'I', 'I', 'He', 'I', 'He'],\n",
       "  ['him', 'me', 'me', 'her', 'you', 'me', 'her', 'girl', 'us']),\n",
       " 'The Other Shore': (['that'], ['us']),\n",
       " 'Richard The Lionheart': (['I', 'we'], ['you', 'him']),\n",
       " 'Dinosaur Island': (['You'], ['it']),\n",
       " 'The Suicide Theory': (['people', 'I', 'me', 'I', 'us', 'I', 'I', 'I'],\n",
       "  ['themselves',\n",
       "   'themselves',\n",
       "   'people',\n",
       "   'yourself',\n",
       "   'yourself',\n",
       "   'Mummy',\n",
       "   'you',\n",
       "   'me',\n",
       "   'people',\n",
       "   'people',\n",
       "   'you',\n",
       "   'them',\n",
       "   'everybody',\n",
       "   'me',\n",
       "   'everybody',\n",
       "   'yourself']),\n",
       " 'Son of a Gun': (['I'], ['you']),\n",
       " \"A Warden's Ransom\": (['you', 'they', 'you'],\n",
       "  ['girls', 'you', 'both', 'you']),\n",
       " 'Takedown: The DNA of GSP': ([], []),\n",
       " 'Just Eat It: A Food Waste Story': ([], ['pathogens']),\n",
       " 'Love, Rosie': (['You'], ['yourself']),\n",
       " 'Altar': (['Radcliffe'], ['wife']),\n",
       " 'Castles in the Sky': ([], ['you', 'you', 'Calm']),\n",
       " 'Genesis: Together and Apart': ([], []),\n",
       " 'Lilting': (['It'], ['you']),\n",
       " 'Monsters: Dark Continent': ([], ['us']),\n",
       " \"Storyville: Mad Dog - Gaddafi's Secret World\": (['he',\n",
       "   'They',\n",
       "   'you',\n",
       "   'You',\n",
       "   'who',\n",
       "   'Amin',\n",
       "   'they',\n",
       "   'somebody'],\n",
       "  ['you',\n",
       "   'them',\n",
       "   'opponents',\n",
       "   'one',\n",
       "   'you',\n",
       "   'camels',\n",
       "   'Jihad',\n",
       "   'Hundreds',\n",
       "   'them',\n",
       "   'parents',\n",
       "   'child',\n",
       "   'some',\n",
       "   'Those',\n",
       "   'prince',\n",
       "   'king']),\n",
       " 'The Falling': ([], []),\n",
       " 'The Two Faces of January': (['you', 'I'], ['her', 'her', 'me']),\n",
       " 'Exodus: Gods and Kings': (['I'], ['boy', 'you', 'him', 'somebody', 'me']),\n",
       " 'Get on Up': (['We'], ['Brown', 'payola']),\n",
       " 'A Fine Step': (['I'], ['you']),\n",
       " 'Best Day Ever': ([], []),\n",
       " 'Bipolar': (['I', 'you'], ['you', 'you', 'you', 'me', 'you', 'me', 'me']),\n",
       " 'Boy Meets Girl': (['They', 'I', 'fuckin'], ['you', 'people', 'you']),\n",
       " 'By the Gun': (['Nick', 'You'],\n",
       "  ['you',\n",
       "   'family',\n",
       "   'fuck',\n",
       "   'him',\n",
       "   'him',\n",
       "   'him',\n",
       "   'him',\n",
       "   'Tony',\n",
       "   'him',\n",
       "   'you',\n",
       "   'all']),\n",
       " 'Christmas Icetastrophe': (['he', 'he', 'It'], ['me', 'both', 'you']),\n",
       " 'Five Star': ([], ['him', 'him', 'him', 'him']),\n",
       " 'Freezer': (['You',\n",
       "   'You',\n",
       "   'You',\n",
       "   'You',\n",
       "   'he',\n",
       "   'I',\n",
       "   'I',\n",
       "   'You',\n",
       "   'you',\n",
       "   'they',\n",
       "   'They'],\n",
       "  ['money',\n",
       "   'anyone',\n",
       "   'me',\n",
       "   'cop',\n",
       "   'cop',\n",
       "   'cop',\n",
       "   'me',\n",
       "   'cop',\n",
       "   'Sam',\n",
       "   'you',\n",
       "   'anybody',\n",
       "   'me',\n",
       "   'son',\n",
       "   'you',\n",
       "   'myself',\n",
       "   'us',\n",
       "   'us']),\n",
       " 'Grand Auto Theft: L.A.': (['that', 'you', 'We', 'they', 'we', 'guys', 'you'],\n",
       "  ['me', 'buyers', 'Kane', 'Fuck', 'assholes', 'Kane', 'all', 'me']),\n",
       " 'Happy Valley': ([], []),\n",
       " 'Iron Man and Captain America: Heroes United': ([], []),\n",
       " 'Jeff Dunham: All Over the Map': (['I', 'I'], ['them']),\n",
       " 'Marvel 75 Years: From Pulp to Pop!': ([], []),\n",
       " 'Meet the Patels': ([], []),\n",
       " 'Miss Meadows': (['you'], ['me', 'man']),\n",
       " 'Muffin Top: A Love Story': (['I'], []),\n",
       " 'Nick Offerman: American Ham': ([], ['em']),\n",
       " 'Nightingale': ([], []),\n",
       " 'Ninja Apocalypse': (['I'], ['him']),\n",
       " 'Nowhere Girl': ([], []),\n",
       " 'SnakeHead Swamp': (['they', 'God'],\n",
       "  ['them',\n",
       "   'us',\n",
       "   'all',\n",
       "   'thing',\n",
       "   'us',\n",
       "   'mother',\n",
       "   'something',\n",
       "   'all',\n",
       "   'things',\n",
       "   'things',\n",
       "   'rest',\n",
       "   'her']),\n",
       " 'Something Wicked': (['I', 'she', 'you'], ['you', 'Susie', 'me', 'me']),\n",
       " 'The Adventures of RoboRex': ([], []),\n",
       " 'The Bunnyman Massacre': ([], ['me', 'Sighs', 'Coughs']),\n",
       " 'The Great Invisible': ([], []),\n",
       " 'Uncensored Science: Bill Nye Debates Ken Ham': ([], []),\n",
       " 'Video Games: The Movie': (['You', 'you', 'People'], ['boss', 'point', 'I']),\n",
       " 'Whiplash': ([], ['you']),\n",
       " 'Kite': (['I'], ['them', 'slimeball', 'Kratsov']),\n",
       " 'Red Army': ([], ['me']),\n",
       " 'Sucker': ([], []),\n",
       " 'I Am Chris Farley': ([], ['them', 'them']),\n",
       " 'Kept Woman': (['you'],\n",
       "  ['me', 'him', 'Whimpering', 'you', 'Evan', 'him', 'me']),\n",
       " 'Snowtime!': (['Someone'], ['me']),\n",
       " 'Real Murders: An Aurora Teagarden Mystery': (['she', 'them'],\n",
       "  ['Mamie', 'me', 'us', 'Mamie', 'it', 'you', 'you']),\n",
       " 'Yosemite': ([], ['creature']),\n",
       " 'The Colony': (['They'], ['it']),\n",
       " 'The Lobster': (['you', 'you', 'we'],\n",
       "  ['myself',\n",
       "   'herself',\n",
       "   'him',\n",
       "   'her',\n",
       "   'rabbit',\n",
       "   'arse',\n",
       "   'Muffled',\n",
       "   'you',\n",
       "   'LEADER']),\n",
       " 'Fathers & Daughters': ([], []),\n",
       " 'Condemned': (['I'],\n",
       "  ['you', 'Baby', 'me', 'me', 'them', 'everybody', 'I', 'you']),\n",
       " 'The Lion Guard: Return of the Roar': ([], []),\n",
       " 'Being AP': (['wife'], ['me']),\n",
       " \"Britain's Biggest Diamond Heist: The Inside Story\": ([], []),\n",
       " 'MI-5': (['we', 'he', 'them'], ['himself', 'you', 'thing', 'Santo', 'us']),\n",
       " 'Soupcans and Superstars: How Pop Art Changed the World': ([], []),\n",
       " 'The Fear of 13': (['I', 'I', 'I', 'I'],\n",
       "  ['woman', 'Craig', 'woman', 'somebody', 'Jaco', 'I']),\n",
       " 'The Childhood of a Leader': ([], []),\n",
       " 'Dark Places': (['Ben', 'Ben', 'I', 'that', 'They', 'he'],\n",
       "  ['mom',\n",
       "   'people',\n",
       "   'them',\n",
       "   'mom',\n",
       "   'Mom',\n",
       "   'you',\n",
       "   'Girls',\n",
       "   'ladies',\n",
       "   'me',\n",
       "   'form']),\n",
       " '6 Ways to Die': (['you', 'you', 'You', 'you'],\n",
       "  ['Casper', 'him', 'him', 'man', 'me', 'me', 'him']),\n",
       " 'A Deadly Adoption': (['I'], ['her', 'myself', 'Tisdale', 'him']),\n",
       " 'Appetites': (['Daisysobs'], ['me', 'me', 'ya']),\n",
       " 'Ballet of Blood': (['You', 'He', 'I'],\n",
       "  ['me', 'messengers', 'anyone', 'you']),\n",
       " 'Barely Lethal': (['lot', 'he', 'languages', 'you', 'I'],\n",
       "  ['you', 'himself', 'I', 'me', 'someone', 'someone', 'you', 'you']),\n",
       " 'Bastard': (['nature', 'I'], ['yourself', 'us', 'Al', 'me', 'you']),\n",
       " 'Chocolate City': ([], ['me']),\n",
       " 'Dementia': ([], ['me', 'you', 'you', 'her']),\n",
       " 'Freeheld': ([], []),\n",
       " 'Front Cover': ([], ['you']),\n",
       " 'Frozen Fever': ([], []),\n",
       " 'Game of Thrones: A Day in the Life': ([], []),\n",
       " 'Justice League: Gods and Monsters': (['They', 'they', 'they'],\n",
       "  ['you', 'you', 'him', 'you', 'me']),\n",
       " 'Killing Jesus': (['you', 'I', 'blessing', 'You', 'They'],\n",
       "  ['son', 'him', 'him', 'him', 'her', 'her', 'you']),\n",
       " 'Life on the Line': (['it', 'I'], ['him', 'you', 'you', 'lines']),\n",
       " 'The Dog Who Saved Summer': ([], []),\n",
       " 'The Duff': (['you'], ['me', 'myself']),\n",
       " 'The Encounter': (['you', 'You', 'you', 'You'],\n",
       "  ['you', 'what', 'him', 'anybody']),\n",
       " 'The Flintstones & WWE: Stone Age Smackdown': ([], []),\n",
       " 'The Night Before': (['We'], ['her', 'Go', 'Jesus']),\n",
       " 'The Sea of Trees': ([], []),\n",
       " 'The Squeeze': ([], ['shark', 'all', 'you', 'me', 'chuckles', 'you', 'us']),\n",
       " 'The Witness': ([], ['person']),\n",
       " 'Tooken': ([], ['you', 'him', 'you']),\n",
       " 'Uncanny': ([], []),\n",
       " 'Unnatural': ([], []),\n",
       " 'War Pigs': (['that'], ['man']),\n",
       " 'Ladrones': (['I'], ['you', 'them']),\n",
       " 'The Revenant': (['he', 'You', 'He'],\n",
       "  ['her', 'him', 'us', 'all', 'Toussaint', 'son']),\n",
       " 'Maggie': (['You'], ['them']),\n",
       " 'Nick': (['she'], ['him']),\n",
       " 'Comedy Showroom: Ronny Chieng - International Student': ([], []),\n",
       " \"Sadie's Last Days on Earth\": (['You'], ['everyone', 'yourself']),\n",
       " 'Stagecoach: The Texas Jack Story': (['they', 'he', 'you'],\n",
       "  ['him',\n",
       "   'you',\n",
       "   'Nate',\n",
       "   'us',\n",
       "   'us',\n",
       "   'anyone',\n",
       "   'me',\n",
       "   'him',\n",
       "   'him',\n",
       "   'husband',\n",
       "   'him',\n",
       "   'I']),\n",
       " 'Shut In': ([], []),\n",
       " 'Brain on Fire': ([], ['you', 'Stop']),\n",
       " 'Norman': (['This'], ['you', 'me']),\n",
       " 'Sing': ([], []),\n",
       " 'Americano': ([], []),\n",
       " 'Girls for Sale': ([], ['me']),\n",
       " 'I Am Bolt': ([], []),\n",
       " 'Lady Macbeth': ([], ['you']),\n",
       " 'Murder: The Big Bang': (['That'], ['me', 'him']),\n",
       " 'American Fable': (['he', 'He'], ['himself', 'him', 'you']),\n",
       " 'American Wrestler: The Wizard': (['mom', 'they'], ['me', 'me', 'people']),\n",
       " 'AmeriGeddon': ([], ['him']),\n",
       " 'Atomic Shark': (['us'], ['sweetie', 'thing', 'squids', 'thing', 'me']),\n",
       " 'Batman: The Killing Joke': (['you', 'I'], ['me', 'you']),\n",
       " 'Beyond Valkyrie: Dawn of the 4th Reich': (['I', 'we', 'They'],\n",
       "  ['him', 'them', 'Nazis', 'Nazis', 'you']),\n",
       " 'Bull': (['Brandon', 'you', 'you', 'Peters'],\n",
       "  ['Yang', 'anyone', 'Alyssa', 'Yang']),\n",
       " 'Complete Unknown': ([], []),\n",
       " 'Confirmation': (['him'], ['him', 'Bush']),\n",
       " 'Everlasting': (['He'], ['me', 'ya']),\n",
       " 'Forsaken': ([], []),\n",
       " 'Gold': ([], []),\n",
       " 'Holiday Breakup': ([], []),\n",
       " 'Home Invasion': (['they', 'They'],\n",
       "  ['him', 'them', 'pain', 'me', 'you', 'you', 'Chloe']),\n",
       " 'Hulk: Where Monsters Dwell': ([], []),\n",
       " 'Hush': (['things'], ['Erin', 'you']),\n",
       " 'Joey Diaz: Sociably Unacceptable': (['I', 'me'],\n",
       "  ['motherfuckers', 'dog', 'anybody', 'wife']),\n",
       " 'Lego DC Comics Superheroes: Justice League - Gotham City Breakout': (['move',\n",
       "   'move'],\n",
       "  ['It']),\n",
       " 'Little Boxes': ([], []),\n",
       " 'Lucky': ([], ['goose', 'you']),\n",
       " 'Michael Che Matters': (['I'], ['you', 'Beyonce']),\n",
       " \"Mother's Day\": ([], ['it', 'you']),\n",
       " 'Nuts!': ([], []),\n",
       " 'Officer Downe': ([], []),\n",
       " 'Pandemic': (['one', 'they', 'you', 'I', 'fuckin', 'You'],\n",
       "  ['one', 'anything', 'you', 'him', 'you', 'you']),\n",
       " 'Tall Men': (['I'], ['them', 'him']),\n",
       " 'Term Life': (['I', 'I', 'I', 'I'],\n",
       "  ['me',\n",
       "   'me',\n",
       "   'Christ',\n",
       "   'you',\n",
       "   'cop',\n",
       "   'cop',\n",
       "   'Victor',\n",
       "   'you',\n",
       "   'me',\n",
       "   'Go',\n",
       "   'men',\n",
       "   'everybody',\n",
       "   'Keenan',\n",
       "   'me',\n",
       "   'you']),\n",
       " 'The Axe Murders of Villisca': ([], ['em', 'I']),\n",
       " 'The Conduit': ([], ['himself', 'people']),\n",
       " 'The Congressman': (['You'], ['anyone']),\n",
       " 'The River Thief': (['I'], ['me', 'him', 'you']),\n",
       " 'The Suffering': (['you'], ['me', 'Kill']),\n",
       " 'Toni Braxton: Unbreak My Heart': ([], []),\n",
       " 'Ghostbusters: Answer the Call': (['ghosts'],\n",
       "  ['you', 'Erin', 'him', 'shirt']),\n",
       " 'The Great Wall': (['we', 'we', 'We'],\n",
       "  ['you', 'them', 'magnet', 'them', 'them']),\n",
       " 'Breakdown Lane': ([], ['shots']),\n",
       " 'Devil in the Dark': ([], ['deer', 'thanks']),\n",
       " 'Galaxy of Horrors': (['you'], ['her', 'me', 'you']),\n",
       " 'Pilgrimage': (['They', 'they'], ['us', 'us']),\n",
       " 'Another Yeti a Love Story: Life on the Streets': (['mafia', \"'s\", 'you'],\n",
       "  ['luck', 'me', 'em', 'me', 'you']),\n",
       " 'Asylum of Darkness': (['you', 'I', 'you', 'You', 'I'],\n",
       "  ['myself',\n",
       "   'us',\n",
       "   'me',\n",
       "   'me',\n",
       "   'ya',\n",
       "   'somebody',\n",
       "   'Go',\n",
       "   'thing',\n",
       "   'yourself',\n",
       "   'her',\n",
       "   'Dwight',\n",
       "   'me',\n",
       "   'Ellen']),\n",
       " 'Beauty and the Beast': (['we', \"'s\"],\n",
       "  ['Maurice', 'me', 'father', 'beast', 'beast']),\n",
       " 'Check Point': (['they'], ['President']),\n",
       " 'Getting Schooled': (['we', 'we'],\n",
       "  ['me',\n",
       "   'him',\n",
       "   'him',\n",
       "   'me',\n",
       "   'them',\n",
       "   'roker',\n",
       "   'anyone',\n",
       "   'I',\n",
       "   'Rusty',\n",
       "   'something',\n",
       "   'me']),\n",
       " 'Ghost Note': (['I'],\n",
       "  ['everyone',\n",
       "   'NOTE',\n",
       "   'someone',\n",
       "   'yourself',\n",
       "   'That',\n",
       "   'myself',\n",
       "   'myself',\n",
       "   'you']),\n",
       " 'Jim Gaffigan: Cinco': (['They'], ['us', 'animal']),\n",
       " 'Open Marriage': (['guys', 'You'], ['it']),\n",
       " 'Song to Song': ([], []),\n",
       " 'Teen Titans: The Judas Contract': (['You'],\n",
       "  ['him', 'control', 'me', 'you', 'me']),\n",
       " 'Teleios': (['That', 'she', 'I'], ['him', 'us', 'all', 'you', 'you', 'me']),\n",
       " 'The Bigfoot Project': (['I'], ['us', 'yourself', 'myself', 'us']),\n",
       " 'The Black Room': ([], []),\n",
       " 'Vir Das: Abroad Understanding': (['I', 'I'],\n",
       "  ['infidel', 'boy', 'boy', 'him', 'boy', 'boy', 'applause']),\n",
       " 'The Bye Bye Man': ([], ['us', 'me', 'yourself']),\n",
       " 'John Wick: Chapter 2': (['You', 'you', 'me', 'You', 'I'],\n",
       "  ['holder', 'sister', \"D'Antonio\", 'Santino', 'Santino'])}"
      ]
     },
     "execution_count": 124,
     "metadata": {},
     "output_type": "execute_result"
    }
   ],
   "source": [
    "movie_violences"
   ]
  },
  {
   "cell_type": "markdown",
   "metadata": {},
   "source": [
    "That's pretty neat: we can see who tried to kill who, or at least talked about it. A lot of 'I' killing 'you', as we'd imagine. What else can we see?\n",
    "\n",
    "The movie, about time, which is about time travel, funnily enough has:\n",
    "`'About Time': (['I'], ['Hitler'])`"
   ]
  },
  {
   "cell_type": "markdown",
   "metadata": {},
   "source": [
    "## <font color=\"red\">*Exercise 6*</font>\n",
    "\n",
    "<font color=\"red\">In the cells immediately following, parse a (modest) subset of your corpus of interest. How deep are the phrase structure and dependency parse trees nested? How does parse depth relate to perceived sentence complexity? What are five things you can extract from these parses for subsequent analysis? (e.g., nouns collocated in a noun phrase; adjectives that modify a noun; etc.) Capture these sets of things for a focal set of words (e.g., \"Bush\", \"Obama\", \"Trump\"). What do they reveal about the roles that these entities are perceive to play in the social world inscribed by your texts?"
   ]
  },
  {
   "cell_type": "markdown",
   "metadata": {},
   "source": [
    "# Distributional distances\n",
    "\n",
    "If we want to compare different corpora, we need a distance or divergence that compares the two distributions.\n",
    "\n",
    "We will use the: \n",
    "\n",
    "+ Kullback-Leibler (KL) divergence\n",
    "+ $\\chi^2$ divergence\n",
    "+ Kolmogorov-Smirnov (KS) distance\n",
    "+ Wasserstein distance\n",
    "\n",
    "### Kullback-Leibler and $x^2$ divergences ###\n",
    "\n",
    "KL and $\\chi^2$ divergences are members of the broader <a \"href=https://en.wikipedia.org/wiki/F-divergence\" target=\"_blank\">$f$-divergence</a> family, a function of $D_f (P || Q)$ that calculates the difference between two probability distributions P and Q. The KL $f(t)$ is $ t \\text{ log } t $, while the $\\chi^2$ is $t^2-1$. KL comes from information and $\\chi^2$ from measure theory. As such, the KL divergence computes the relative entropy between two distributions--how they differ in bits, while the $\\chi^2$ whether the same statistical inferences can be drawn from them both.  \n",
    "\n",
    "Specifically, given two discrete probability distributions $P$ and $Q$, the Kullback-Leibler divergence from $Q$ to $P$ is defined as:\n",
    "\n",
    "$D_{\\mathrm{KL}}(P\\|Q) = \\sum_i P(i) \\, \\log\\frac{P(i)}{Q(i)}$.\n",
    "\n",
    "The [scipy.stats.entropy()](https://docs.scipy.org/doc/scipy/reference/generated/scipy.stats.entropy.html) function does the calculation for you, which takes in two arrays of probabilities and computes the KL divergence. Note that the KL divergence is in general not commutative, i.e. $D_{\\mathrm{KL}}(P\\|Q) \\neq D_{\\mathrm{KL}}(Q\\|P)$ .\n",
    "\n",
    "Also note that the KL divernce is the sum of elementwise divergences. Scipy provides [scipy.special.kl_div()](https://docs.scipy.org/doc/scipy/reference/generated/scipy.special.kl_div.html#scipy-special-kl-div) which calculates elementwise divergences for you.\n",
    "\n",
    "The $\\chi^2$ Divergence is defined as:\n",
    "\n",
    "$D_{\\mathrm{\\chi^2}}(P\\|Q) = \\sum_i \\left(\\frac{P(i)}{Q(i)}-1\\right)^2$. \n",
    "\n",
    "This is also noncommutative, and the code can be drawn directly from scipy.\n",
    "\n",
    "### Kolmogorov-Smirnov ###\n",
    "\n",
    "The two-sample Kolmogovorov-Smirnov test statistic calculates the distance between the cumulative distribution function of the two distributions to be compared, and, along with the $x^2$ divergence, is among the most common approaches two calculating a distance in statistics. It can be interpreted as a test of whether two distributions are drawn from the same underlying distribution. As with the others, the code is readily available in scipy.\n",
    "\n",
    "### Wasserstein Distance ###\n",
    "\n",
    "When this is computed on a Euclidian metric structure (e.g., numbers of words), this is also known as the earth mover’s distance, because it can be seen as the minimum amount of \"work\" required to transform $P$ into $Q$, where \"work\" is measured as the amount of distribution weight that must be moved, multiplied by the distance it has to be moved.\n",
    "\n",
    "### Computing ###\n",
    "\n",
    "To do this we will need to create the arrays, lets compare the Whitehouse releases with the Kennedy releases. First we have to download them and load them into a DataFrame."
   ]
  },
  {
   "cell_type": "code",
   "execution_count": 123,
   "metadata": {},
   "outputs": [
    {
     "data": {
      "text/html": [
       "<div>\n",
       "<style scoped>\n",
       "    .dataframe tbody tr th:only-of-type {\n",
       "        vertical-align: middle;\n",
       "    }\n",
       "\n",
       "    .dataframe tbody tr th {\n",
       "        vertical-align: top;\n",
       "    }\n",
       "\n",
       "    .dataframe thead th {\n",
       "        text-align: right;\n",
       "    }\n",
       "</style>\n",
       "<table border=\"1\" class=\"dataframe\">\n",
       "  <thead>\n",
       "    <tr style=\"text-align: right;\">\n",
       "      <th></th>\n",
       "      <th>name</th>\n",
       "      <th>text</th>\n",
       "      <th>path</th>\n",
       "      <th>html_url</th>\n",
       "      <th>download_url</th>\n",
       "    </tr>\n",
       "  </thead>\n",
       "  <tbody>\n",
       "    <tr>\n",
       "      <th>0</th>\n",
       "      <td>01Apr2005Kennedy14.txt</td>\n",
       "      <td>FOR IMMEDIATE RELEASE   FOR IMMEDIATE...</td>\n",
       "      <td>raw/Kennedy/01Apr2005Kennedy14.txt</td>\n",
       "      <td>https://github.com/lintool/GrimmerSenatePressR...</td>\n",
       "      <td>https://raw.githubusercontent.com/lintool/Grim...</td>\n",
       "    </tr>\n",
       "    <tr>\n",
       "      <th>1</th>\n",
       "      <td>01Aug2005Kennedy12.txt</td>\n",
       "      <td>FOR IMMEDIATE RELEASE   FOR IMMEDIATE...</td>\n",
       "      <td>raw/Kennedy/01Aug2005Kennedy12.txt</td>\n",
       "      <td>https://github.com/lintool/GrimmerSenatePressR...</td>\n",
       "      <td>https://raw.githubusercontent.com/lintool/Grim...</td>\n",
       "    </tr>\n",
       "    <tr>\n",
       "      <th>2</th>\n",
       "      <td>01Aug2006Kennedy10.txt</td>\n",
       "      <td>FOR IMMEDIATE RELEASE  FOR IMMEDIATE ...</td>\n",
       "      <td>raw/Kennedy/01Aug2006Kennedy10.txt</td>\n",
       "      <td>https://github.com/lintool/GrimmerSenatePressR...</td>\n",
       "      <td>https://raw.githubusercontent.com/lintool/Grim...</td>\n",
       "    </tr>\n",
       "    <tr>\n",
       "      <th>3</th>\n",
       "      <td>01Aug2006Kennedy11.txt</td>\n",
       "      <td>FOR IMMEDIATE RELEASE  FOR IMMEDIATE ...</td>\n",
       "      <td>raw/Kennedy/01Aug2006Kennedy11.txt</td>\n",
       "      <td>https://github.com/lintool/GrimmerSenatePressR...</td>\n",
       "      <td>https://raw.githubusercontent.com/lintool/Grim...</td>\n",
       "    </tr>\n",
       "    <tr>\n",
       "      <th>4</th>\n",
       "      <td>01Aug2006Kennedy12.txt</td>\n",
       "      <td>FOR IMMEDIATE RELEASE  FOR IMMEDIATE ...</td>\n",
       "      <td>raw/Kennedy/01Aug2006Kennedy12.txt</td>\n",
       "      <td>https://github.com/lintool/GrimmerSenatePressR...</td>\n",
       "      <td>https://raw.githubusercontent.com/lintool/Grim...</td>\n",
       "    </tr>\n",
       "  </tbody>\n",
       "</table>\n",
       "</div>"
      ],
      "text/plain": [
       "                     name                                               text  \\\n",
       "0  01Apr2005Kennedy14.txt           FOR IMMEDIATE RELEASE   FOR IMMEDIATE...   \n",
       "1  01Aug2005Kennedy12.txt           FOR IMMEDIATE RELEASE   FOR IMMEDIATE...   \n",
       "2  01Aug2006Kennedy10.txt           FOR IMMEDIATE RELEASE  FOR IMMEDIATE ...   \n",
       "3  01Aug2006Kennedy11.txt           FOR IMMEDIATE RELEASE  FOR IMMEDIATE ...   \n",
       "4  01Aug2006Kennedy12.txt           FOR IMMEDIATE RELEASE  FOR IMMEDIATE ...   \n",
       "\n",
       "                                 path  \\\n",
       "0  raw/Kennedy/01Apr2005Kennedy14.txt   \n",
       "1  raw/Kennedy/01Aug2005Kennedy12.txt   \n",
       "2  raw/Kennedy/01Aug2006Kennedy10.txt   \n",
       "3  raw/Kennedy/01Aug2006Kennedy11.txt   \n",
       "4  raw/Kennedy/01Aug2006Kennedy12.txt   \n",
       "\n",
       "                                            html_url  \\\n",
       "0  https://github.com/lintool/GrimmerSenatePressR...   \n",
       "1  https://github.com/lintool/GrimmerSenatePressR...   \n",
       "2  https://github.com/lintool/GrimmerSenatePressR...   \n",
       "3  https://github.com/lintool/GrimmerSenatePressR...   \n",
       "4  https://github.com/lintool/GrimmerSenatePressR...   \n",
       "\n",
       "                                        download_url  \n",
       "0  https://raw.githubusercontent.com/lintool/Grim...  \n",
       "1  https://raw.githubusercontent.com/lintool/Grim...  \n",
       "2  https://raw.githubusercontent.com/lintool/Grim...  \n",
       "3  https://raw.githubusercontent.com/lintool/Grim...  \n",
       "4  https://raw.githubusercontent.com/lintool/Grim...  "
      ]
     },
     "execution_count": 123,
     "metadata": {},
     "output_type": "execute_result"
    }
   ],
   "source": [
    "kenReleases = getGithubFiles('https://api.github.com/repos/lintool/GrimmerSenatePressReleases/contents/raw/Kennedy', maxFiles = 10)\n",
    "kenReleases[:5]"
   ]
  },
  {
   "cell_type": "markdown",
   "metadata": {},
   "source": [
    "Then we can tokenize, stem and remove stop words, like we did for the Whitehouse press releases"
   ]
  },
  {
   "cell_type": "code",
   "execution_count": 125,
   "metadata": {},
   "outputs": [
    {
     "name": "stderr",
     "output_type": "stream",
     "text": [
      "C:\\Users\\Zacha\\anaconda3\\envs\\testing\\lib\\site-packages\\spacy\\pipeline\\lemmatizer.py:211: UserWarning: [W108] The rule-based lemmatizer did not find POS annotation for one or more tokens. Check that your pipeline includes components that assign token.pos, typically 'tagger'+'attribute_ruler' or 'morphologizer'.\n",
      "  warnings.warn(Warnings.W108)\n"
     ]
    }
   ],
   "source": [
    "kenReleases['tokenized_text'] = kenReleases['text'].apply(lambda x: word_tokenize(x))\n",
    "kenReleases['normalized_tokens'] = kenReleases['tokenized_text'].apply(lambda x: normalizeTokens(x))"
   ]
  },
  {
   "cell_type": "markdown",
   "metadata": {},
   "source": [
    "Now we need to compare the two collection of words, remove those not found in both, and assign the remaining ones indices."
   ]
  },
  {
   "cell_type": "code",
   "execution_count": 126,
   "metadata": {},
   "outputs": [
    {
     "data": {
      "text/plain": [
       "48"
      ]
     },
     "execution_count": 126,
     "metadata": {},
     "output_type": "execute_result"
    }
   ],
   "source": [
    "whWords = set(whReleases['normalized_tokens'].sum())\n",
    "kenWords = set(kenReleases['normalized_tokens'].sum())\n",
    "\n",
    "#Change & to | if you want to keep all words\n",
    "overlapWords = whWords & kenWords\n",
    "\n",
    "overlapWordsDict = {word: index for index, word in enumerate(overlapWords)}\n",
    "overlapWordsDict['student']"
   ]
  },
  {
   "cell_type": "markdown",
   "metadata": {},
   "source": [
    "Now we can count the occurrences of each word in the corpora and create our arrays. Note that we don't have to use numpy arrays as we do here. We could just use a list, but the arrays are faster in numpy so we encourage you to get in the habit of using them."
   ]
  },
  {
   "cell_type": "code",
   "execution_count": 127,
   "metadata": {},
   "outputs": [
    {
     "data": {
      "text/plain": [
       "0.9999999999999999"
      ]
     },
     "execution_count": 127,
     "metadata": {},
     "output_type": "execute_result"
    }
   ],
   "source": [
    "def makeProbsArray(dfColumn, overlapDict):\n",
    "    words = dfColumn.sum()\n",
    "    countList = [0] * len(overlapDict)\n",
    "    for word in words:\n",
    "        try:\n",
    "            countList[overlapDict[word]] += 1\n",
    "        except KeyError:\n",
    "            #The word is not common so we skip it\n",
    "            pass\n",
    "    countArray = np.array(countList)\n",
    "    return countArray / countArray.sum()\n",
    "\n",
    "whProbArray = makeProbsArray(whReleases['normalized_tokens'], overlapWordsDict)\n",
    "kenProbArray = makeProbsArray(kenReleases['normalized_tokens'], overlapWordsDict)\n",
    "kenProbArray.sum()\n",
    "#There is a little bit of a floating point math error\n",
    "#but it's too small to see with print and too small matter here"
   ]
  },
  {
   "cell_type": "markdown",
   "metadata": {},
   "source": [
    "We can now compute the KL divergence. Pay attention to the asymmetry. Use [the Jensen–Shannon divergence](https://en.wikipedia.org/wiki/Jensen%E2%80%93Shannon_divergence), which is the average KL divergence between each distribution and the average of both distributions (i.e., the midpoint), if you want symmetry."
   ]
  },
  {
   "cell_type": "code",
   "execution_count": 128,
   "metadata": {},
   "outputs": [
    {
     "name": "stdout",
     "output_type": "stream",
     "text": [
      "0.6322042838041297\n",
      "0.5810496199946882\n"
     ]
    }
   ],
   "source": [
    "wh_kenDivergence = scipy.stats.entropy(whProbArray, kenProbArray)\n",
    "print (wh_kenDivergence)\n",
    "ken_whDivergence = scipy.stats.entropy(kenProbArray, whProbArray)\n",
    "print (ken_whDivergence)"
   ]
  },
  {
   "cell_type": "markdown",
   "metadata": {},
   "source": [
    "Then, we can do the elementwise calculation and see which words best distinguish the two corpora."
   ]
  },
  {
   "cell_type": "code",
   "execution_count": 129,
   "metadata": {},
   "outputs": [
    {
     "data": {
      "text/html": [
       "<div>\n",
       "<style scoped>\n",
       "    .dataframe tbody tr th:only-of-type {\n",
       "        vertical-align: middle;\n",
       "    }\n",
       "\n",
       "    .dataframe tbody tr th {\n",
       "        vertical-align: top;\n",
       "    }\n",
       "\n",
       "    .dataframe thead th {\n",
       "        text-align: right;\n",
       "    }\n",
       "</style>\n",
       "<table border=\"1\" class=\"dataframe\">\n",
       "  <thead>\n",
       "    <tr style=\"text-align: right;\">\n",
       "      <th></th>\n",
       "      <th>word</th>\n",
       "      <th>elementwise divergence</th>\n",
       "    </tr>\n",
       "  </thead>\n",
       "  <tbody>\n",
       "    <tr>\n",
       "      <th>0</th>\n",
       "      <td>reality</td>\n",
       "      <td>0.000072</td>\n",
       "    </tr>\n",
       "    <tr>\n",
       "      <th>1</th>\n",
       "      <td>plan</td>\n",
       "      <td>0.000028</td>\n",
       "    </tr>\n",
       "    <tr>\n",
       "      <th>2</th>\n",
       "      <td>prepare</td>\n",
       "      <td>0.000829</td>\n",
       "    </tr>\n",
       "    <tr>\n",
       "      <th>3</th>\n",
       "      <td>ill</td>\n",
       "      <td>0.000054</td>\n",
       "    </tr>\n",
       "    <tr>\n",
       "      <th>4</th>\n",
       "      <td>safety</td>\n",
       "      <td>0.001885</td>\n",
       "    </tr>\n",
       "    <tr>\n",
       "      <th>5</th>\n",
       "      <td>recent</td>\n",
       "      <td>0.000163</td>\n",
       "    </tr>\n",
       "    <tr>\n",
       "      <th>6</th>\n",
       "      <td>bring</td>\n",
       "      <td>0.009391</td>\n",
       "    </tr>\n",
       "    <tr>\n",
       "      <th>7</th>\n",
       "      <td>debate</td>\n",
       "      <td>0.000109</td>\n",
       "    </tr>\n",
       "    <tr>\n",
       "      <th>8</th>\n",
       "      <td>political</td>\n",
       "      <td>0.004899</td>\n",
       "    </tr>\n",
       "    <tr>\n",
       "      <th>9</th>\n",
       "      <td>grow</td>\n",
       "      <td>0.000109</td>\n",
       "    </tr>\n",
       "  </tbody>\n",
       "</table>\n",
       "</div>"
      ],
      "text/plain": [
       "        word  elementwise divergence\n",
       "0    reality                0.000072\n",
       "1       plan                0.000028\n",
       "2    prepare                0.000829\n",
       "3        ill                0.000054\n",
       "4     safety                0.001885\n",
       "5     recent                0.000163\n",
       "6      bring                0.009391\n",
       "7     debate                0.000109\n",
       "8  political                0.004899\n",
       "9       grow                0.000109"
      ]
     },
     "execution_count": 129,
     "metadata": {},
     "output_type": "execute_result"
    }
   ],
   "source": [
    "wh_kenDivergence_ew = scipy.special.kl_div(whProbArray, kenProbArray)\n",
    "kl_df = pandas.DataFrame(list(overlapWordsDict.keys()), columns = ['word'], index = list(overlapWordsDict.values()))\n",
    "kl_df = kl_df.sort_index()\n",
    "kl_df['elementwise divergence'] = wh_kenDivergence_ew\n",
    "kl_df[:10]"
   ]
  },
  {
   "cell_type": "code",
   "execution_count": 130,
   "metadata": {},
   "outputs": [
    {
     "data": {
      "text/html": [
       "<div>\n",
       "<style scoped>\n",
       "    .dataframe tbody tr th:only-of-type {\n",
       "        vertical-align: middle;\n",
       "    }\n",
       "\n",
       "    .dataframe tbody tr th {\n",
       "        vertical-align: top;\n",
       "    }\n",
       "\n",
       "    .dataframe thead th {\n",
       "        text-align: right;\n",
       "    }\n",
       "</style>\n",
       "<table border=\"1\" class=\"dataframe\">\n",
       "  <thead>\n",
       "    <tr style=\"text-align: right;\">\n",
       "      <th></th>\n",
       "      <th>word</th>\n",
       "      <th>elementwise divergence</th>\n",
       "    </tr>\n",
       "  </thead>\n",
       "  <tbody>\n",
       "    <tr>\n",
       "      <th>43</th>\n",
       "      <td>iraq</td>\n",
       "      <td>0.094129</td>\n",
       "    </tr>\n",
       "    <tr>\n",
       "      <th>212</th>\n",
       "      <td>bush</td>\n",
       "      <td>0.047730</td>\n",
       "    </tr>\n",
       "    <tr>\n",
       "      <th>25</th>\n",
       "      <td>stem</td>\n",
       "      <td>0.023525</td>\n",
       "    </tr>\n",
       "    <tr>\n",
       "      <th>244</th>\n",
       "      <td>law</td>\n",
       "      <td>0.022633</td>\n",
       "    </tr>\n",
       "    <tr>\n",
       "      <th>125</th>\n",
       "      <td>department</td>\n",
       "      <td>0.020737</td>\n",
       "    </tr>\n",
       "    <tr>\n",
       "      <th>266</th>\n",
       "      <td>american</td>\n",
       "      <td>0.018830</td>\n",
       "    </tr>\n",
       "    <tr>\n",
       "      <th>303</th>\n",
       "      <td>member</td>\n",
       "      <td>0.013136</td>\n",
       "    </tr>\n",
       "    <tr>\n",
       "      <th>44</th>\n",
       "      <td>war</td>\n",
       "      <td>0.012558</td>\n",
       "    </tr>\n",
       "    <tr>\n",
       "      <th>222</th>\n",
       "      <td>program</td>\n",
       "      <td>0.011143</td>\n",
       "    </tr>\n",
       "    <tr>\n",
       "      <th>64</th>\n",
       "      <td>country</td>\n",
       "      <td>0.010109</td>\n",
       "    </tr>\n",
       "  </tbody>\n",
       "</table>\n",
       "</div>"
      ],
      "text/plain": [
       "           word  elementwise divergence\n",
       "43         iraq                0.094129\n",
       "212        bush                0.047730\n",
       "25         stem                0.023525\n",
       "244         law                0.022633\n",
       "125  department                0.020737\n",
       "266    american                0.018830\n",
       "303      member                0.013136\n",
       "44          war                0.012558\n",
       "222     program                0.011143\n",
       "64      country                0.010109"
      ]
     },
     "execution_count": 130,
     "metadata": {},
     "output_type": "execute_result"
    }
   ],
   "source": [
    "kl_df.sort_values(by='elementwise divergence', ascending=False)[:10]"
   ]
  },
  {
   "cell_type": "markdown",
   "metadata": {},
   "source": [
    "Now we will apply what we learned today \n",
    "First, let's transform every text into normalized tokens. Note that in this first step, no stopword is removed.\n",
    "We'll use only the first 11 movies: you are welcome to try more."
   ]
  },
  {
   "cell_type": "code",
   "execution_count": 131,
   "metadata": {},
   "outputs": [],
   "source": [
    "corpora = []\n",
    "for index, row in movie_df.iterrows():\n",
    "    if len(corpora) > 10:\n",
    "        break\n",
    "    corpora.append(row['Tokenized Texts'])"
   ]
  },
  {
   "cell_type": "markdown",
   "metadata": {},
   "source": [
    "Then, let's separate the normalized tokens into stopwords and non-stopwords."
   ]
  },
  {
   "cell_type": "code",
   "execution_count": 132,
   "metadata": {},
   "outputs": [],
   "source": [
    "corpora_s = []\n",
    "corpora_nons = []\n",
    "for corpus in corpora:\n",
    "    s = []\n",
    "    nons = []\n",
    "    doc = nlp(' '.join(corpus))\n",
    "    for word in doc:\n",
    "        if word.is_stop:\n",
    "            s.append(word.text)\n",
    "        else:\n",
    "            nons.append(word.text)\n",
    "    corpora_s.append(s)\n",
    "    corpora_nons.append(nons)"
   ]
  },
  {
   "cell_type": "markdown",
   "metadata": {},
   "source": [
    "Define some covenient funtions for calculating divergence and distances."
   ]
  },
  {
   "cell_type": "code",
   "execution_count": 22,
   "metadata": {},
   "outputs": [],
   "source": [
    "def kl_divergence(X, Y):\n",
    "    P = X.copy()\n",
    "    Q = Y.copy()\n",
    "    P.columns = ['P']\n",
    "    Q.columns = ['Q']\n",
    "    df = Q.join(P).fillna(0)\n",
    "    p = df.iloc[:,1]\n",
    "    q = df.iloc[:,0]\n",
    "    D_kl = scipy.stats.entropy(p, q)\n",
    "    return D_kl\n",
    "\n",
    "def chi2_divergence(X,Y):\n",
    "    P = X.copy()\n",
    "    Q = Y.copy()\n",
    "    P.columns = ['P']\n",
    "    Q.columns = ['Q']\n",
    "    df = Q.join(P).fillna(0)\n",
    "    p = df.iloc[:,1]\n",
    "    q = df.iloc[:,0]\n",
    "    return scipy.stats.chisquare(p, q).statistic\n",
    "\n",
    "def Divergence(corpus1, corpus2, difference=\"KL\"):\n",
    "    \"\"\"Difference parameter can equal KL, Chi2, or Wass\"\"\"\n",
    "    freqP = nltk.FreqDist(corpus1)\n",
    "    P = pandas.DataFrame(list(freqP.values()), columns = ['frequency'], index = list(freqP.keys()))\n",
    "    freqQ = nltk.FreqDist(corpus2)\n",
    "    Q = pandas.DataFrame(list(freqQ.values()), columns = ['frequency'], index = list(freqQ.keys()))\n",
    "    if difference == \"KL\":\n",
    "        return kl_divergence(P, Q)\n",
    "    elif difference == \"Chi2\":\n",
    "        return chi2_divergence(P, Q)\n",
    "    elif difference == \"KS\":\n",
    "        try:\n",
    "            return scipy.stats.ks_2samp(P['frequency'], Q['frequency']).statistic\n",
    "        except:\n",
    "            return scipy.stats.ks_2samp(P['frequency'], Q['frequency'])\n",
    "    elif difference == \"Wasserstein\":\n",
    "        try:\n",
    "            return scipy.stats.wasserstein_distance(P['frequency'], Q['frequency'], u_weights=None, v_weights=None).statistic\n",
    "        except:\n",
    "            return scipy.stats.wasserstein_distance(P['frequency'], Q['frequency'], u_weights=None, v_weights=None)"
   ]
  },
  {
   "cell_type": "markdown",
   "metadata": {},
   "source": [
    "Now we will calculate the KL divergence for each pair of corpora, turn the results into a matrix, and visualize the matrix as a heatmap. Recall that $D_{\\mathrm{KL}}(P\\|Q)$ measures the amount of information loss when $Q$ is used to approximate $P$. Here, the rows are the $P$s used for calculating KL divergences, and the columns are the $Q$s. So, each cell measures the amount of information loss when the word distribution of the column text is used to approximate the word distribution of the row text. Because the KL divergence is directional, such that the divergence of $P$ from $Q$ is different from the same of $Q$ from $P$, the matrix is assymetric and contains unique information above and below the diagonal. The same is true for the $\\chi^2$ divergence."
   ]
  },
  {
   "cell_type": "code",
   "execution_count": 134,
   "metadata": {},
   "outputs": [
    {
     "data": {
      "text/plain": [
       "11"
      ]
     },
     "execution_count": 134,
     "metadata": {},
     "output_type": "execute_result"
    }
   ],
   "source": [
    "len(corpora)"
   ]
  },
  {
   "cell_type": "code",
   "execution_count": 135,
   "metadata": {},
   "outputs": [],
   "source": [
    "fileids = list(movie_df['Movie Name'])[0:11]"
   ]
  },
  {
   "cell_type": "code",
   "execution_count": 136,
   "metadata": {},
   "outputs": [
    {
     "data": {
      "image/png": "[encoded data removed]",
      "text/plain": [
       "<Figure size 432x288 with 2 Axes>"
      ]
     },
     "metadata": {},
     "output_type": "display_data"
    }
   ],
   "source": [
    "L = []\n",
    "for p in corpora:\n",
    "    l = []\n",
    "    for q in corpora:\n",
    "        l.append(Divergence(p,q, difference = 'KL'))\n",
    "    L.append(l)\n",
    "M = np.array(L)\n",
    "fig = plt.figure()\n",
    "div = pandas.DataFrame(M, columns = fileids, index = fileids)\n",
    "ax = sns.heatmap(div)\n",
    "plt.show()"
   ]
  },
  {
   "cell_type": "markdown",
   "metadata": {},
   "source": [
    "\n",
    "To reveal more patterns, let's do a multidimensional scaling of the matrix."
   ]
  },
  {
   "cell_type": "code",
   "execution_count": 137,
   "metadata": {},
   "outputs": [
    {
     "name": "stderr",
     "output_type": "stream",
     "text": [
      "C:\\Users\\Zacha\\anaconda3\\envs\\testing\\lib\\site-packages\\sklearn\\manifold\\_mds.py:518: UserWarning: The MDS API has changed. ``fit`` now constructs an dissimilarity matrix from data. To use a custom dissimilarity matrix, set ``dissimilarity='precomputed'``.\n",
      "  \"The MDS API has changed. ``fit`` now constructs an\"\n"
     ]
    },
    {
     "data": {
      "image/png": "[encoded data removed]",
      "text/plain": [
       "<Figure size 432x432 with 1 Axes>"
      ]
     },
     "metadata": {},
     "output_type": "display_data"
    }
   ],
   "source": [
    "mds = sklearn.manifold.MDS()\n",
    "pos = mds.fit(M).embedding_\n",
    "x = pos[:,0]\n",
    "y = pos[:,1]\n",
    "fig, ax = plt.subplots(figsize = (6,6))\n",
    "plt.plot(x, y, ' ')\n",
    "for i, txt in enumerate(fileids):\n",
    "    ax.annotate(txt, (x[i],y[i]))"
   ]
  },
  {
   "cell_type": "markdown",
   "metadata": {},
   "source": [
    "A co-respondent's course and The Chain Gang are away from the others - any guesses why?\n",
    "\n",
    "We may just want to focus on the distrbution of stopwords or non-stopwords. Let's do the analysis again first for stopwords and then for non-stopwords."
   ]
  },
  {
   "cell_type": "code",
   "execution_count": 138,
   "metadata": {},
   "outputs": [
    {
     "data": {
      "image/png": "[encoded data removed]",
      "text/plain": [
       "<Figure size 432x288 with 2 Axes>"
      ]
     },
     "metadata": {},
     "output_type": "display_data"
    }
   ],
   "source": [
    "L = []\n",
    "for p in corpora_s:\n",
    "    l = []\n",
    "    for q in corpora_s:\n",
    "        l.append(Divergence(p,q, difference='KL'))\n",
    "    L.append(l)\n",
    "M = np.array(L)\n",
    "fig = plt.figure()\n",
    "div = pandas.DataFrame(M, columns = fileids, index = fileids)\n",
    "ax = sns.heatmap(div)\n",
    "plt.show()"
   ]
  },
  {
   "cell_type": "code",
   "execution_count": 139,
   "metadata": {},
   "outputs": [
    {
     "name": "stderr",
     "output_type": "stream",
     "text": [
      "C:\\Users\\Zacha\\anaconda3\\envs\\testing\\lib\\site-packages\\scipy\\stats\\_entropy.py:72: RuntimeWarning: invalid value encountered in true_divide\n",
      "  pk = 1.0*pk / np.sum(pk, axis=axis, keepdims=True)\n"
     ]
    },
    {
     "data": {
      "image/png": "[encoded data removed]",
      "text/plain": [
       "<Figure size 432x288 with 2 Axes>"
      ]
     },
     "metadata": {},
     "output_type": "display_data"
    }
   ],
   "source": [
    "L = []\n",
    "for p in corpora_nons:\n",
    "    l = []\n",
    "    for q in corpora_nons:\n",
    "        l.append(Divergence(p,q, difference='KL'))\n",
    "    L.append(l)\n",
    "M = np.array(L)\n",
    "fig = plt.figure()\n",
    "div = pandas.DataFrame(M, columns = fileids, index = fileids)\n",
    "ax = sns.heatmap(div)\n",
    "plt.show()"
   ]
  },
  {
   "cell_type": "markdown",
   "metadata": {},
   "source": [
    "Now we compute the same for the assymmetric $\\chi^2$ Divergence."
   ]
  },
  {
   "cell_type": "code",
   "execution_count": 140,
   "metadata": {},
   "outputs": [
    {
     "ename": "ValueError",
     "evalue": "For each axis slice, the sum of the observed frequencies must agree with the sum of the expected frequencies to a relative tolerance of 1e-08, but the percent differences are:\n0.31088082901554404",
     "output_type": "error",
     "traceback": [
      "\u001b[1;31m---------------------------------------------------------------------------\u001b[0m",
      "\u001b[1;31mValueError\u001b[0m                                Traceback (most recent call last)",
      "\u001b[1;32m~\\AppData\\Local\\Temp/ipykernel_20328/737944259.py\u001b[0m in \u001b[0;36m<module>\u001b[1;34m\u001b[0m\n\u001b[0;32m      3\u001b[0m     \u001b[0ml\u001b[0m \u001b[1;33m=\u001b[0m \u001b[1;33m[\u001b[0m\u001b[1;33m]\u001b[0m\u001b[1;33m\u001b[0m\u001b[1;33m\u001b[0m\u001b[0m\n\u001b[0;32m      4\u001b[0m     \u001b[1;32mfor\u001b[0m \u001b[0mq\u001b[0m \u001b[1;32min\u001b[0m \u001b[0mcorpora_nons\u001b[0m\u001b[1;33m:\u001b[0m\u001b[1;33m\u001b[0m\u001b[1;33m\u001b[0m\u001b[0m\n\u001b[1;32m----> 5\u001b[1;33m         \u001b[0ml\u001b[0m\u001b[1;33m.\u001b[0m\u001b[0mappend\u001b[0m\u001b[1;33m(\u001b[0m\u001b[0mDivergence\u001b[0m\u001b[1;33m(\u001b[0m\u001b[0mp\u001b[0m\u001b[1;33m,\u001b[0m\u001b[0mq\u001b[0m\u001b[1;33m,\u001b[0m \u001b[0mdifference\u001b[0m\u001b[1;33m=\u001b[0m\u001b[1;34m'Chi2'\u001b[0m\u001b[1;33m)\u001b[0m\u001b[1;33m)\u001b[0m\u001b[1;33m\u001b[0m\u001b[1;33m\u001b[0m\u001b[0m\n\u001b[0m\u001b[0;32m      6\u001b[0m     \u001b[0mL\u001b[0m\u001b[1;33m.\u001b[0m\u001b[0mappend\u001b[0m\u001b[1;33m(\u001b[0m\u001b[0ml\u001b[0m\u001b[1;33m)\u001b[0m\u001b[1;33m\u001b[0m\u001b[1;33m\u001b[0m\u001b[0m\n\u001b[0;32m      7\u001b[0m \u001b[0mM\u001b[0m \u001b[1;33m=\u001b[0m \u001b[0mnp\u001b[0m\u001b[1;33m.\u001b[0m\u001b[0marray\u001b[0m\u001b[1;33m(\u001b[0m\u001b[0mL\u001b[0m\u001b[1;33m)\u001b[0m\u001b[1;33m\u001b[0m\u001b[1;33m\u001b[0m\u001b[0m\n",
      "\u001b[1;32m~\\AppData\\Local\\Temp/ipykernel_20328/1145688523.py\u001b[0m in \u001b[0;36mDivergence\u001b[1;34m(corpus1, corpus2, difference)\u001b[0m\n\u001b[0;32m     29\u001b[0m         \u001b[1;32mreturn\u001b[0m \u001b[0mkl_divergence\u001b[0m\u001b[1;33m(\u001b[0m\u001b[0mP\u001b[0m\u001b[1;33m,\u001b[0m \u001b[0mQ\u001b[0m\u001b[1;33m)\u001b[0m\u001b[1;33m\u001b[0m\u001b[1;33m\u001b[0m\u001b[0m\n\u001b[0;32m     30\u001b[0m     \u001b[1;32melif\u001b[0m \u001b[0mdifference\u001b[0m \u001b[1;33m==\u001b[0m \u001b[1;34m\"Chi2\"\u001b[0m\u001b[1;33m:\u001b[0m\u001b[1;33m\u001b[0m\u001b[1;33m\u001b[0m\u001b[0m\n\u001b[1;32m---> 31\u001b[1;33m         \u001b[1;32mreturn\u001b[0m \u001b[0mchi2_divergence\u001b[0m\u001b[1;33m(\u001b[0m\u001b[0mP\u001b[0m\u001b[1;33m,\u001b[0m \u001b[0mQ\u001b[0m\u001b[1;33m)\u001b[0m\u001b[1;33m\u001b[0m\u001b[1;33m\u001b[0m\u001b[0m\n\u001b[0m\u001b[0;32m     32\u001b[0m     \u001b[1;32melif\u001b[0m \u001b[0mdifference\u001b[0m \u001b[1;33m==\u001b[0m \u001b[1;34m\"KS\"\u001b[0m\u001b[1;33m:\u001b[0m\u001b[1;33m\u001b[0m\u001b[1;33m\u001b[0m\u001b[0m\n\u001b[0;32m     33\u001b[0m         \u001b[1;32mtry\u001b[0m\u001b[1;33m:\u001b[0m\u001b[1;33m\u001b[0m\u001b[1;33m\u001b[0m\u001b[0m\n",
      "\u001b[1;32m~\\AppData\\Local\\Temp/ipykernel_20328/1145688523.py\u001b[0m in \u001b[0;36mchi2_divergence\u001b[1;34m(X, Y)\u001b[0m\n\u001b[0;32m     18\u001b[0m     \u001b[0mp\u001b[0m \u001b[1;33m=\u001b[0m \u001b[0mdf\u001b[0m\u001b[1;33m.\u001b[0m\u001b[0miloc\u001b[0m\u001b[1;33m[\u001b[0m\u001b[1;33m:\u001b[0m\u001b[1;33m,\u001b[0m\u001b[1;36m1\u001b[0m\u001b[1;33m]\u001b[0m\u001b[1;33m\u001b[0m\u001b[1;33m\u001b[0m\u001b[0m\n\u001b[0;32m     19\u001b[0m     \u001b[0mq\u001b[0m \u001b[1;33m=\u001b[0m \u001b[0mdf\u001b[0m\u001b[1;33m.\u001b[0m\u001b[0miloc\u001b[0m\u001b[1;33m[\u001b[0m\u001b[1;33m:\u001b[0m\u001b[1;33m,\u001b[0m\u001b[1;36m0\u001b[0m\u001b[1;33m]\u001b[0m\u001b[1;33m\u001b[0m\u001b[1;33m\u001b[0m\u001b[0m\n\u001b[1;32m---> 20\u001b[1;33m     \u001b[1;32mreturn\u001b[0m \u001b[0mscipy\u001b[0m\u001b[1;33m.\u001b[0m\u001b[0mstats\u001b[0m\u001b[1;33m.\u001b[0m\u001b[0mchisquare\u001b[0m\u001b[1;33m(\u001b[0m\u001b[0mp\u001b[0m\u001b[1;33m,\u001b[0m \u001b[0mq\u001b[0m\u001b[1;33m)\u001b[0m\u001b[1;33m.\u001b[0m\u001b[0mstatistic\u001b[0m\u001b[1;33m\u001b[0m\u001b[1;33m\u001b[0m\u001b[0m\n\u001b[0m\u001b[0;32m     21\u001b[0m \u001b[1;33m\u001b[0m\u001b[0m\n\u001b[0;32m     22\u001b[0m \u001b[1;32mdef\u001b[0m \u001b[0mDivergence\u001b[0m\u001b[1;33m(\u001b[0m\u001b[0mcorpus1\u001b[0m\u001b[1;33m,\u001b[0m \u001b[0mcorpus2\u001b[0m\u001b[1;33m,\u001b[0m \u001b[0mdifference\u001b[0m\u001b[1;33m=\u001b[0m\u001b[1;34m\"KL\"\u001b[0m\u001b[1;33m)\u001b[0m\u001b[1;33m:\u001b[0m\u001b[1;33m\u001b[0m\u001b[1;33m\u001b[0m\u001b[0m\n",
      "\u001b[1;32m~\\anaconda3\\envs\\testing\\lib\\site-packages\\scipy\\stats\\stats.py\u001b[0m in \u001b[0;36mchisquare\u001b[1;34m(f_obs, f_exp, ddof, axis)\u001b[0m\n\u001b[0;32m   6851\u001b[0m     \"\"\"\n\u001b[0;32m   6852\u001b[0m     return power_divergence(f_obs, f_exp=f_exp, ddof=ddof, axis=axis,\n\u001b[1;32m-> 6853\u001b[1;33m                             lambda_=\"pearson\")\n\u001b[0m\u001b[0;32m   6854\u001b[0m \u001b[1;33m\u001b[0m\u001b[0m\n\u001b[0;32m   6855\u001b[0m \u001b[1;33m\u001b[0m\u001b[0m\n",
      "\u001b[1;32m~\\anaconda3\\envs\\testing\\lib\\site-packages\\scipy\\stats\\stats.py\u001b[0m in \u001b[0;36mpower_divergence\u001b[1;34m(f_obs, f_exp, ddof, axis, lambda_)\u001b[0m\n\u001b[0;32m   6692\u001b[0m                    \u001b[1;34mf\"of {rtol}, but the percent differences are:\\n\"\u001b[0m\u001b[1;33m\u001b[0m\u001b[1;33m\u001b[0m\u001b[0m\n\u001b[0;32m   6693\u001b[0m                    f\"{relative_diff}\")\n\u001b[1;32m-> 6694\u001b[1;33m             \u001b[1;32mraise\u001b[0m \u001b[0mValueError\u001b[0m\u001b[1;33m(\u001b[0m\u001b[0mmsg\u001b[0m\u001b[1;33m)\u001b[0m\u001b[1;33m\u001b[0m\u001b[1;33m\u001b[0m\u001b[0m\n\u001b[0m\u001b[0;32m   6695\u001b[0m \u001b[1;33m\u001b[0m\u001b[0m\n\u001b[0;32m   6696\u001b[0m     \u001b[1;32melse\u001b[0m\u001b[1;33m:\u001b[0m\u001b[1;33m\u001b[0m\u001b[1;33m\u001b[0m\u001b[0m\n",
      "\u001b[1;31mValueError\u001b[0m: For each axis slice, the sum of the observed frequencies must agree with the sum of the expected frequencies to a relative tolerance of 1e-08, but the percent differences are:\n0.31088082901554404"
     ]
    }
   ],
   "source": [
    "L = []\n",
    "for p in corpora_nons:\n",
    "    l = []\n",
    "    for q in corpora_nons:\n",
    "        l.append(Divergence(p,q, difference='Chi2'))\n",
    "    L.append(l)\n",
    "M = np.array(L)\n",
    "fig = plt.figure()\n",
    "div = pandas.DataFrame(M, columns = fileids, index = fileids)\n",
    "ax = sns.heatmap(div)\n",
    "plt.show()"
   ]
  },
  {
   "cell_type": "markdown",
   "metadata": {
    "scrolled": true
   },
   "source": [
    "For the KS distance:"
   ]
  },
  {
   "cell_type": "code",
   "execution_count": 141,
   "metadata": {},
   "outputs": [
    {
     "data": {
      "image/png": "[encoded data removed]",
      "text/plain": [
       "<Figure size 432x288 with 2 Axes>"
      ]
     },
     "metadata": {},
     "output_type": "display_data"
    }
   ],
   "source": [
    "L = []\n",
    "for p in corpora_nons:\n",
    "    l = []\n",
    "    for q in corpora_nons:\n",
    "        l.append(Divergence(p,q, difference='KS'))\n",
    "    L.append(l)\n",
    "M = np.array(L)\n",
    "fig = plt.figure()\n",
    "div = pandas.DataFrame(M, columns = fileids, index = fileids)\n",
    "ax = sns.heatmap(div)\n",
    "plt.show()"
   ]
  },
  {
   "cell_type": "markdown",
   "metadata": {},
   "source": [
    "And finally for the Wasserstein or \"earth mover's\" Distance."
   ]
  },
  {
   "cell_type": "code",
   "execution_count": 142,
   "metadata": {},
   "outputs": [
    {
     "data": {
      "image/png": "[encoded data removed]",
      "text/plain": [
       "<Figure size 432x288 with 2 Axes>"
      ]
     },
     "metadata": {},
     "output_type": "display_data"
    }
   ],
   "source": [
    "L = []\n",
    "for p in corpora_nons:\n",
    "    l = []\n",
    "    for q in corpora_nons:\n",
    "        l.append(Divergence(p,q, difference='Wasserstein'))\n",
    "    L.append(l)\n",
    "M = np.array(L)\n",
    "fig = plt.figure()\n",
    "div = pandas.DataFrame(M, columns = fileids, index = fileids)\n",
    "ax = sns.heatmap(div)\n",
    "plt.show()"
   ]
  },
  {
   "cell_type": "markdown",
   "metadata": {},
   "source": [
    "You can see that decade X is highly divergent and this makes reading the plot somewhat difficult. Let's fix this by taking the log of each cell, which will reduce the distance of decode X from other texts as an outlier."
   ]
  },
  {
   "cell_type": "code",
   "execution_count": 143,
   "metadata": {},
   "outputs": [
    {
     "data": {
      "image/png": "[encoded data removed]",
      "text/plain": [
       "<Figure size 432x288 with 2 Axes>"
      ]
     },
     "metadata": {},
     "output_type": "display_data"
    }
   ],
   "source": [
    "ax = sns.heatmap(div.apply(np.log).replace([np.inf, -np.inf], np.nan))\n",
    "plt.show()"
   ]
  },
  {
   "cell_type": "markdown",
   "metadata": {},
   "source": [
    "We only tried 11 movies, and from the same time period, so our signals might not be too interesting. What about different time periods?\n",
    "\n",
    "An interesting experiment to maybe get some clearer signals: documents by decade in the Davies Corpus Of Historial American English (COHA) and see if we can detect patterns between them. \n",
    "\n",
    "If we want to rerun this on a new data set of our own composition, we can be a bit more efficient with our coding. Let's use the Shakespeare texts from last week as example. Here we again make use of our convenient `lucem_illud` functions, namely `loadTextDirectory`, which is found in [loaders.py](https://github.com/UChicago-Computational-Content-Analysis/lucem_illud/blob/main/lucem_illud/loaders.py). "
   ]
  },
  {
   "cell_type": "code",
   "execution_count": 144,
   "metadata": {},
   "outputs": [],
   "source": [
    "def loadTextDirectory(targetDir, encoding = 'utf-8'):\n",
    "    text = []\n",
    "    fileName = []\n",
    "\n",
    "    for file in (file for file in os.scandir(targetDir) if file.is_file() and not file.name.startswith('.')):\n",
    "        with open(file.path, encoding = encoding) as f:\n",
    "            text.append(f.read())\n",
    "        fileName.append(file.name)\n",
    "    return pandas.DataFrame({'text' : text}, index = fileName)"
   ]
  },
  {
   "cell_type": "code",
   "execution_count": 4,
   "metadata": {},
   "outputs": [],
   "source": [
    "shakespeare_df = lucem_illud.loadTextDirectory('../data/Shakespeare')"
   ]
  },
  {
   "cell_type": "markdown",
   "metadata": {},
   "source": [
    "Now we stem and remove stopwords"
   ]
  },
  {
   "cell_type": "code",
   "execution_count": 20,
   "metadata": {},
   "outputs": [],
   "source": [
    "nlp = spacy.load('en_core_web_sm')\n",
    "\n",
    "shakespeare_df['tokenized_text'] = shakespeare_df['text'].apply(lambda x: word_tokenize(x))\n",
    "shakespeare_df['normalized_tokens'] = shakespeare_df['tokenized_text'].apply(lambda x: normalizeTokens(x))"
   ]
  },
  {
   "cell_type": "markdown",
   "metadata": {},
   "source": [
    "Create the corpus file and generate the heatmap:"
   ]
  },
  {
   "cell_type": "code",
   "execution_count": 25,
   "metadata": {},
   "outputs": [
    {
     "data": {
      "image/png": "[encoded data removed]",
      "text/plain": [
       "<Figure size 432x288 with 2 Axes>"
      ]
     },
     "metadata": {
      "needs_background": "light"
     },
     "output_type": "display_data"
    }
   ],
   "source": [
    "measure = 'KS' #\"KL\", \"Chi2\", \"KS\", \"Wasserstein\"\n",
    "num_of_texts = 10 #The bigger this number the slower it will run, you can also try selecting your own plays\n",
    "fileids_sp = list(shakespeare_df[:num_of_texts].index)\n",
    "corpora_sp = list(shakespeare_df[:num_of_texts]['normalized_tokens'])\n",
    "L = []\n",
    "for p in corpora_sp:\n",
    "    l = []\n",
    "    for q in corpora_sp:\n",
    "        l.append(Divergence(p,q, difference=measure))\n",
    "    L.append(l)\n",
    "M = np.array(L)\n",
    "fig = plt.figure()\n",
    "div = pandas.DataFrame(M, columns = fileids_sp, index = fileids_sp)\n",
    "ax = sns.heatmap(div)\n",
    "plt.show()"
   ]
  },
  {
   "cell_type": "markdown",
   "metadata": {},
   "source": [
    "What are \"The Passionate Pilgrim\" and \"The Phoenix and the Turtle\"? Little known poems by Shakespeare that are unsurprisingly hard to classify, as they are so different from everything else he wrote."
   ]
  },
  {
   "cell_type": "markdown",
   "metadata": {},
   "source": [
    "## <font color=\"red\">*Exercise 7*</font>\n",
    "\n",
    "<font color=\"red\">Construct cells immediately below this that calculate the KL and $\\chi^2$ divergences, and the KS and Wasserstein distances between four separate corpora, plot these with heatmaps, and then array them in two dimensions with multidimensional scaling as above. What does this reveal about relations between the corpora? Which analysis (and divergence or distribution) distinguishes the authors or documents better?\n",
    "\n",
    "**Stretch**: Calculate the [Jensen-Shannon Divergence](https://en.wikipedia.org/wiki/Jensen–Shannon_divergence) between your four corpora. What is the relationship between the KL and JS divergences?</font> "
   ]
  }
 ],
 "metadata": {
  "anaconda-cloud": {},
  "kernelspec": {
   "display_name": "Python 3 (ipykernel)",
   "language": "python",
   "name": "python3"
  },
  "language_info": {
   "codemirror_mode": {
    "name": "ipython",
    "version": 3
   },
   "file_extension": ".py",
   "mimetype": "text/x-python",
   "name": "python",
   "nbconvert_exporter": "python",
   "pygments_lexer": "ipython3",
   "version": "3.7.11"
  }
 },
 "nbformat": 4,
 "nbformat_minor": 1
}
